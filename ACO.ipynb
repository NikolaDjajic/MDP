{
 "cells": [
  {
   "cell_type": "code",
   "execution_count": 65,
   "metadata": {},
   "outputs": [],
   "source": [
    "import random\n",
    "import networkx as nx\n",
    "import itertools\n",
    "import time"
   ]
  },
  {
   "cell_type": "code",
   "execution_count": 66,
   "metadata": {},
   "outputs": [],
   "source": [
    "def load_graph(file_path):\n",
    "    G = nx.Graph() \n",
    "\n",
    "    with open(file_path, \"r\") as file:\n",
    "        for line in file:\n",
    "            parts = line.split()\n",
    "            \n",
    "            node1 = int(parts[0]) \n",
    "            node2 = int(parts[1])  \n",
    "            G.add_edge(node1, node2) \n",
    "    return G"
   ]
  },
  {
   "cell_type": "code",
   "execution_count": 67,
   "metadata": {},
   "outputs": [],
   "source": [
    "def load_gcol(file_path):\n",
    "    G = nx.Graph() \n",
    "\n",
    "    with open(file_path, \"r\") as file:\n",
    "        for line in file:\n",
    "            parts = line.split()\n",
    "            if parts[0] == 'e':\n",
    "                node1 = int(parts[1]) \n",
    "                node2 = int(parts[2])  \n",
    "                G.add_edge(node1, node2) \n",
    "    return G"
   ]
  },
  {
   "cell_type": "code",
   "execution_count": 68,
   "metadata": {},
   "outputs": [],
   "source": [
    "def is_resolving_set(B, G):\n",
    "    distances = {}\n",
    "    for v in G.nodes:\n",
    "        distances[v] = [nx.shortest_path_length(G, v, u) for u in B]\n",
    "    \n",
    "    for v1, v2 in itertools.combinations(G.nodes, 2):\n",
    "        if distances[v1] == distances[v2]:\n",
    "            return False\n",
    "    return True"
   ]
  },
  {
   "cell_type": "code",
   "execution_count": 69,
   "metadata": {},
   "outputs": [],
   "source": [
    "def fitness(resolving_set,G,shortest_paths,all_pairs):\n",
    "    unresolved_pairs = 0\n",
    "    for u, v in all_pairs:\n",
    "        if not any(abs(shortest_paths[u][j] - shortest_paths[v][j]) > 0 for j in resolving_set if j in shortest_paths[u]):\n",
    "            unresolved_pairs += 1  # Par (u, v) nije razrešen\n",
    "\n",
    "    return len(resolving_set) + 50 * unresolved_pairs  # Penalizacija nerešenih parova"
   ]
  },
  {
   "cell_type": "code",
   "execution_count": 70,
   "metadata": {},
   "outputs": [],
   "source": [
    "def construct_solution(G,pheromones,heuristics,alpha,beta,shortest_paths,all_pairs):\n",
    "    resolving_set = set()\n",
    "    available_nodes = set(G.nodes)\n",
    "\n",
    "    while available_nodes:\n",
    "        # Računanje verovatnoće izbora svakog čvora\n",
    "        probabilities = {node: (pheromones[node] ** alpha) * (heuristics[node] ** beta) for node in available_nodes}\n",
    "        total = sum(probabilities.values())\n",
    "        \n",
    "        if total == 0:\n",
    "            break\n",
    "        \n",
    "        # Normalizacija verovatnoća\n",
    "        probabilities = {node: prob / total for node, prob in probabilities.items()}\n",
    "\n",
    "        # Izbor čvora proporcionalno verovatnoći\n",
    "        selected_node = random.choices(list(probabilities.keys()), weights=list(probabilities.values()))[0]\n",
    "        resolving_set.add(selected_node)\n",
    "        available_nodes.remove(selected_node)\n",
    "\n",
    "        # Ako je rešenje dovoljno dobro, prekidamo ranije\n",
    "        if fitness(resolving_set,G,shortest_paths,all_pairs) < 100:\n",
    "            break\n",
    "\n",
    "    return resolving_set"
   ]
  },
  {
   "cell_type": "code",
   "execution_count": 71,
   "metadata": {},
   "outputs": [],
   "source": [
    "def update_pheromones(best_solution,pheromones,evaporation,Q,G,shortest_paths,all_pairs):\n",
    "    # Isparavanje feromona\n",
    "    for node in pheromones:\n",
    "        pheromones[node] *= (1 - evaporation)\n",
    "    \n",
    "    # Dodavanje novih feromona na čvorove iz najboljeg rešenja\n",
    "    for node in best_solution:\n",
    "        pheromones[node] += Q / fitness(best_solution,G,shortest_paths,all_pairs)"
   ]
  },
  {
   "cell_type": "code",
   "execution_count": 72,
   "metadata": {},
   "outputs": [],
   "source": [
    "def ant_colony_optimization(G,num_iterations,num_ants,alpha,beta,evaporation,pheromones,heuristics,Q,shortest_paths,all_pairs):\n",
    "    best_solution = None\n",
    "    best_fitness = float(\"inf\")\n",
    "\n",
    "    for iteration in range(num_iterations):\n",
    "        solutions = [construct_solution(G,pheromones,heuristics,alpha,beta,shortest_paths,all_pairs) for _ in range(num_ants)]\n",
    "        sorted_solutions = sorted(solutions, key=lambda s: fitness(s, G,shortest_paths,all_pairs))        \n",
    "        if fitness(sorted_solutions[0],G,shortest_paths,all_pairs) < best_fitness:\n",
    "            best_solution = sorted_solutions[0]\n",
    "            best_fitness = fitness(best_solution,G,shortest_paths,all_pairs)\n",
    "\n",
    "        update_pheromones(best_solution,pheromones,evaporation,Q,G,shortest_paths,all_pairs)\n",
    "        \n",
    "        print(f\"Iteracija {iteration}, najbolji skup {best_fitness},  {best_solution}\")\n",
    "    print(\"\\nOptimalni rešavajući skup:\", best_solution, 'velicine:',len(best_solution))\n",
    "    return best_solution"
   ]
  },
  {
   "cell_type": "code",
   "execution_count": 73,
   "metadata": {},
   "outputs": [
    {
     "name": "stderr",
     "output_type": "stream",
     "text": [
      "<>:1: SyntaxWarning: invalid escape sequence '\\g'\n",
      "<>:1: SyntaxWarning: invalid escape sequence '\\g'\n",
      "C:\\Users\\Korisnik\\AppData\\Local\\Temp\\ipykernel_383008\\2240113972.py:1: SyntaxWarning: invalid escape sequence '\\g'\n",
      "  G = load_gcol('grafovi\\gcol\\gcol2.txt')\n"
     ]
    },
    {
     "name": "stdout",
     "output_type": "stream",
     "text": [
      "Iteracija 0, najbolji skup 10,  {64, 65, 98, 66, 9, 10, 16, 55, 92, 31}\n",
      "Iteracija 1, najbolji skup 10,  {64, 65, 98, 66, 9, 10, 16, 55, 92, 31}\n",
      "Iteracija 2, najbolji skup 10,  {64, 65, 98, 66, 9, 10, 16, 55, 92, 31}\n",
      "Iteracija 3, najbolji skup 10,  {64, 65, 98, 66, 9, 10, 16, 55, 92, 31}\n",
      "Iteracija 4, najbolji skup 10,  {64, 65, 98, 66, 9, 10, 16, 55, 92, 31}\n",
      "Iteracija 5, najbolji skup 10,  {64, 65, 98, 66, 9, 10, 16, 55, 92, 31}\n",
      "Iteracija 6, najbolji skup 10,  {64, 65, 98, 66, 9, 10, 16, 55, 92, 31}\n",
      "Iteracija 7, najbolji skup 10,  {64, 65, 98, 66, 9, 10, 16, 55, 92, 31}\n",
      "Iteracija 8, najbolji skup 10,  {64, 65, 98, 66, 9, 10, 16, 55, 92, 31}\n",
      "Iteracija 9, najbolji skup 10,  {64, 65, 98, 66, 9, 10, 16, 55, 92, 31}\n",
      "\n",
      "Optimalni rešavajući skup: {64, 65, 98, 66, 9, 10, 16, 55, 92, 31} velicine: 10\n",
      "Vrijeme  18.523040771484375\n"
     ]
    },
    {
     "data": {
      "text/plain": [
       "True"
      ]
     },
     "execution_count": 73,
     "metadata": {},
     "output_type": "execute_result"
    }
   ],
   "source": [
    "G = load_gcol('grafovi\\gcol\\gcol2.txt')\n",
    "n = len(G.nodes)\n",
    "\n",
    "num_ants = 70    \n",
    "num_iterations = 10 \n",
    "alpha = 2.0\n",
    "beta = 1.0\n",
    "evaporation = 0.1\n",
    "Q = 400  \n",
    "\n",
    "# Inicijalizacija feromona\n",
    "pheromones = {node: 1.0 for node in G.nodes}\n",
    "\n",
    "# heuristics = {node: 1.0 / (sum(nx.shortest_path_length(G, node, j) for j in G.nodes if j != node) + 1) for node in G.nodes}\n",
    "start_time1 = time.time()\n",
    "\n",
    "centrality = nx.betweenness_centrality(G)\n",
    "heuristics = {node: centrality[node] for node in G.nodes}\n",
    "\n",
    "shortest_paths = dict(nx.all_pairs_shortest_path_length(G))  # Svi putevi između svih parova\n",
    "all_pairs = list(itertools.combinations(G.nodes, 2))\n",
    "\n",
    "rez = ant_colony_optimization(G,num_iterations,num_ants,alpha,beta,evaporation,pheromones,heuristics,Q,shortest_paths,all_pairs)\n",
    "end_time1 = time.time()\n",
    "print(\"Vrijeme \", end_time1-start_time1)\n",
    "is_resolving_set(rez,G)\n"
   ]
  }
 ],
 "metadata": {
  "kernelspec": {
   "display_name": "Python 3",
   "language": "python",
   "name": "python3"
  },
  "language_info": {
   "codemirror_mode": {
    "name": "ipython",
    "version": 3
   },
   "file_extension": ".py",
   "mimetype": "text/x-python",
   "name": "python",
   "nbconvert_exporter": "python",
   "pygments_lexer": "ipython3",
   "version": "3.13.3"
  }
 },
 "nbformat": 4,
 "nbformat_minor": 2
}
