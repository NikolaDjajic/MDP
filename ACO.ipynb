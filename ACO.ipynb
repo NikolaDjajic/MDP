{
 "cells": [
  {
   "cell_type": "code",
   "execution_count": null,
   "metadata": {},
   "outputs": [],
   "source": [
    "import random\n",
    "import networkx as nx\n",
    "import itertools\n",
    "import time"
   ]
  },
  {
   "cell_type": "code",
   "execution_count": null,
   "metadata": {},
   "outputs": [],
   "source": [
    "def load_graph(file_path):\n",
    "    G = nx.Graph() \n",
    "\n",
    "    with open(file_path, \"r\") as file:\n",
    "        for line in file:\n",
    "            parts = line.split()\n",
    "            \n",
    "            node1 = int(parts[0]) \n",
    "            node2 = int(parts[1])  \n",
    "            G.add_edge(node1, node2) \n",
    "    return G"
   ]
  },
  {
   "cell_type": "code",
   "execution_count": null,
   "metadata": {},
   "outputs": [],
   "source": [
    "def load_gcol(file_path):\n",
    "    G = nx.Graph() \n",
    "\n",
    "    with open(file_path, \"r\") as file:\n",
    "        for line in file:\n",
    "            parts = line.split()\n",
    "            if parts[0] == 'e':\n",
    "                node1 = int(parts[1]) \n",
    "                node2 = int(parts[2])  \n",
    "                G.add_edge(node1, node2) \n",
    "    return G"
   ]
  },
  {
   "cell_type": "code",
   "execution_count": null,
   "metadata": {},
   "outputs": [],
   "source": [
    "def is_resolving_set(B, G):\n",
    "    distances = {}\n",
    "    for v in G.nodes:\n",
    "        distances[v] = [nx.shortest_path_length(G, v, u) for u in B]\n",
    "    \n",
    "    for v1, v2 in itertools.combinations(G.nodes, 2):\n",
    "        if distances[v1] == distances[v2]:\n",
    "            return False\n",
    "    return True"
   ]
  },
  {
   "cell_type": "code",
   "execution_count": null,
   "metadata": {},
   "outputs": [],
   "source": [
    "def fitness(resolving_set,G,shortest_paths,all_pairs):\n",
    "    unresolved_pairs = 0\n",
    "    for u, v in all_pairs:\n",
    "        if not any(abs(shortest_paths[u][j] - shortest_paths[v][j]) > 0 for j in resolving_set if j in shortest_paths[u]):\n",
    "            unresolved_pairs += 1\n",
    "\n",
    "    return len(resolving_set) + 50 * unresolved_pairs "
   ]
  },
  {
   "cell_type": "code",
   "execution_count": null,
   "metadata": {},
   "outputs": [],
   "source": [
    "def construct_solution1(G,pheromones,heuristics,alpha,beta,shortest_paths,all_pairs):\n",
    "    resolving_set = set()\n",
    "    available_nodes = set(G.nodes)\n",
    "\n",
    "    while available_nodes:\n",
    "        # Računanje vjerovatnoće izbora svakog čvora\n",
    "        probabilities = {node: (pheromones[node] ** alpha) * (heuristics[node] ** beta) for node in available_nodes}\n",
    "        total = sum(probabilities.values())\n",
    "        \n",
    "        if total == 0:\n",
    "            break\n",
    "        \n",
    "        # Normalizacija vjerovatnoća\n",
    "        probabilities = {node: prob / total for node, prob in probabilities.items()}\n",
    "\n",
    "      \n",
    "        selected_node = random.choices(list(probabilities.keys()), weights=list(probabilities.values()))[0]\n",
    "        resolving_set.add(selected_node)\n",
    "        available_nodes.remove(selected_node)\n",
    "\n",
    "        # Ako je rješenje dovoljno dobro, prekidamo ranije\n",
    "        if fitness(resolving_set,G,shortest_paths,all_pairs) < 100:\n",
    "            break\n",
    "\n",
    "    return resolving_set"
   ]
  },
  {
   "cell_type": "code",
   "execution_count": null,
   "metadata": {},
   "outputs": [],
   "source": [
    "def construct_solution2(G, pheromones,heuristics, alpha, beta, shortest_paths, all_pairs):\n",
    "    resolving_set = set()\n",
    "    available_nodes = set(G.nodes)\n",
    "\n",
    "    while available_nodes:\n",
    "\n",
    "        G_sub = G.subgraph(available_nodes)\n",
    "\n",
    "        heuristics = nx.betweenness_centrality(G_sub, normalized=True)\n",
    "\n",
    "        probabilities = {node: (pheromones[node] ** alpha) * (heuristics[node] ** beta) for node in available_nodes}\n",
    "\n",
    "        total = sum(probabilities.values())\n",
    "\n",
    "        if total == 0:\n",
    "            break\n",
    "\n",
    "        probabilities = {node: w / total for node, w in probabilities.items()}\n",
    "\n",
    "        selected_node = random.choices(population=list(probabilities.keys()), weights=list(probabilities.values()))[0]\n",
    "        resolving_set.add(selected_node)\n",
    "        available_nodes.remove(selected_node)\n",
    "\n",
    "        if fitness(resolving_set, G, shortest_paths, all_pairs) < 100:\n",
    "            break\n",
    "\n",
    "    return resolving_set"
   ]
  },
  {
   "cell_type": "code",
   "execution_count": null,
   "metadata": {},
   "outputs": [],
   "source": [
    "def update_pheromones(best_solution,pheromones,evaporation,Q,G,shortest_paths,all_pairs):\n",
    "    for node in pheromones:\n",
    "        pheromones[node] *= (1 - evaporation)\n",
    "\n",
    "    for node in best_solution:\n",
    "        pheromones[node] += Q / fitness(best_solution,G,shortest_paths,all_pairs)"
   ]
  },
  {
   "cell_type": "code",
   "execution_count": null,
   "metadata": {},
   "outputs": [],
   "source": [
    "def ant_colony_optimization(G,pheromones,heuristics,shortest_paths,all_pairs,num_iterations,num_ants,alpha,beta,evaporation,Q,stop):\n",
    "    best_solution = None\n",
    "    best_fitness = float(\"inf\")\n",
    "    no_improvement = 0\n",
    "\n",
    "    for iteration in range(num_iterations):\n",
    "        solutions = [construct_solution1(G,pheromones,heuristics,alpha,beta,shortest_paths,all_pairs) for _ in range(num_ants)]\n",
    "        \n",
    "        sorted_solutions = sorted(solutions, key=lambda s: fitness(s, G,shortest_paths,all_pairs))        \n",
    "        if fitness(sorted_solutions[0],G,shortest_paths,all_pairs) < best_fitness:\n",
    "            best_solution = sorted_solutions[0]\n",
    "            best_fitness = fitness(best_solution,G,shortest_paths,all_pairs)\n",
    "            no_improvement = 0\n",
    "        else:\n",
    "            no_improvement += 1\n",
    "\n",
    "        if no_improvement >= stop:\n",
    "            print(f\"Prekid: nema poboljšanja tokom {stop} generacija.\")\n",
    "            break\n",
    "\n",
    "        update_pheromones(best_solution,pheromones,evaporation,Q,G,shortest_paths,all_pairs)\n",
    "        \n",
    "        print(f\"Iteracija {iteration}, najbolji skup {best_fitness},  {best_solution}\")\n",
    "    print(\"\\nOptimalni rješavajući skup:\", best_solution, 'velicine:',len(best_solution))\n",
    "    return best_solution,len(best_solution)"
   ]
  },
  {
   "cell_type": "code",
   "execution_count": null,
   "metadata": {},
   "outputs": [],
   "source": [
    "G = load_gcol('grafovi\\gcol\\gcol26.txt')\n",
    "\n",
    "if not nx.is_connected(G):\n",
    "    print(\"Graf nije povezan!\")\n",
    "    largest_cc = max(nx.connected_components(G), key=len)\n",
    "    G = G.subgraph(largest_cc).copy()\n",
    "\n",
    "n = len(G.nodes)\n",
    "centrality = nx.betweenness_centrality(G)\n",
    "# heuristics = {node: 1.0 / (sum(nx.shortest_path_length(G, node, j) for j in G.nodes if j != node) + 1) for node in G.nodes}\n",
    "heuristics = {node: centrality[node] for node in G.nodes}\n",
    "shortest_paths = dict(nx.all_pairs_shortest_path_length(G))\n",
    "all_pairs = list(itertools.combinations(G.nodes, 2))\n",
    "pheromones = {node: 1.0 for node in G.nodes}"
   ]
  },
  {
   "cell_type": "code",
   "execution_count": null,
   "metadata": {},
   "outputs": [],
   "source": [
    "param_grid = {\n",
    "    'alpha': [1],\n",
    "    'beta': [10] ,           # umjerena važnost heuristike (npr. betweenness)\n",
    "    'evaporation': [0.7],         # dosta brzo isparavanje — algoritam brzo “zaboravlja”\n",
    "    'Q': [50],                # visoke vrijednosti → jači doprinos dobrih rješenja\n",
    "    'num_ants': [30],         # dovoljno da se pokrije prostor pretrage\n",
    "    'num_iterations': [30],       # relativno mali broj iteracija — štedi vrijeme\n",
    "    'stop': [3]                # rani prekid ako se ne vidi napredak\n",
    "}\n",
    "\n",
    "best_score = float('inf')\n",
    "best_params = None\n",
    "\n",
    "for combo in itertools.product(*param_grid.values()):\n",
    "    params = dict(zip(param_grid.keys(), combo))\n",
    "    \n",
    "    print(f\"Testing: {params}\")\n",
    "    \n",
    "    start_time = time.time()  \n",
    "    os, score = ant_colony_optimization(G,pheromones,heuristics,shortest_paths,all_pairs,**params)\n",
    "    end_time = time.time()    \n",
    "    \n",
    "    duration = end_time - start_time\n",
    "    print(f\"🔁 Rezultat: {score} | ⏱️ Vrijeme: {duration:.2f} sekundi\",os)\n",
    "    \n",
    "    if (score < best_score) or (score == best_score and duration < duration1):\n",
    "        if(is_resolving_set(os,G)):\n",
    "            best_score = score\n",
    "            best_params = params\n",
    "            duration1 = duration\n",
    "\n",
    "print(\"\\n✅ Najbolji rezultat:\", best_score)\n",
    "print(\"📌 Najbolji parametri:\", best_params)\n",
    "print(\"📌 Vrijeme:\", duration1)"
   ]
  },
  {
   "cell_type": "code",
   "execution_count": null,
   "metadata": {},
   "outputs": [],
   "source": [
    "is_resolving_set(os,G)"
   ]
  }
 ],
 "metadata": {
  "kernelspec": {
   "display_name": "Python 3",
   "language": "python",
   "name": "python3"
  },
  "language_info": {
   "codemirror_mode": {
    "name": "ipython",
    "version": 3
   },
   "file_extension": ".py",
   "mimetype": "text/x-python",
   "name": "python",
   "nbconvert_exporter": "python",
   "pygments_lexer": "ipython3",
   "version": "3.13.3"
  }
 },
 "nbformat": 4,
 "nbformat_minor": 2
}
