{
 "cells": [
  {
   "cell_type": "code",
   "execution_count": 19,
   "metadata": {},
   "outputs": [],
   "source": [
    "import random\n",
    "import networkx as nx\n",
    "import itertools"
   ]
  },
  {
   "cell_type": "code",
   "execution_count": 20,
   "metadata": {},
   "outputs": [],
   "source": [
    "def load_graph(file_path):\n",
    "    G = nx.Graph() \n",
    "\n",
    "    with open(file_path, \"r\") as file:\n",
    "        for line in file:\n",
    "            parts = line.split()\n",
    "            \n",
    "            node1 = int(parts[0]) \n",
    "            node2 = int(parts[1])  \n",
    "            G.add_edge(node1, node2) \n",
    "    return G"
   ]
  },
  {
   "cell_type": "code",
   "execution_count": 21,
   "metadata": {},
   "outputs": [],
   "source": [
    "def load_gcol(file_path):\n",
    "    G = nx.Graph() \n",
    "\n",
    "    with open(file_path, \"r\") as file:\n",
    "        for line in file:\n",
    "            parts = line.split()\n",
    "            if parts[0] == 'e':\n",
    "                node1 = int(parts[1]) \n",
    "                node2 = int(parts[2])  \n",
    "                G.add_edge(node1, node2) \n",
    "    return G"
   ]
  },
  {
   "cell_type": "code",
   "execution_count": 22,
   "metadata": {},
   "outputs": [],
   "source": [
    "def is_resolving_set(B, G):\n",
    "    distances = {}\n",
    "    for v in G.nodes:\n",
    "        distances[v] = [nx.shortest_path_length(G, v, u) for u in B]\n",
    "    \n",
    "    for v1, v2 in itertools.combinations(G.nodes, 2):\n",
    "        if distances[v1] == distances[v2]:\n",
    "            return False\n",
    "    return True"
   ]
  },
  {
   "cell_type": "code",
   "execution_count": 23,
   "metadata": {},
   "outputs": [],
   "source": [
    "def fitness(resolving_set,G,shortest_paths):\n",
    "    unresolved_pairs = 0\n",
    "    for u, v in itertools.combinations(G.nodes, 2):\n",
    "        if not any(abs(shortest_paths[u][j] - shortest_paths[v][j]) > 0 for j in resolving_set if j in shortest_paths[u]):\n",
    "            unresolved_pairs += 1  # Par (u, v) nije razrešen\n",
    "\n",
    "    return len(resolving_set) + 100 * unresolved_pairs  # Penalizacija nerešenih parova"
   ]
  },
  {
   "cell_type": "code",
   "execution_count": 24,
   "metadata": {},
   "outputs": [],
   "source": [
    "def construct_solution(G,pheromones,heuristics,alpha,beta,shortest_paths):\n",
    "    resolving_set = set()\n",
    "    available_nodes = set(G.nodes)\n",
    "\n",
    "    while available_nodes:\n",
    "        # Računanje verovatnoće izbora svakog čvora\n",
    "        probabilities = {node: (pheromones[node] ** alpha) * (heuristics[node] ** beta) for node in available_nodes}\n",
    "        total = sum(probabilities.values())\n",
    "        \n",
    "        if total == 0:\n",
    "            break\n",
    "        \n",
    "        # Normalizacija verovatnoća\n",
    "        probabilities = {node: prob / total for node, prob in probabilities.items()}\n",
    "\n",
    "        # Izbor čvora proporcionalno verovatnoći\n",
    "        selected_node = random.choices(list(probabilities.keys()), weights=list(probabilities.values()))[0]\n",
    "        resolving_set.add(selected_node)\n",
    "        available_nodes.remove(selected_node)\n",
    "\n",
    "        # Ako je rešenje dovoljno dobro, prekidamo ranije\n",
    "        if fitness(resolving_set,G,shortest_paths) < 100:\n",
    "            break\n",
    "\n",
    "    return resolving_set"
   ]
  },
  {
   "cell_type": "code",
   "execution_count": 25,
   "metadata": {},
   "outputs": [],
   "source": [
    "def update_pheromones(best_solution,pheromones,evaporation,Q,G,shortest_paths):\n",
    "    # Isparavanje feromona\n",
    "    for node in pheromones:\n",
    "        pheromones[node] *= (1 - evaporation)\n",
    "    \n",
    "    # Dodavanje novih feromona na čvorove iz najboljeg rešenja\n",
    "    for node in best_solution:\n",
    "        pheromones[node] += Q / fitness(best_solution,G,shortest_paths)"
   ]
  },
  {
   "cell_type": "code",
   "execution_count": 26,
   "metadata": {},
   "outputs": [],
   "source": [
    "def ant_colony_optimization(G,num_iterations,num_ants,alpha,beta,evaporation,pheromones,heuristics,Q,shortest_paths):\n",
    "    best_solution = None\n",
    "    best_fitness = float(\"inf\")\n",
    "\n",
    "    for iteration in range(num_iterations):\n",
    "        solutions = [construct_solution(G,pheromones,heuristics,alpha,beta,shortest_paths) for _ in range(num_ants)]\n",
    "        sorted_solutions = sorted(solutions, key=lambda s: fitness(s, G,shortest_paths))        \n",
    "        if fitness(sorted_solutions[0],G,shortest_paths) < best_fitness:\n",
    "            best_solution = sorted_solutions[0]\n",
    "            best_fitness = fitness(best_solution,G,shortest_paths)\n",
    "\n",
    "        update_pheromones(best_solution,pheromones,evaporation,Q,G,shortest_paths)\n",
    "        \n",
    "        print(f\"Iteracija {iteration}, najbolji skup {best_fitness},  {best_solution}\")\n",
    "    print(\"\\nOptimalni rešavajući skup:\", best_solution, 'velicine:',len(best_solution))\n",
    "    return best_solution"
   ]
  },
  {
   "cell_type": "code",
   "execution_count": 27,
   "metadata": {},
   "outputs": [
    {
     "name": "stderr",
     "output_type": "stream",
     "text": [
      "<>:2: SyntaxWarning: invalid escape sequence '\\g'\n",
      "<>:2: SyntaxWarning: invalid escape sequence '\\g'\n",
      "C:\\Users\\Korisnik\\AppData\\Local\\Temp\\ipykernel_171612\\1022156341.py:2: SyntaxWarning: invalid escape sequence '\\g'\n",
      "  G = load_gcol('grafovi\\gcol\\gcol1.txt')\n"
     ]
    },
    {
     "name": "stdout",
     "output_type": "stream",
     "text": [
      "Iteracija 0, najbolji skup 11,  {97, 98, 100, 69, 5, 12, 14, 17, 86, 57, 95}\n",
      "Iteracija 1, najbolji skup 10,  {97, 1, 37, 8, 9, 76, 49, 52, 22, 56}\n",
      "Iteracija 2, najbolji skup 10,  {97, 1, 37, 8, 9, 76, 49, 52, 22, 56}\n",
      "Iteracija 3, najbolji skup 10,  {97, 1, 37, 8, 9, 76, 49, 52, 22, 56}\n",
      "Iteracija 4, najbolji skup 10,  {97, 1, 37, 8, 9, 76, 49, 52, 22, 56}\n",
      "Iteracija 5, najbolji skup 10,  {97, 1, 37, 8, 9, 76, 49, 52, 22, 56}\n",
      "Iteracija 6, najbolji skup 10,  {97, 1, 37, 8, 9, 76, 49, 52, 22, 56}\n",
      "Iteracija 7, najbolji skup 10,  {97, 1, 37, 8, 9, 76, 49, 52, 22, 56}\n",
      "Iteracija 8, najbolji skup 10,  {97, 1, 37, 8, 9, 76, 49, 52, 22, 56}\n",
      "Iteracija 9, najbolji skup 10,  {97, 1, 37, 8, 9, 76, 49, 52, 22, 56}\n",
      "Iteracija 10, najbolji skup 10,  {97, 1, 37, 8, 9, 76, 49, 52, 22, 56}\n",
      "Iteracija 11, najbolji skup 10,  {97, 1, 37, 8, 9, 76, 49, 52, 22, 56}\n",
      "Iteracija 12, najbolji skup 10,  {97, 1, 37, 8, 9, 76, 49, 52, 22, 56}\n",
      "Iteracija 13, najbolji skup 10,  {97, 1, 37, 8, 9, 76, 49, 52, 22, 56}\n",
      "Iteracija 14, najbolji skup 10,  {97, 1, 37, 8, 9, 76, 49, 52, 22, 56}\n",
      "Iteracija 15, najbolji skup 10,  {97, 1, 37, 8, 9, 76, 49, 52, 22, 56}\n",
      "Iteracija 16, najbolji skup 10,  {97, 1, 37, 8, 9, 76, 49, 52, 22, 56}\n",
      "Iteracija 17, najbolji skup 10,  {97, 1, 37, 8, 9, 76, 49, 52, 22, 56}\n",
      "Iteracija 18, najbolji skup 10,  {97, 1, 37, 8, 9, 76, 49, 52, 22, 56}\n"
     ]
    },
    {
     "ename": "KeyboardInterrupt",
     "evalue": "",
     "output_type": "error",
     "traceback": [
      "\u001b[31m---------------------------------------------------------------------------\u001b[39m",
      "\u001b[31mKeyboardInterrupt\u001b[39m                         Traceback (most recent call last)",
      "\u001b[36mCell\u001b[39m\u001b[36m \u001b[39m\u001b[32mIn[27]\u001b[39m\u001b[32m, line 25\u001b[39m\n\u001b[32m     20\u001b[39m heuristics = {node: centrality[node] \u001b[38;5;28;01mfor\u001b[39;00m node \u001b[38;5;129;01min\u001b[39;00m G.nodes}\n\u001b[32m     22\u001b[39m shortest_paths = \u001b[38;5;28mdict\u001b[39m(nx.all_pairs_shortest_path_length(G))  \u001b[38;5;66;03m# Svi putevi između svih parova\u001b[39;00m\n\u001b[32m---> \u001b[39m\u001b[32m25\u001b[39m rez = \u001b[43mant_colony_optimization\u001b[49m\u001b[43m(\u001b[49m\u001b[43mG\u001b[49m\u001b[43m,\u001b[49m\u001b[43mnum_iterations\u001b[49m\u001b[43m,\u001b[49m\u001b[43mnum_ants\u001b[49m\u001b[43m,\u001b[49m\u001b[43malpha\u001b[49m\u001b[43m,\u001b[49m\u001b[43mbeta\u001b[49m\u001b[43m,\u001b[49m\u001b[43mevaporation\u001b[49m\u001b[43m,\u001b[49m\u001b[43mpheromones\u001b[49m\u001b[43m,\u001b[49m\u001b[43mheuristics\u001b[49m\u001b[43m,\u001b[49m\u001b[43mQ\u001b[49m\u001b[43m,\u001b[49m\u001b[43mshortest_paths\u001b[49m\u001b[43m)\u001b[49m\n",
      "\u001b[36mCell\u001b[39m\u001b[36m \u001b[39m\u001b[32mIn[26]\u001b[39m\u001b[32m, line 6\u001b[39m, in \u001b[36mant_colony_optimization\u001b[39m\u001b[34m(G, num_iterations, num_ants, alpha, beta, evaporation, pheromones, heuristics, Q, shortest_paths)\u001b[39m\n\u001b[32m      3\u001b[39m best_fitness = \u001b[38;5;28mfloat\u001b[39m(\u001b[33m\"\u001b[39m\u001b[33minf\u001b[39m\u001b[33m\"\u001b[39m)\n\u001b[32m      5\u001b[39m \u001b[38;5;28;01mfor\u001b[39;00m iteration \u001b[38;5;129;01min\u001b[39;00m \u001b[38;5;28mrange\u001b[39m(num_iterations):\n\u001b[32m----> \u001b[39m\u001b[32m6\u001b[39m     solutions = [\u001b[43mconstruct_solution\u001b[49m\u001b[43m(\u001b[49m\u001b[43mG\u001b[49m\u001b[43m,\u001b[49m\u001b[43mpheromones\u001b[49m\u001b[43m,\u001b[49m\u001b[43mheuristics\u001b[49m\u001b[43m,\u001b[49m\u001b[43malpha\u001b[49m\u001b[43m,\u001b[49m\u001b[43mbeta\u001b[49m\u001b[43m,\u001b[49m\u001b[43mshortest_paths\u001b[49m\u001b[43m)\u001b[49m \u001b[38;5;28;01mfor\u001b[39;00m _ \u001b[38;5;129;01min\u001b[39;00m \u001b[38;5;28mrange\u001b[39m(num_ants)]\n\u001b[32m      7\u001b[39m     sorted_solutions = \u001b[38;5;28msorted\u001b[39m(solutions, key=\u001b[38;5;28;01mlambda\u001b[39;00m s: fitness(s, G,shortest_paths))        \n\u001b[32m      8\u001b[39m     \u001b[38;5;28;01mif\u001b[39;00m fitness(sorted_solutions[\u001b[32m0\u001b[39m],G,shortest_paths) < best_fitness:\n",
      "\u001b[36mCell\u001b[39m\u001b[36m \u001b[39m\u001b[32mIn[24]\u001b[39m\u001b[32m, line 22\u001b[39m, in \u001b[36mconstruct_solution\u001b[39m\u001b[34m(G, pheromones, heuristics, alpha, beta, shortest_paths)\u001b[39m\n\u001b[32m     19\u001b[39m     available_nodes.remove(selected_node)\n\u001b[32m     21\u001b[39m     \u001b[38;5;66;03m# Ako je rešenje dovoljno dobro, prekidamo ranije\u001b[39;00m\n\u001b[32m---> \u001b[39m\u001b[32m22\u001b[39m     \u001b[38;5;28;01mif\u001b[39;00m \u001b[43mfitness\u001b[49m\u001b[43m(\u001b[49m\u001b[43mresolving_set\u001b[49m\u001b[43m,\u001b[49m\u001b[43mG\u001b[49m\u001b[43m,\u001b[49m\u001b[43mshortest_paths\u001b[49m\u001b[43m)\u001b[49m < \u001b[32m100\u001b[39m:\n\u001b[32m     23\u001b[39m         \u001b[38;5;28;01mbreak\u001b[39;00m\n\u001b[32m     25\u001b[39m \u001b[38;5;28;01mreturn\u001b[39;00m resolving_set\n",
      "\u001b[36mCell\u001b[39m\u001b[36m \u001b[39m\u001b[32mIn[23]\u001b[39m\u001b[32m, line 4\u001b[39m, in \u001b[36mfitness\u001b[39m\u001b[34m(resolving_set, G, shortest_paths)\u001b[39m\n\u001b[32m      2\u001b[39m unresolved_pairs = \u001b[32m0\u001b[39m\n\u001b[32m      3\u001b[39m \u001b[38;5;28;01mfor\u001b[39;00m u, v \u001b[38;5;129;01min\u001b[39;00m itertools.combinations(G.nodes, \u001b[32m2\u001b[39m):\n\u001b[32m----> \u001b[39m\u001b[32m4\u001b[39m     \u001b[38;5;28;01mif\u001b[39;00m \u001b[38;5;129;01mnot\u001b[39;00m \u001b[38;5;28many\u001b[39m(\u001b[38;5;28mabs\u001b[39m(shortest_paths[u][j] - shortest_paths[v][j]) > \u001b[32m0\u001b[39m \u001b[38;5;28;01mfor\u001b[39;00m j \u001b[38;5;129;01min\u001b[39;00m resolving_set \u001b[38;5;28;01mif\u001b[39;00m j \u001b[38;5;129;01min\u001b[39;00m shortest_paths[u]):\n\u001b[32m      5\u001b[39m         unresolved_pairs += \u001b[32m1\u001b[39m  \u001b[38;5;66;03m# Par (u, v) nije razrešen\u001b[39;00m\n\u001b[32m      7\u001b[39m \u001b[38;5;28;01mreturn\u001b[39;00m \u001b[38;5;28mlen\u001b[39m(resolving_set) + \u001b[32m100\u001b[39m * unresolved_pairs\n",
      "\u001b[31mKeyboardInterrupt\u001b[39m: "
     ]
    }
   ],
   "source": [
    "# G = load_graph('grafovi\\srednji grafovi\\hamming8-4.txt')\n",
    "G = load_gcol('grafovi\\gcol\\gcol1.txt')\n",
    "\n",
    "n = len(G.nodes)\n",
    "\n",
    "# Parametri ACO algoritma\n",
    "num_ants = 50     # Broj mrava po iteraciji\n",
    "num_iterations = 50  # Broj iteracija\n",
    "alpha = 0.5       # Uticaj feromona\n",
    "beta = 1.0        # Uticaj heuristike (udaljenosti)\n",
    "evaporation = 0.5  # Isparavanje feromona\n",
    "Q = 10          # Konstanta za ažuriranje feromona\n",
    "\n",
    "# Inicijalizacija feromona (svaki čvor dobija početnu vrednost)\n",
    "pheromones = {node: 1.0 for node in G.nodes}\n",
    "\n",
    "# heuristics = {node: 1.0 / (sum(nx.shortest_path_length(G, node, j) for j in G.nodes if j != node) + 1) for node in G.nodes}\n",
    "\n",
    "centrality = nx.betweenness_centrality(G)\n",
    "heuristics = {node: centrality[node] for node in G.nodes}\n",
    "\n",
    "shortest_paths = dict(nx.all_pairs_shortest_path_length(G))  # Svi putevi između svih parova\n",
    "\n",
    "\n",
    "rez = ant_colony_optimization(G,num_iterations,num_ants,alpha,beta,evaporation,pheromones,heuristics,Q,shortest_paths)\n"
   ]
  },
  {
   "cell_type": "code",
   "execution_count": null,
   "metadata": {},
   "outputs": [],
   "source": [
    "is_resolving_set(rez,G)"
   ]
  }
 ],
 "metadata": {
  "kernelspec": {
   "display_name": "Python 3",
   "language": "python",
   "name": "python3"
  },
  "language_info": {
   "codemirror_mode": {
    "name": "ipython",
    "version": 3
   },
   "file_extension": ".py",
   "mimetype": "text/x-python",
   "name": "python",
   "nbconvert_exporter": "python",
   "pygments_lexer": "ipython3",
   "version": "3.13.3"
  }
 },
 "nbformat": 4,
 "nbformat_minor": 2
}
