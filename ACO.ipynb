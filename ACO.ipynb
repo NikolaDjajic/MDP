{
 "cells": [
  {
   "cell_type": "code",
   "execution_count": 1,
   "metadata": {},
   "outputs": [],
   "source": [
    "import random\n",
    "import networkx as nx\n",
    "import itertools"
   ]
  },
  {
   "cell_type": "code",
   "execution_count": 2,
   "metadata": {},
   "outputs": [],
   "source": [
    "def load_graph_from_file(file_path):\n",
    "    G = nx.Graph() \n",
    "\n",
    "    with open(file_path, \"r\") as file:\n",
    "        for line in file:\n",
    "            parts = line.split()\n",
    "            if parts[0] == 'e':\n",
    "                node1 = int(parts[1]) \n",
    "                node2 = int(parts[2])  \n",
    "                G.add_edge(node1, node2) \n",
    "    return G"
   ]
  },
  {
   "cell_type": "code",
   "execution_count": 3,
   "metadata": {},
   "outputs": [],
   "source": [
    "def is_resolving_set(B, G):\n",
    "    distances = {}\n",
    "    for v in G.nodes:\n",
    "        distances[v] = [nx.shortest_path_length(G, v, u) for u in B]\n",
    "    \n",
    "    for v1, v2 in itertools.combinations(G.nodes, 2):\n",
    "        if distances[v1] == distances[v2]:\n",
    "            return False\n",
    "    return True"
   ]
  },
  {
   "cell_type": "code",
   "execution_count": 4,
   "metadata": {},
   "outputs": [],
   "source": [
    "def fitness(resolving_set,G):\n",
    "    unresolved_pairs = 0\n",
    "    for u, v in itertools.combinations(G.nodes, 2):\n",
    "        if not any(abs(nx.shortest_path_length(G, u, j) - nx.shortest_path_length(G, v, j)) > 0 for j in resolving_set):\n",
    "            unresolved_pairs += 1\n",
    "    return len(resolving_set) + 100 * unresolved_pairs  # Penalizacija nerešenih parova"
   ]
  },
  {
   "cell_type": "code",
   "execution_count": 5,
   "metadata": {},
   "outputs": [],
   "source": [
    "def construct_solution(G,pheromones,heuristics,alpha,beta):\n",
    "    resolving_set = set()\n",
    "    available_nodes = set(G.nodes)\n",
    "\n",
    "    while available_nodes:\n",
    "        # Računanje verovatnoće izbora svakog čvora\n",
    "        probabilities = {node: (pheromones[node] ** alpha) * (heuristics[node] ** beta) for node in available_nodes}\n",
    "        total = sum(probabilities.values())\n",
    "        \n",
    "        if total == 0:\n",
    "            break\n",
    "        \n",
    "        # Normalizacija verovatnoća\n",
    "        probabilities = {node: prob / total for node, prob in probabilities.items()}\n",
    "\n",
    "        # Izbor čvora proporcionalno verovatnoći\n",
    "        selected_node = random.choices(list(probabilities.keys()), weights=list(probabilities.values()))[0]\n",
    "        resolving_set.add(selected_node)\n",
    "        available_nodes.remove(selected_node)\n",
    "\n",
    "        # Ako je rešenje dovoljno dobro, prekidamo ranije\n",
    "        if fitness(resolving_set,G) < 100:\n",
    "            break\n",
    "\n",
    "    return resolving_set"
   ]
  },
  {
   "cell_type": "code",
   "execution_count": 6,
   "metadata": {},
   "outputs": [],
   "source": [
    "def update_pheromones(best_solution,pheromones,evaporation,Q):\n",
    "    # Isparavanje feromona\n",
    "    for node in pheromones:\n",
    "        pheromones[node] *= (1 - evaporation)\n",
    "    \n",
    "    # Dodavanje novih feromona na čvorove iz najboljeg rešenja\n",
    "    for node in best_solution:\n",
    "        pheromones[node] += Q / fitness(best_solution,G)"
   ]
  },
  {
   "cell_type": "code",
   "execution_count": null,
   "metadata": {},
   "outputs": [],
   "source": [
    "def ant_colony_optimization(G,num_iterations,num_ants,alpha,beta,evaporation,pheromones,heuristics,Q):\n",
    "    best_solution = None\n",
    "    best_fitness = float(\"inf\")\n",
    "\n",
    "    for iteration in range(num_iterations):\n",
    "        solutions = [construct_solution(G,pheromones,heuristics,alpha,beta) for _ in range(num_ants)]\n",
    "        sorted_solutions = sorted(solutions, key=lambda s: fitness(s, G))        \n",
    "        if fitness(sorted_solutions[0],G) < best_fitness:\n",
    "            best_solution = sorted_solutions[0]\n",
    "            best_fitness = fitness(best_solution,G)\n",
    "\n",
    "        update_pheromones(best_solution,pheromones,evaporation,Q)\n",
    "        \n",
    "\n",
    "        # Ako nema nerešenih parova, završavamo pre roka\n",
    "        if best_fitness < 100:\n",
    "            break\n",
    "        print(f\"Iteracija {iter}, najbolji skup {best_fitness}\")\n",
    "    print(\"\\nOptimalni rešavajući skup:\", best_solution)\n",
    "    return best_solution"
   ]
  },
  {
   "cell_type": "code",
   "execution_count": 8,
   "metadata": {},
   "outputs": [
    {
     "name": "stderr",
     "output_type": "stream",
     "text": [
      "<>:6: SyntaxWarning: invalid escape sequence '\\g'\n",
      "<>:6: SyntaxWarning: invalid escape sequence '\\g'\n",
      "C:\\Users\\pc\\AppData\\Local\\Temp\\ipykernel_17300\\159208560.py:6: SyntaxWarning: invalid escape sequence '\\g'\n",
      "  G = load_graph_from_file('grafovi\\gcol1.txt')\n"
     ]
    },
    {
     "name": "stdout",
     "output_type": "stream",
     "text": [
      "Iteracija 1, Najbolji fitnes: 10\n",
      "\n",
      "Optimalni rešavajući skup: {5, 37, 72, 41, 74, 44, 13, 16, 95, 31}\n"
     ]
    }
   ],
   "source": [
    "# G = nx.Graph()\n",
    "# G.add_edges_from([(1,2),(1,3),(1,5),(1,6),(2,4),(2,6),(3,5),(3,4),(4,5),(4,6),(5,6)])\n",
    "\n",
    "# G = nx.petersen_graph()\n",
    "\n",
    "G = load_graph_from_file('grafovi\\gcol1.txt')\n",
    "\n",
    "n = len(G.nodes)\n",
    "\n",
    "# Parametri ACO algoritma\n",
    "num_ants = 20     # Broj mrava po iteraciji\n",
    "num_iterations = 50  # Broj iteracija\n",
    "alpha = 1.0       # Uticaj feromona\n",
    "beta = 2.0        # Uticaj heuristike (udaljenosti)\n",
    "evaporation = 0.5  # Isparavanje feromona\n",
    "Q = 100           # Konstanta za ažuriranje feromona\n",
    "\n",
    "# Inicijalizacija feromona (svaki čvor dobija početnu vrednost)\n",
    "pheromones = {node: 1.0 for node in G.nodes}\n",
    "\n",
    "# Heuristička vrednost: obrnuta prosečna udaljenost od svih drugih čvorova\n",
    "heuristics = {node: 1.0 / (sum(nx.shortest_path_length(G, node, j) for j in G.nodes if j != node) + 1) for node in G.nodes}\n",
    "\n",
    "rez = ant_colony_optimization(G,num_iterations,num_ants,alpha,beta,evaporation,pheromones,heuristics,Q)\n"
   ]
  },
  {
   "cell_type": "code",
   "execution_count": 9,
   "metadata": {},
   "outputs": [
    {
     "data": {
      "text/plain": [
       "True"
      ]
     },
     "execution_count": 9,
     "metadata": {},
     "output_type": "execute_result"
    }
   ],
   "source": [
    "is_resolving_set(rez,G)"
   ]
  }
 ],
 "metadata": {
  "kernelspec": {
   "display_name": "Python 3",
   "language": "python",
   "name": "python3"
  },
  "language_info": {
   "codemirror_mode": {
    "name": "ipython",
    "version": 3
   },
   "file_extension": ".py",
   "mimetype": "text/x-python",
   "name": "python",
   "nbconvert_exporter": "python",
   "pygments_lexer": "ipython3",
   "version": "3.12.0"
  }
 },
 "nbformat": 4,
 "nbformat_minor": 2
}
