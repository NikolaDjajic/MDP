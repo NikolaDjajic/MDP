{
 "cells": [
  {
   "cell_type": "code",
   "execution_count": 100,
   "metadata": {},
   "outputs": [],
   "source": [
    "import networkx as nx\n",
    "import random\n",
    "import itertools\n",
    "import time"
   ]
  },
  {
   "cell_type": "code",
   "execution_count": 101,
   "metadata": {},
   "outputs": [],
   "source": [
    "def load_gcol(file_path):\n",
    "    G = nx.Graph() \n",
    "\n",
    "    with open(file_path, \"r\") as file:\n",
    "        for line in file:\n",
    "            parts = line.split()\n",
    "            if parts[0] == 'e':\n",
    "                node1 = int(parts[1]) \n",
    "                node2 = int(parts[2])  \n",
    "                G.add_edge(node1, node2) \n",
    "    return G"
   ]
  },
  {
   "cell_type": "code",
   "execution_count": 102,
   "metadata": {},
   "outputs": [],
   "source": [
    "def load_graph(file_path):\n",
    "    G = nx.Graph() \n",
    "\n",
    "    with open(file_path, \"r\") as file:\n",
    "        for line in file:\n",
    "            parts = line.split()\n",
    "            \n",
    "            node1 = int(parts[0]) \n",
    "            node2 = int(parts[1]) \n",
    "            G.add_edge(node1, node2) \n",
    "    return G"
   ]
  },
  {
   "cell_type": "code",
   "execution_count": 103,
   "metadata": {},
   "outputs": [],
   "source": [
    "def is_resolving_set(B, G):\n",
    "    distances = {}\n",
    "    for v in G.nodes:\n",
    "        distances[v] = [nx.shortest_path_length(G, v, u) for u in B]\n",
    "    \n",
    "    for v1, v2 in itertools.combinations(G.nodes, 2):\n",
    "        if distances[v1] == distances[v2]:\n",
    "            return False\n",
    "    return True"
   ]
  },
  {
   "cell_type": "code",
   "execution_count": 104,
   "metadata": {},
   "outputs": [],
   "source": [
    "def generate_solution(G):\n",
    "    B = set()\n",
    "    while not is_resolving_set(B, G):\n",
    "        v = random.choice(list(G.nodes))\n",
    "        B.add(v)\n",
    "    return B"
   ]
  },
  {
   "cell_type": "code",
   "execution_count": 105,
   "metadata": {},
   "outputs": [],
   "source": [
    "def Nk(B, k, G):\n",
    "    V = set(G.nodes)\n",
    "    if k <= len(B):\n",
    "        # Izbor k elemenata iz komplementa skupa B\n",
    "        complement = V - B\n",
    "        new_sets = []\n",
    "        for comb in itertools.combinations(complement, k):\n",
    "            new_set = B - set([random.choice(list(B))])  # Brisanje jednog elementa iz B\n",
    "            new_set.update(comb)  # Dodavanje novih elemenata iz komplementa\n",
    "            new_sets.append(new_set)\n",
    "        return new_sets\n",
    "    return []"
   ]
  },
  {
   "cell_type": "code",
   "execution_count": 106,
   "metadata": {},
   "outputs": [],
   "source": [
    "def DeleteLast(B):\n",
    "    B0 = B.copy()  \n",
    "    last_element = list(B0)[-1]\n",
    "    B0.remove(last_element) \n",
    "    return B0  "
   ]
  },
  {
   "cell_type": "code",
   "execution_count": 107,
   "metadata": {},
   "outputs": [],
   "source": [
    "def Shaking(B, k, G):\n",
    "    neighbors = Nk(B, k, G)\n",
    "    return random.choice(neighbors) if neighbors else B"
   ]
  },
  {
   "cell_type": "code",
   "execution_count": 108,
   "metadata": {},
   "outputs": [],
   "source": [
    "def ObjF(B, G):\n",
    "    distances = {v: [nx.shortest_path_length(G, v, u) for u in B] for v in G.nodes}\n",
    "    count = 0\n",
    "    for v1, v2 in itertools.combinations(G.nodes, 2):\n",
    "        if distances[v1] == distances[v2]:\n",
    "            count += 1\n",
    "    return count"
   ]
  },
  {
   "cell_type": "code",
   "execution_count": 109,
   "metadata": {},
   "outputs": [],
   "source": [
    "def Compare(B0, B00, pmove,G):\n",
    "    if  len(B00) < len(B0) or ObjF(B00,G) < ObjF(B0,G):\n",
    "        return True\n",
    "    elif len(B00) == len(B0) and ObjF(B00,G) > ObjF(B0,G):\n",
    "        return False\n",
    "    elif len(B00) == len(B0) and ObjF(B00,G) == ObjF(B0,G) and random.random() < pmove:\n",
    "        return True\n",
    "    return False"
   ]
  },
  {
   "cell_type": "code",
   "execution_count": 110,
   "metadata": {},
   "outputs": [],
   "source": [
    "def LexSort(G, B):\n",
    "    distances = {v: tuple(nx.shortest_path_length(G, v, u) for u in B) for v in G.nodes}\n",
    "    sorted_vertices = sorted(G.nodes, key=lambda v: distances[v])\n",
    "    return sorted_vertices, distances"
   ]
  },
  {
   "cell_type": "code",
   "execution_count": 111,
   "metadata": {},
   "outputs": [],
   "source": [
    "def IdentifyBlocks(sorted_vertices, distances):\n",
    "    # Identifikuje blokove (grupe sa istim metričkim koordinatama)\n",
    "    blocks = []\n",
    "    current_block = [sorted_vertices[0]]\n",
    "\n",
    "    for v in sorted_vertices[1:]:\n",
    "        if distances[v] == distances[current_block[0]]:\n",
    "            current_block.append(v)\n",
    "        else:\n",
    "            if len(current_block) > 1:\n",
    "                blocks.append(current_block)\n",
    "            current_block = [v]\n",
    "\n",
    "    if len(current_block) > 1:\n",
    "        blocks.append(current_block)\n",
    "\n",
    "    return blocks"
   ]
  },
  {
   "cell_type": "code",
   "execution_count": 112,
   "metadata": {},
   "outputs": [],
   "source": [
    "def LocalSearch(B, B00, G):\n",
    "    improved = True\n",
    "\n",
    "    while improved:\n",
    "        improved = False\n",
    "        objval = ObjF(B00, G)\n",
    "\n",
    "        for vr in B00:  \n",
    "           \n",
    "            z = {v: 0 for v in set(G.nodes) - B00}\n",
    "             \n",
    "            B00_minus_vr = B00 - {vr}\n",
    "\n",
    "            sorted_vertices, distances = LexSort(G, B00_minus_vr)\n",
    "            blocks = IdentifyBlocks(sorted_vertices, distances)           \n",
    "\n",
    "            # Ažuriranje z[v] na osnovu blokova (korak 8-12)\n",
    "            for block in blocks:\n",
    "                for p in block:\n",
    "                    for q in block:\n",
    "                        if(q > p):\n",
    "                            for v in set(G.nodes) - B00:\n",
    "                                if nx.shortest_path_length(G, p, v) == nx.shortest_path_length(G, q, v):\n",
    "                                    z[v] += 1\n",
    "\n",
    "            # print(z)\n",
    "            # Pronalazak minimalnog z[v] (korak 13)\n",
    "            vmin = min(z, key=z.get)\n",
    "\n",
    "            # Korak 14-18: Ako nađemo poboljšanje DOBRO\n",
    "            if z[vmin] == 0:\n",
    "                B = (B00 | {vmin}) - {vr}\n",
    "                B00 = DeleteLast(B)\n",
    "                objval = ObjF(B00, G)\n",
    "                improved = True\n",
    "\n",
    "            # Korak 19-23: Ako je z[vmin] bolje od trenutnog objval DOBRO\n",
    "            elif z[vmin] < objval:\n",
    "                B00 = (B00 | {vmin}) - {vr}\n",
    "                objval = z[vmin]\n",
    "                improved = True\n",
    "    return B"
   ]
  },
  {
   "cell_type": "code",
   "execution_count": 113,
   "metadata": {},
   "outputs": [],
   "source": [
    "def VNS(G,kmin, kmax, itermax, pmove):\n",
    "    B = generate_solution(G)\n",
    "    B0 = DeleteLast(B)\n",
    "    iter = 0\n",
    "\n",
    "    k = kmin\n",
    "    print('Pocetna ',B,B0)\n",
    "    while itermax > iter:\n",
    "        iter +=1\n",
    "              \n",
    "        B00 = Shaking(B0, k, G)\n",
    "        B00 = LocalSearch(B, B00, G)\n",
    "        \n",
    "        if Compare(B0, B00, pmove, G):\n",
    "            B0 = B00  \n",
    "        else:\n",
    "            if k < kmax:\n",
    "                k += 1\n",
    "            else:\n",
    "                k = kmin\n",
    "        \n",
    "        print(f\"Iteracija {iter}, najbolji skup {B0}\")\n",
    "    return B0"
   ]
  },
  {
   "cell_type": "code",
   "execution_count": 114,
   "metadata": {},
   "outputs": [
    {
     "name": "stdout",
     "output_type": "stream",
     "text": [
      "Graf nije povezan!\n"
     ]
    },
    {
     "name": "stderr",
     "output_type": "stream",
     "text": [
      "<>:1: SyntaxWarning: invalid escape sequence '\\c'\n",
      "<>:1: SyntaxWarning: invalid escape sequence '\\c'\n",
      "C:\\Users\\Korisnik\\AppData\\Local\\Temp\\ipykernel_465304\\513673658.py:1: SyntaxWarning: invalid escape sequence '\\c'\n",
      "  G = load_graph('grafovi\\csp\\csp50.txt')\n"
     ]
    }
   ],
   "source": [
    "G = load_graph('grafovi\\csp\\csp50.txt')\n",
    "if not nx.is_connected(G):\n",
    "    print(\"Graf nije povezan!\")\n",
    "    largest_cc = max(nx.connected_components(G), key=len)\n",
    "    G = G.subgraph(largest_cc).copy()"
   ]
  },
  {
   "cell_type": "code",
   "execution_count": 115,
   "metadata": {},
   "outputs": [
    {
     "name": "stdout",
     "output_type": "stream",
     "text": [
      "Testing: {'kmin': 1, 'kmax': 4, 'pmove': 0.2, 'itermax': 3}\n",
      "Pocetna  {1, 4, 5, 9, 10, 11, 13, 14, 15, 144, 18, 20, 22, 23, 24, 25, 29, 31, 32, 33, 36, 38, 40, 42, 43, 44, 46, 49, 50, 364} {1, 4, 5, 9, 10, 11, 13, 14, 15, 144, 18, 20, 22, 23, 24, 25, 29, 31, 32, 33, 36, 38, 40, 42, 43, 44, 364, 46, 49}\n",
      "Iteracija 1, najbolji skup {33, 2, 34, 6, 42, 44, 364, 15, 48}\n",
      "Iteracija 2, najbolji skup {33, 2, 34, 6, 42, 44, 364, 15, 48}\n",
      "Iteracija 3, najbolji skup {33, 3, 8, 42, 44, 364, 12, 18}\n",
      "🔁 Rezultat: 8 | ⏱️ Vrijeme: 0.47 sekundi\n",
      "Testing: {'kmin': 1, 'kmax': 4, 'pmove': 0.2, 'itermax': 5}\n",
      "Pocetna  {3, 36, 7, 41, 42, 9, 44, 47, 15, 49, 144, 50, 20, 21, 22, 23, 26, 28} {3, 7, 9, 15, 144, 20, 21, 22, 23, 26, 28, 36, 41, 42, 44, 47, 49}\n",
      "Iteracija 1, najbolji skup {1, 34, 3, 37, 6, 5, 7, 41, 42, 8, 48}\n",
      "Iteracija 2, najbolji skup {4, 5, 37, 7, 8, 42, 9, 48, 21}\n",
      "Iteracija 3, najbolji skup {5, 37, 8, 9, 42, 48, 21, 27}\n",
      "Iteracija 4, najbolji skup {5, 37, 8, 9, 42, 48, 21, 27}\n",
      "Iteracija 5, najbolji skup {5, 37, 8, 9, 42, 48, 21, 27}\n",
      "🔁 Rezultat: 8 | ⏱️ Vrijeme: 0.48 sekundi\n",
      "Testing: {'kmin': 2, 'kmax': 4, 'pmove': 0.2, 'itermax': 3}\n",
      "Pocetna  {2, 4, 5, 6, 7, 8, 10, 12, 13, 15, 16, 23, 24, 26, 27, 29, 30, 34, 36, 38, 40, 41, 43, 45, 47, 48, 49, 50, 217, 364} {2, 4, 5, 6, 7, 8, 10, 12, 13, 15, 16, 23, 24, 217, 26, 27, 29, 30, 34, 36, 38, 40, 41, 43, 364, 45, 47, 48, 49}\n",
      "Iteracija 1, najbolji skup {1, 2, 33, 34, 6, 43, 45, 15}\n",
      "Iteracija 2, najbolji skup {2, 4, 5, 6, 7, 8, 10, 12, 13, 15, 16, 23, 24, 26, 27, 29, 30, 34, 36, 38, 40, 41, 43, 45, 47, 48, 49, 50, 217, 364}\n",
      "Iteracija 3, najbolji skup {2, 3, 6, 7, 41, 42, 44, 12, 48}\n",
      "🔁 Rezultat: 9 | ⏱️ Vrijeme: 0.65 sekundi\n",
      "Testing: {'kmin': 2, 'kmax': 4, 'pmove': 0.2, 'itermax': 5}\n",
      "Pocetna  {2, 4, 5, 6, 10, 12, 13, 14, 144, 17, 16, 18, 20, 21, 23, 26, 27, 28, 29, 31, 32, 34, 35, 37, 38, 42, 44, 46, 47, 49, 50, 217} {2, 4, 5, 6, 10, 12, 13, 14, 144, 17, 16, 18, 20, 21, 23, 26, 27, 28, 29, 31, 32, 34, 35, 37, 38, 42, 44, 46, 47, 49, 50}\n",
      "Iteracija 1, najbolji skup {1, 6, 42, 44, 12, 16, 48, 26}\n",
      "Iteracija 2, najbolji skup {1, 6, 42, 44, 12, 16, 48}\n",
      "Iteracija 3, najbolji skup {2, 4, 5, 6, 10, 12, 13, 14, 144, 17, 16, 18, 20, 21, 23, 26, 27, 28, 29, 31, 32, 34, 35, 37, 38, 42, 44, 46, 47, 49, 50, 217}\n",
      "Iteracija 4, najbolji skup {2, 3, 37, 6, 42, 12, 48, 18}\n",
      "Iteracija 5, najbolji skup {2, 3, 37, 6, 42, 12, 49}\n",
      "🔁 Rezultat: 7 | ⏱️ Vrijeme: 0.93 sekundi\n",
      "\n",
      "✅ Najbolji rezultat: 8\n",
      "📌 Najbolji parametri: {'kmin': 1, 'kmax': 4, 'pmove': 0.2, 'itermax': 5}\n",
      "📌 Vrijeme: 0.480424165725708\n"
     ]
    }
   ],
   "source": [
    "param_grid = {\n",
    "    'kmin':[1,2],\n",
    "    'kmax': [4],\n",
    "    'pmove': [0.2],\n",
    "    'itermax': [3,5]\n",
    "}\n",
    "\n",
    "best_score = float('inf')\n",
    "best_params = None\n",
    "\n",
    "for combo in itertools.product(*param_grid.values()):\n",
    "    params = dict(zip(param_grid.keys(), combo))\n",
    "    \n",
    "    print(f\"Testing: {params}\")\n",
    "    \n",
    "    start_time = time.time()  # ⏱️ početak\n",
    "    os = VNS(G,**params)\n",
    "    score = len(os)\n",
    "    end_time = time.time()    # ⏱️ kraj\n",
    "    \n",
    "    duration = end_time - start_time\n",
    "    print(f\"🔁 Rezultat: {score} | ⏱️ Vrijeme: {duration:.2f} sekundi\")\n",
    "    \n",
    "    if (score < best_score) or (score == best_score and duration < duration1):\n",
    "        if(is_resolving_set(os,G)):\n",
    "            best_score = score\n",
    "            best_params = params\n",
    "            duration1 = duration\n",
    "\n",
    "print(\"\\n✅ Najbolji rezultat:\", best_score)\n",
    "print(\"📌 Najbolji parametri:\", best_params)\n",
    "print(\"📌 Vrijeme:\", duration1)"
   ]
  },
  {
   "cell_type": "code",
   "execution_count": 116,
   "metadata": {},
   "outputs": [
    {
     "ename": "NodeNotFound",
     "evalue": "Target 99 is not in G",
     "output_type": "error",
     "traceback": [
      "\u001b[31m---------------------------------------------------------------------------\u001b[39m",
      "\u001b[31mNodeNotFound\u001b[39m                              Traceback (most recent call last)",
      "\u001b[36mCell\u001b[39m\u001b[36m \u001b[39m\u001b[32mIn[116]\u001b[39m\u001b[32m, line 1\u001b[39m\n\u001b[32m----> \u001b[39m\u001b[32m1\u001b[39m \u001b[43mis_resolving_set\u001b[49m\u001b[43m(\u001b[49m\u001b[43m[\u001b[49m\u001b[32;43m99\u001b[39;49m\u001b[43m,\u001b[49m\u001b[43m \u001b[49m\u001b[32;43m5\u001b[39;49m\u001b[43m,\u001b[49m\u001b[43m \u001b[49m\u001b[32;43m12\u001b[39;49m\u001b[43m,\u001b[49m\u001b[43m \u001b[49m\u001b[32;43m13\u001b[39;49m\u001b[43m,\u001b[49m\u001b[43m \u001b[49m\u001b[32;43m206\u001b[39;49m\u001b[43m,\u001b[49m\u001b[43m \u001b[49m\u001b[32;43m47\u001b[39;49m\u001b[43m,\u001b[49m\u001b[43m \u001b[49m\u001b[32;43m113\u001b[39;49m\u001b[43m,\u001b[49m\u001b[43m \u001b[49m\u001b[32;43m19\u001b[39;49m\u001b[43m,\u001b[49m\u001b[43m \u001b[49m\u001b[32;43m149\u001b[39;49m\u001b[43m,\u001b[49m\u001b[43m \u001b[49m\u001b[32;43m86\u001b[39;49m\u001b[43m,\u001b[49m\u001b[43m \u001b[49m\u001b[32;43m88\u001b[39;49m\u001b[43m,\u001b[49m\u001b[43m \u001b[49m\u001b[32;43m217\u001b[39;49m\u001b[43m,\u001b[49m\u001b[43m \u001b[49m\u001b[32;43m26\u001b[39;49m\u001b[43m,\u001b[49m\u001b[43m \u001b[49m\u001b[32;43m189\u001b[39;49m\u001b[43m]\u001b[49m\u001b[43m,\u001b[49m\u001b[43mG\u001b[49m\u001b[43m)\u001b[49m\n",
      "\u001b[36mCell\u001b[39m\u001b[36m \u001b[39m\u001b[32mIn[103]\u001b[39m\u001b[32m, line 4\u001b[39m, in \u001b[36mis_resolving_set\u001b[39m\u001b[34m(B, G)\u001b[39m\n\u001b[32m      2\u001b[39m distances = {}\n\u001b[32m      3\u001b[39m \u001b[38;5;28;01mfor\u001b[39;00m v \u001b[38;5;129;01min\u001b[39;00m G.nodes:\n\u001b[32m----> \u001b[39m\u001b[32m4\u001b[39m     distances[v] = [\u001b[43mnx\u001b[49m\u001b[43m.\u001b[49m\u001b[43mshortest_path_length\u001b[49m\u001b[43m(\u001b[49m\u001b[43mG\u001b[49m\u001b[43m,\u001b[49m\u001b[43m \u001b[49m\u001b[43mv\u001b[49m\u001b[43m,\u001b[49m\u001b[43m \u001b[49m\u001b[43mu\u001b[49m\u001b[43m)\u001b[49m \u001b[38;5;28;01mfor\u001b[39;00m u \u001b[38;5;129;01min\u001b[39;00m B]\n\u001b[32m      6\u001b[39m \u001b[38;5;28;01mfor\u001b[39;00m v1, v2 \u001b[38;5;129;01min\u001b[39;00m itertools.combinations(G.nodes, \u001b[32m2\u001b[39m):\n\u001b[32m      7\u001b[39m     \u001b[38;5;28;01mif\u001b[39;00m distances[v1] == distances[v2]:\n",
      "\u001b[36mFile \u001b[39m\u001b[32m<class 'networkx.utils.decorators.argmap'> compilation 9:3\u001b[39m, in \u001b[36margmap_shortest_path_length_6\u001b[39m\u001b[34m(G, source, target, weight, method, backend, **backend_kwargs)\u001b[39m\n\u001b[32m      1\u001b[39m \u001b[38;5;28;01mimport\u001b[39;00m\u001b[38;5;250m \u001b[39m\u001b[34;01mbz2\u001b[39;00m\n\u001b[32m      2\u001b[39m \u001b[38;5;28;01mimport\u001b[39;00m\u001b[38;5;250m \u001b[39m\u001b[34;01mcollections\u001b[39;00m\n\u001b[32m----> \u001b[39m\u001b[32m3\u001b[39m \u001b[38;5;28;01mimport\u001b[39;00m\u001b[38;5;250m \u001b[39m\u001b[34;01mgzip\u001b[39;00m\n\u001b[32m      4\u001b[39m \u001b[38;5;28;01mimport\u001b[39;00m\u001b[38;5;250m \u001b[39m\u001b[34;01minspect\u001b[39;00m\n\u001b[32m      5\u001b[39m \u001b[38;5;28;01mimport\u001b[39;00m\u001b[38;5;250m \u001b[39m\u001b[34;01mitertools\u001b[39;00m\n",
      "\u001b[36mFile \u001b[39m\u001b[32mc:\\Users\\Korisnik\\AppData\\Local\\Programs\\Python\\Python313\\Lib\\site-packages\\networkx\\utils\\backends.py:967\u001b[39m, in \u001b[36m_dispatchable.__call__\u001b[39m\u001b[34m(self, backend, *args, **kwargs)\u001b[39m\n\u001b[32m    965\u001b[39m     \u001b[38;5;28;01mif\u001b[39;00m backend \u001b[38;5;129;01mis\u001b[39;00m \u001b[38;5;129;01mnot\u001b[39;00m \u001b[38;5;28;01mNone\u001b[39;00m \u001b[38;5;129;01mand\u001b[39;00m backend != \u001b[33m\"\u001b[39m\u001b[33mnetworkx\u001b[39m\u001b[33m\"\u001b[39m:\n\u001b[32m    966\u001b[39m         \u001b[38;5;28;01mraise\u001b[39;00m \u001b[38;5;167;01mImportError\u001b[39;00m(\u001b[33mf\u001b[39m\u001b[33m\"\u001b[39m\u001b[33m'\u001b[39m\u001b[38;5;132;01m{\u001b[39;00mbackend\u001b[38;5;132;01m}\u001b[39;00m\u001b[33m'\u001b[39m\u001b[33m backend is not installed\u001b[39m\u001b[33m\"\u001b[39m)\n\u001b[32m--> \u001b[39m\u001b[32m967\u001b[39m     \u001b[38;5;28;01mreturn\u001b[39;00m \u001b[38;5;28;43mself\u001b[39;49m\u001b[43m.\u001b[49m\u001b[43morig_func\u001b[49m\u001b[43m(\u001b[49m\u001b[43m*\u001b[49m\u001b[43margs\u001b[49m\u001b[43m,\u001b[49m\u001b[43m \u001b[49m\u001b[43m*\u001b[49m\u001b[43m*\u001b[49m\u001b[43mkwargs\u001b[49m\u001b[43m)\u001b[49m\n\u001b[32m    969\u001b[39m \u001b[38;5;66;03m# Use `backend_name` in this function instead of `backend`.\u001b[39;00m\n\u001b[32m    970\u001b[39m \u001b[38;5;66;03m# This is purely for aesthetics and to make it easier to search for this\u001b[39;00m\n\u001b[32m    971\u001b[39m \u001b[38;5;66;03m# variable since \"backend\" is used in many comments and log/error messages.\u001b[39;00m\n\u001b[32m    972\u001b[39m backend_name = backend\n",
      "\u001b[36mFile \u001b[39m\u001b[32mc:\\Users\\Korisnik\\AppData\\Local\\Programs\\Python\\Python313\\Lib\\site-packages\\networkx\\algorithms\\shortest_paths\\generic.py:326\u001b[39m, in \u001b[36mshortest_path_length\u001b[39m\u001b[34m(G, source, target, weight, method)\u001b[39m\n\u001b[32m    323\u001b[39m \u001b[38;5;28;01melse\u001b[39;00m:\n\u001b[32m    324\u001b[39m     \u001b[38;5;66;03m# Find shortest source-target path.\u001b[39;00m\n\u001b[32m    325\u001b[39m     \u001b[38;5;28;01mif\u001b[39;00m method == \u001b[33m\"\u001b[39m\u001b[33munweighted\u001b[39m\u001b[33m\"\u001b[39m:\n\u001b[32m--> \u001b[39m\u001b[32m326\u001b[39m         p = \u001b[43mnx\u001b[49m\u001b[43m.\u001b[49m\u001b[43mbidirectional_shortest_path\u001b[49m\u001b[43m(\u001b[49m\u001b[43mG\u001b[49m\u001b[43m,\u001b[49m\u001b[43m \u001b[49m\u001b[43msource\u001b[49m\u001b[43m,\u001b[49m\u001b[43m \u001b[49m\u001b[43mtarget\u001b[49m\u001b[43m)\u001b[49m\n\u001b[32m    327\u001b[39m         paths = \u001b[38;5;28mlen\u001b[39m(p) - \u001b[32m1\u001b[39m\n\u001b[32m    328\u001b[39m     \u001b[38;5;28;01melif\u001b[39;00m method == \u001b[33m\"\u001b[39m\u001b[33mdijkstra\u001b[39m\u001b[33m\"\u001b[39m:\n",
      "\u001b[36mFile \u001b[39m\u001b[32m<class 'networkx.utils.decorators.argmap'> compilation 13:3\u001b[39m, in \u001b[36margmap_bidirectional_shortest_path_10\u001b[39m\u001b[34m(G, source, target, backend, **backend_kwargs)\u001b[39m\n\u001b[32m      1\u001b[39m \u001b[38;5;28;01mimport\u001b[39;00m\u001b[38;5;250m \u001b[39m\u001b[34;01mbz2\u001b[39;00m\n\u001b[32m      2\u001b[39m \u001b[38;5;28;01mimport\u001b[39;00m\u001b[38;5;250m \u001b[39m\u001b[34;01mcollections\u001b[39;00m\n\u001b[32m----> \u001b[39m\u001b[32m3\u001b[39m \u001b[38;5;28;01mimport\u001b[39;00m\u001b[38;5;250m \u001b[39m\u001b[34;01mgzip\u001b[39;00m\n\u001b[32m      4\u001b[39m \u001b[38;5;28;01mimport\u001b[39;00m\u001b[38;5;250m \u001b[39m\u001b[34;01minspect\u001b[39;00m\n\u001b[32m      5\u001b[39m \u001b[38;5;28;01mimport\u001b[39;00m\u001b[38;5;250m \u001b[39m\u001b[34;01mitertools\u001b[39;00m\n",
      "\u001b[36mFile \u001b[39m\u001b[32mc:\\Users\\Korisnik\\AppData\\Local\\Programs\\Python\\Python313\\Lib\\site-packages\\networkx\\utils\\backends.py:967\u001b[39m, in \u001b[36m_dispatchable.__call__\u001b[39m\u001b[34m(self, backend, *args, **kwargs)\u001b[39m\n\u001b[32m    965\u001b[39m     \u001b[38;5;28;01mif\u001b[39;00m backend \u001b[38;5;129;01mis\u001b[39;00m \u001b[38;5;129;01mnot\u001b[39;00m \u001b[38;5;28;01mNone\u001b[39;00m \u001b[38;5;129;01mand\u001b[39;00m backend != \u001b[33m\"\u001b[39m\u001b[33mnetworkx\u001b[39m\u001b[33m\"\u001b[39m:\n\u001b[32m    966\u001b[39m         \u001b[38;5;28;01mraise\u001b[39;00m \u001b[38;5;167;01mImportError\u001b[39;00m(\u001b[33mf\u001b[39m\u001b[33m\"\u001b[39m\u001b[33m'\u001b[39m\u001b[38;5;132;01m{\u001b[39;00mbackend\u001b[38;5;132;01m}\u001b[39;00m\u001b[33m'\u001b[39m\u001b[33m backend is not installed\u001b[39m\u001b[33m\"\u001b[39m)\n\u001b[32m--> \u001b[39m\u001b[32m967\u001b[39m     \u001b[38;5;28;01mreturn\u001b[39;00m \u001b[38;5;28;43mself\u001b[39;49m\u001b[43m.\u001b[49m\u001b[43morig_func\u001b[49m\u001b[43m(\u001b[49m\u001b[43m*\u001b[49m\u001b[43margs\u001b[49m\u001b[43m,\u001b[49m\u001b[43m \u001b[49m\u001b[43m*\u001b[49m\u001b[43m*\u001b[49m\u001b[43mkwargs\u001b[49m\u001b[43m)\u001b[49m\n\u001b[32m    969\u001b[39m \u001b[38;5;66;03m# Use `backend_name` in this function instead of `backend`.\u001b[39;00m\n\u001b[32m    970\u001b[39m \u001b[38;5;66;03m# This is purely for aesthetics and to make it easier to search for this\u001b[39;00m\n\u001b[32m    971\u001b[39m \u001b[38;5;66;03m# variable since \"backend\" is used in many comments and log/error messages.\u001b[39;00m\n\u001b[32m    972\u001b[39m backend_name = backend\n",
      "\u001b[36mFile \u001b[39m\u001b[32mc:\\Users\\Korisnik\\AppData\\Local\\Programs\\Python\\Python313\\Lib\\site-packages\\networkx\\algorithms\\shortest_paths\\unweighted.py:247\u001b[39m, in \u001b[36mbidirectional_shortest_path\u001b[39m\u001b[34m(G, source, target)\u001b[39m\n\u001b[32m    244\u001b[39m     \u001b[38;5;28;01mraise\u001b[39;00m nx.NodeNotFound(\u001b[33mf\u001b[39m\u001b[33m\"\u001b[39m\u001b[33mSource \u001b[39m\u001b[38;5;132;01m{\u001b[39;00msource\u001b[38;5;132;01m}\u001b[39;00m\u001b[33m is not in G\u001b[39m\u001b[33m\"\u001b[39m)\n\u001b[32m    246\u001b[39m \u001b[38;5;28;01mif\u001b[39;00m target \u001b[38;5;129;01mnot\u001b[39;00m \u001b[38;5;129;01min\u001b[39;00m G:\n\u001b[32m--> \u001b[39m\u001b[32m247\u001b[39m     \u001b[38;5;28;01mraise\u001b[39;00m nx.NodeNotFound(\u001b[33mf\u001b[39m\u001b[33m\"\u001b[39m\u001b[33mTarget \u001b[39m\u001b[38;5;132;01m{\u001b[39;00mtarget\u001b[38;5;132;01m}\u001b[39;00m\u001b[33m is not in G\u001b[39m\u001b[33m\"\u001b[39m)\n\u001b[32m    249\u001b[39m \u001b[38;5;66;03m# call helper to do the real work\u001b[39;00m\n\u001b[32m    250\u001b[39m results = _bidirectional_pred_succ(G, source, target)\n",
      "\u001b[31mNodeNotFound\u001b[39m: Target 99 is not in G"
     ]
    }
   ],
   "source": [
    "is_resolving_set([99, 5, 12, 13, 206, 47, 113, 19, 149, 86, 88, 217, 26, 189],G)"
   ]
  }
 ],
 "metadata": {
  "kernelspec": {
   "display_name": "Python 3",
   "language": "python",
   "name": "python3"
  },
  "language_info": {
   "codemirror_mode": {
    "name": "ipython",
    "version": 3
   },
   "file_extension": ".py",
   "mimetype": "text/x-python",
   "name": "python",
   "nbconvert_exporter": "python",
   "pygments_lexer": "ipython3",
   "version": "3.13.3"
  }
 },
 "nbformat": 4,
 "nbformat_minor": 2
}
