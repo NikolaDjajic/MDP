{
 "cells": [
  {
   "cell_type": "code",
   "execution_count": 16,
   "metadata": {},
   "outputs": [],
   "source": [
    "import networkx as nx\n",
    "import random\n",
    "import itertools\n",
    "import time"
   ]
  },
  {
   "cell_type": "code",
   "execution_count": 17,
   "metadata": {},
   "outputs": [],
   "source": [
    "def load_gcol(file_path):\n",
    "    G = nx.Graph() \n",
    "\n",
    "    with open(file_path, \"r\") as file:\n",
    "        for line in file:\n",
    "            parts = line.split()\n",
    "            if parts[0] == 'e':\n",
    "                node1 = int(parts[1]) \n",
    "                node2 = int(parts[2])  \n",
    "                G.add_edge(node1, node2) \n",
    "    return G"
   ]
  },
  {
   "cell_type": "code",
   "execution_count": 18,
   "metadata": {},
   "outputs": [],
   "source": [
    "def load_graph(file_path):\n",
    "    G = nx.Graph() \n",
    "\n",
    "    with open(file_path, \"r\") as file:\n",
    "        for line in file:\n",
    "            parts = line.split()\n",
    "            \n",
    "            node1 = int(parts[0]) \n",
    "            node2 = int(parts[1])  \n",
    "            G.add_edge(node1, node2) \n",
    "    return G"
   ]
  },
  {
   "cell_type": "code",
   "execution_count": 19,
   "metadata": {},
   "outputs": [],
   "source": [
    "def is_resolving_set(B, G):\n",
    "    distances = {}\n",
    "    for v in G.nodes:\n",
    "        distances[v] = [nx.shortest_path_length(G, v, u) for u in B]\n",
    "    \n",
    "    for v1, v2 in itertools.combinations(G.nodes, 2):\n",
    "        if distances[v1] == distances[v2]:\n",
    "            return False\n",
    "    return True"
   ]
  },
  {
   "cell_type": "code",
   "execution_count": 20,
   "metadata": {},
   "outputs": [],
   "source": [
    "def PocetnoRjesenje(G):\n",
    "    B = set()\n",
    "    while not is_resolving_set(B, G):\n",
    "        v = random.choice(list(G.nodes))\n",
    "        B.add(v)\n",
    "    return B"
   ]
  },
  {
   "cell_type": "code",
   "execution_count": 21,
   "metadata": {},
   "outputs": [],
   "source": [
    "def Nk(B, k, G):\n",
    "    V = set(G.nodes)\n",
    "    if k <= len(B):\n",
    "        # Izbor k elemenata iz komplementa skupa B\n",
    "        complement = V - B\n",
    "        new_sets = []\n",
    "        for comb in itertools.combinations(complement, k):\n",
    "            new_set = B - set([random.choice(list(B))])  # Brisanje jednog elementa iz B\n",
    "            new_set.update(comb)  # Dodavanje novih elemenata iz komplementa\n",
    "            new_sets.append(new_set)\n",
    "        return new_sets\n",
    "    return []"
   ]
  },
  {
   "cell_type": "code",
   "execution_count": 22,
   "metadata": {},
   "outputs": [],
   "source": [
    "def DeleteLast(B):\n",
    "    B0 = B.copy()  \n",
    "    last_element = list(B0)[-1]\n",
    "    B0.remove(last_element) \n",
    "    return B0  "
   ]
  },
  {
   "cell_type": "code",
   "execution_count": 23,
   "metadata": {},
   "outputs": [],
   "source": [
    "def Shaking(B, k, G):\n",
    "    neighbors = Nk(B, k, G)\n",
    "    return random.choice(neighbors) if neighbors else B"
   ]
  },
  {
   "cell_type": "code",
   "execution_count": 24,
   "metadata": {},
   "outputs": [],
   "source": [
    "def ObjF(B, G):\n",
    "    distances = {v: [nx.shortest_path_length(G, v, u) for u in B] for v in G.nodes}\n",
    "    count = 0\n",
    "    for v1, v2 in itertools.combinations(G.nodes, 2):\n",
    "        if distances[v1] == distances[v2]:\n",
    "            count += 1\n",
    "    return count"
   ]
  },
  {
   "cell_type": "code",
   "execution_count": 25,
   "metadata": {},
   "outputs": [],
   "source": [
    "def Compare(B0, B00, pmove,G):\n",
    "    if  len(B00) < len(B0) or ObjF(B00,G) < ObjF(B0,G):\n",
    "        return True\n",
    "    elif len(B00) == len(B0) and ObjF(B00,G) > ObjF(B0,G):\n",
    "        return False\n",
    "    elif len(B00) == len(B0) and ObjF(B00,G) == ObjF(B0,G) and random.random() < pmove:\n",
    "        return True\n",
    "    return False"
   ]
  },
  {
   "cell_type": "code",
   "execution_count": 26,
   "metadata": {},
   "outputs": [],
   "source": [
    "def LexSort(G, B):\n",
    "    distances = {v: tuple(nx.shortest_path_length(G, v, u) for u in B) for v in G.nodes}\n",
    "    sorted_vertices = sorted(G.nodes, key=lambda v: distances[v])\n",
    "    return sorted_vertices, distances"
   ]
  },
  {
   "cell_type": "code",
   "execution_count": 27,
   "metadata": {},
   "outputs": [],
   "source": [
    "def IdentifyBlocks(sorted_vertices, distances):\n",
    "    # Identifikuje blokove (grupe sa istim metričkim koordinatama)\n",
    "    blocks = []\n",
    "    current_block = [sorted_vertices[0]]\n",
    "\n",
    "    for v in sorted_vertices[1:]:\n",
    "        if distances[v] == distances[current_block[0]]:\n",
    "            current_block.append(v)\n",
    "        else:\n",
    "            if len(current_block) > 1:\n",
    "                blocks.append(current_block)\n",
    "            current_block = [v]\n",
    "\n",
    "    if len(current_block) > 1:\n",
    "        blocks.append(current_block)\n",
    "\n",
    "    return blocks"
   ]
  },
  {
   "cell_type": "code",
   "execution_count": 28,
   "metadata": {},
   "outputs": [],
   "source": [
    "def LocalSearch(B, B00, G):\n",
    "    improved = True\n",
    "\n",
    "    while improved:\n",
    "        improved = False\n",
    "        objval = ObjF(B00, G)\n",
    "\n",
    "        for vr in B00:  \n",
    "           \n",
    "            z = {v: 0 for v in set(G.nodes) - B00}\n",
    "             \n",
    "            B00_minus_vr = B00 - {vr}\n",
    "\n",
    "            sorted_vertices, distances = LexSort(G, B00_minus_vr)\n",
    "            blocks = IdentifyBlocks(sorted_vertices, distances)           \n",
    "\n",
    "            # Ažuriranje z[v] na osnovu blokova (korak 8-12)\n",
    "            for block in blocks:\n",
    "                # for p, q in itertools.combinations(block, 2):\n",
    "                for p in block:\n",
    "                    for q in block:\n",
    "                        if(q > p):\n",
    "                            for v in set(G.nodes) - B00:\n",
    "                                if nx.shortest_path_length(G, p, v) == nx.shortest_path_length(G, q, v):\n",
    "                                    z[v] += 1\n",
    "\n",
    "            # print(z)\n",
    "            # Pronalazak minimalnog z[v] (korak 13)\n",
    "            vmin = min(z, key=z.get)\n",
    "\n",
    "            # Korak 14-18: Ako nađemo poboljšanje DOBRO\n",
    "            if z[vmin] == 0:\n",
    "                B = (B00 | {vmin}) - {vr}\n",
    "                B00 = DeleteLast(B)\n",
    "                objval = ObjF(B00, G)\n",
    "                improved = True\n",
    "\n",
    "            # Korak 19-23: Ako je z[vmin] bolje od trenutnog objval DOBRO\n",
    "            elif z[vmin] < objval:\n",
    "                B00 = (B00 | {vmin}) - {vr}\n",
    "                objval = z[vmin]\n",
    "                improved = True\n",
    "    return B"
   ]
  },
  {
   "cell_type": "code",
   "execution_count": 29,
   "metadata": {},
   "outputs": [],
   "source": [
    "def VNS(kmin, kmax, itermax, pmove, G,max_time):\n",
    "    B = PocetnoRjesenje(G)\n",
    "    B0 = DeleteLast(B)\n",
    "    iter = 0\n",
    "    start_time = time.time() \n",
    "    k = kmin\n",
    "    print('Pocetna ',B,B0)\n",
    "    while itermax > iter:\n",
    "        iter +=1\n",
    "              \n",
    "        B00 = Shaking(B0, k, G)\n",
    "        B00 = LocalSearch(B, B00, G)\n",
    "        \n",
    "        if Compare(B0, B00, pmove, G):\n",
    "            B0 = B00  \n",
    "        else:\n",
    "            if k < kmax:\n",
    "                k += 1\n",
    "            else:\n",
    "                k = kmin\n",
    "        # if iter == 0: \n",
    "        print(f\"Iteracija {iter}, najbolji skup {B0}\")\n",
    "    return B0"
   ]
  },
  {
   "cell_type": "code",
   "execution_count": 32,
   "metadata": {},
   "outputs": [
    {
     "name": "stderr",
     "output_type": "stream",
     "text": [
      "<>:4: SyntaxWarning: invalid escape sequence '\\m'\n",
      "<>:4: SyntaxWarning: invalid escape sequence '\\m'\n",
      "C:\\Users\\pc\\AppData\\Local\\Temp\\ipykernel_16208\\3444324657.py:4: SyntaxWarning: invalid escape sequence '\\m'\n",
      "  G = load_graph('grafovi\\mali grafovi\\MANN-a9.txt')\n"
     ]
    },
    {
     "name": "stdout",
     "output_type": "stream",
     "text": [
      "Pocetna  {1, 4, 5, 6, 9, 10, 11, 13, 14, 16, 18, 20, 22, 23, 24, 27, 28, 29, 31, 32, 35, 36, 37, 38, 40, 43, 44} {1, 4, 5, 6, 9, 10, 11, 13, 14, 16, 18, 20, 22, 23, 24, 27, 28, 29, 31, 32, 35, 36, 37, 38, 40, 43}\n",
      "Iteracija 1, najbolji skup {2, 3, 4, 5, 6, 10, 14, 16, 18, 19, 24, 27, 28, 32, 36, 38, 40}\n",
      "Iteracija 2, najbolji skup {2, 3, 4, 6, 9, 10, 14, 16, 19, 22, 27, 28, 32, 36, 38, 41}\n",
      "Iteracija 3, najbolji skup {2, 3, 4, 6, 9, 10, 14, 16, 19, 22, 27, 28, 32, 36, 38, 41}\n",
      "Iteracija 4, najbolji skup {2, 3, 4, 6, 9, 10, 14, 16, 19, 22, 27, 28, 32, 36, 38, 41}\n",
      "Iteracija 5, najbolji skup {2, 3, 4, 6, 9, 10, 14, 16, 19, 22, 27, 28, 32, 36, 38, 41}\n",
      "Iteracija 6, najbolji skup {2, 3, 4, 6, 9, 10, 14, 16, 19, 22, 27, 28, 32, 36, 38, 41}\n",
      "Iteracija 7, najbolji skup {2, 3, 4, 6, 9, 10, 14, 16, 19, 22, 27, 28, 32, 36, 38, 41}\n",
      "Iteracija 8, najbolji skup {2, 3, 4, 6, 9, 10, 14, 16, 19, 22, 27, 28, 32, 36, 38, 41}\n",
      "Iteracija 9, najbolji skup {2, 3, 4, 6, 9, 10, 14, 16, 19, 22, 27, 28, 32, 36, 38, 41}\n",
      "Iteracija 10, najbolji skup {2, 3, 4, 6, 9, 10, 14, 16, 19, 22, 27, 28, 32, 36, 38, 41}\n",
      "Najbolji rešavajući skup: {2, 3, 4, 6, 9, 10, 14, 16, 19, 22, 27, 28, 32, 36, 38, 41}\n",
      "True\n"
     ]
    }
   ],
   "source": [
    "# G = nx.Graph()\n",
    "# G.add_edges_from([(1,2),(1,3),(1,5),(1,6),(2,4),(2,6),(3,5),(3,4),(4,5),(4,6),(5,6)])\n",
    "\n",
    "G = load_graph('grafovi\\mali grafovi\\MANN-a9.txt')\n",
    "\n",
    "# Parametri za VNS\n",
    "kmin = 1\n",
    "kmax = 3\n",
    "itermax = 10\n",
    "pmove = 0.2\n",
    "\n",
    "# Pozivanje funkcije VNS\n",
    "result = VNS(kmin, kmax, itermax, pmove, G,10)\n",
    "print(\"Najbolji rešavajući skup:\", result)\n",
    "print(is_resolving_set(result,G))"
   ]
  }
 ],
 "metadata": {
  "kernelspec": {
   "display_name": "Python 3",
   "language": "python",
   "name": "python3"
  },
  "language_info": {
   "codemirror_mode": {
    "name": "ipython",
    "version": 3
   },
   "file_extension": ".py",
   "mimetype": "text/x-python",
   "name": "python",
   "nbconvert_exporter": "python",
   "pygments_lexer": "ipython3",
   "version": "3.12.0"
  }
 },
 "nbformat": 4,
 "nbformat_minor": 2
}
