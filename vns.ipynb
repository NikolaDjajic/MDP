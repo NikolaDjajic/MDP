{
 "cells": [
  {
   "cell_type": "code",
   "execution_count": 32,
   "metadata": {},
   "outputs": [],
   "source": [
    "import networkx as nx\n",
    "import random\n",
    "import itertools\n",
    "import time"
   ]
  },
  {
   "cell_type": "code",
   "execution_count": 33,
   "metadata": {},
   "outputs": [],
   "source": [
    "def load_gcol(file_path):\n",
    "    G = nx.Graph() \n",
    "\n",
    "    with open(file_path, \"r\") as file:\n",
    "        for line in file:\n",
    "            parts = line.split()\n",
    "            if parts[0] == 'e':\n",
    "                node1 = int(parts[1]) \n",
    "                node2 = int(parts[2])  \n",
    "                G.add_edge(node1, node2) \n",
    "    return G"
   ]
  },
  {
   "cell_type": "code",
   "execution_count": 34,
   "metadata": {},
   "outputs": [],
   "source": [
    "def load_graph(file_path):\n",
    "    G = nx.Graph() \n",
    "\n",
    "    with open(file_path, \"r\") as file:\n",
    "        for line in file:\n",
    "            parts = line.split()\n",
    "            \n",
    "            node1 = int(parts[0]) \n",
    "            node2 = int(parts[1]) \n",
    "            G.add_edge(node1, node2) \n",
    "    return G"
   ]
  },
  {
   "cell_type": "code",
   "execution_count": 35,
   "metadata": {},
   "outputs": [],
   "source": [
    "def is_resolving_set(B, G):\n",
    "    distances = {}\n",
    "    for v in G.nodes:\n",
    "        distances[v] = [nx.shortest_path_length(G, v, u) for u in B]\n",
    "    \n",
    "    for v1, v2 in itertools.combinations(G.nodes, 2):\n",
    "        if distances[v1] == distances[v2]:\n",
    "            return False\n",
    "    return True"
   ]
  },
  {
   "cell_type": "code",
   "execution_count": 36,
   "metadata": {},
   "outputs": [],
   "source": [
    "def PocetnoRjesenje(G):\n",
    "    B = set()\n",
    "    while not is_resolving_set(B, G):\n",
    "        v = random.choice(list(G.nodes))\n",
    "        B.add(v)\n",
    "    return B"
   ]
  },
  {
   "cell_type": "code",
   "execution_count": 37,
   "metadata": {},
   "outputs": [],
   "source": [
    "def Nk(B, k, G):\n",
    "    V = set(G.nodes)\n",
    "    if k <= len(B):\n",
    "        # Izbor k elemenata iz komplementa skupa B\n",
    "        complement = V - B\n",
    "        new_sets = []\n",
    "        for comb in itertools.combinations(complement, k):\n",
    "            new_set = B - set([random.choice(list(B))])  # Brisanje jednog elementa iz B\n",
    "            new_set.update(comb)  # Dodavanje novih elemenata iz komplementa\n",
    "            new_sets.append(new_set)\n",
    "        return new_sets\n",
    "    return []"
   ]
  },
  {
   "cell_type": "code",
   "execution_count": 38,
   "metadata": {},
   "outputs": [],
   "source": [
    "def DeleteLast(B):\n",
    "    B0 = B.copy()  \n",
    "    last_element = list(B0)[-1]\n",
    "    B0.remove(last_element) \n",
    "    return B0  "
   ]
  },
  {
   "cell_type": "code",
   "execution_count": 39,
   "metadata": {},
   "outputs": [],
   "source": [
    "def Shaking(B, k, G):\n",
    "    neighbors = Nk(B, k, G)\n",
    "    return random.choice(neighbors) if neighbors else B"
   ]
  },
  {
   "cell_type": "code",
   "execution_count": 40,
   "metadata": {},
   "outputs": [],
   "source": [
    "def ObjF(B, G):\n",
    "    distances = {v: [nx.shortest_path_length(G, v, u) for u in B] for v in G.nodes}\n",
    "    count = 0\n",
    "    for v1, v2 in itertools.combinations(G.nodes, 2):\n",
    "        if distances[v1] == distances[v2]:\n",
    "            count += 1\n",
    "    return count"
   ]
  },
  {
   "cell_type": "code",
   "execution_count": 41,
   "metadata": {},
   "outputs": [],
   "source": [
    "def Compare(B0, B00, pmove,G):\n",
    "    if  len(B00) < len(B0) or ObjF(B00,G) < ObjF(B0,G):\n",
    "        return True\n",
    "    elif len(B00) == len(B0) and ObjF(B00,G) > ObjF(B0,G):\n",
    "        return False\n",
    "    elif len(B00) == len(B0) and ObjF(B00,G) == ObjF(B0,G) and random.random() < pmove:\n",
    "        return True\n",
    "    return False"
   ]
  },
  {
   "cell_type": "code",
   "execution_count": 42,
   "metadata": {},
   "outputs": [],
   "source": [
    "def LexSort(G, B):\n",
    "    distances = {v: tuple(nx.shortest_path_length(G, v, u) for u in B) for v in G.nodes}\n",
    "    sorted_vertices = sorted(G.nodes, key=lambda v: distances[v])\n",
    "    return sorted_vertices, distances"
   ]
  },
  {
   "cell_type": "code",
   "execution_count": 43,
   "metadata": {},
   "outputs": [],
   "source": [
    "def IdentifyBlocks(sorted_vertices, distances):\n",
    "    # Identifikuje blokove (grupe sa istim metričkim koordinatama)\n",
    "    blocks = []\n",
    "    current_block = [sorted_vertices[0]]\n",
    "\n",
    "    for v in sorted_vertices[1:]:\n",
    "        if distances[v] == distances[current_block[0]]:\n",
    "            current_block.append(v)\n",
    "        else:\n",
    "            if len(current_block) > 1:\n",
    "                blocks.append(current_block)\n",
    "            current_block = [v]\n",
    "\n",
    "    if len(current_block) > 1:\n",
    "        blocks.append(current_block)\n",
    "\n",
    "    return blocks"
   ]
  },
  {
   "cell_type": "code",
   "execution_count": 44,
   "metadata": {},
   "outputs": [],
   "source": [
    "def LocalSearch(B, B00, G):\n",
    "    improved = True\n",
    "\n",
    "    while improved:\n",
    "        improved = False\n",
    "        objval = ObjF(B00, G)\n",
    "\n",
    "        for vr in B00:  \n",
    "           \n",
    "            z = {v: 0 for v in set(G.nodes) - B00}\n",
    "             \n",
    "            B00_minus_vr = B00 - {vr}\n",
    "\n",
    "            sorted_vertices, distances = LexSort(G, B00_minus_vr)\n",
    "            blocks = IdentifyBlocks(sorted_vertices, distances)           \n",
    "\n",
    "            # Ažuriranje z[v] na osnovu blokova (korak 8-12)\n",
    "            for block in blocks:\n",
    "                # for p, q in itertools.combinations(block, 2):\n",
    "                for p in block:\n",
    "                    for q in block:\n",
    "                        if(q > p):\n",
    "                            for v in set(G.nodes) - B00:\n",
    "                                if nx.shortest_path_length(G, p, v) == nx.shortest_path_length(G, q, v):\n",
    "                                    z[v] += 1\n",
    "\n",
    "            # print(z)\n",
    "            # Pronalazak minimalnog z[v] (korak 13)\n",
    "            vmin = min(z, key=z.get)\n",
    "\n",
    "            # Korak 14-18: Ako nađemo poboljšanje DOBRO\n",
    "            if z[vmin] == 0:\n",
    "                B = (B00 | {vmin}) - {vr}\n",
    "                B00 = DeleteLast(B)\n",
    "                objval = ObjF(B00, G)\n",
    "                improved = True\n",
    "\n",
    "            # Korak 19-23: Ako je z[vmin] bolje od trenutnog objval DOBRO\n",
    "            elif z[vmin] < objval:\n",
    "                B00 = (B00 | {vmin}) - {vr}\n",
    "                objval = z[vmin]\n",
    "                improved = True\n",
    "    return B"
   ]
  },
  {
   "cell_type": "code",
   "execution_count": 45,
   "metadata": {},
   "outputs": [],
   "source": [
    "def VNS(kmin, kmax, itermax, pmove, G,max_time):\n",
    "    B = PocetnoRjesenje(G)\n",
    "    B0 = DeleteLast(B)\n",
    "    iter = 0\n",
    "    start_time = time.time() \n",
    "    k = kmin\n",
    "    print('Pocetna ',B,B0)\n",
    "    while itermax > iter:\n",
    "        iter +=1\n",
    "              \n",
    "        B00 = Shaking(B0, k, G)\n",
    "        B00 = LocalSearch(B, B00, G)\n",
    "        \n",
    "        if Compare(B0, B00, pmove, G):\n",
    "            B0 = B00  \n",
    "        else:\n",
    "            if k < kmax:\n",
    "                k += 1\n",
    "            else:\n",
    "                k = kmin\n",
    "        # if iter == 0: \n",
    "        print(f\"Iteracija {iter}, najbolji skup {B0}\")\n",
    "    return B0"
   ]
  },
  {
   "cell_type": "code",
   "execution_count": 46,
   "metadata": {},
   "outputs": [
    {
     "name": "stderr",
     "output_type": "stream",
     "text": [
      "<>:1: SyntaxWarning: invalid escape sequence '\\s'\n",
      "<>:1: SyntaxWarning: invalid escape sequence '\\s'\n",
      "C:\\Users\\Korisnik\\AppData\\Local\\Temp\\ipykernel_388668\\1170289643.py:1: SyntaxWarning: invalid escape sequence '\\s'\n",
      "  G = load_graph('grafovi\\srednji grafovi\\keller4.txt')\n"
     ]
    },
    {
     "name": "stdout",
     "output_type": "stream",
     "text": [
      "Graph with 171 nodes and 9435 edges\n",
      "Graph with 171 nodes and 9435 edges\n",
      "Pocetna  {2, 5, 137, 141, 143, 19, 21, 23, 161, 162, 163, 37, 166, 40, 41, 170, 49, 50, 63, 85, 87, 89, 95, 98, 115, 118, 119, 120} {2, 5, 137, 141, 143, 19, 21, 85, 23, 87, 89, 95, 161, 162, 163, 98, 37, 166, 40, 41, 170, 49, 50, 115, 118, 119, 120}\n",
      "Iteracija 1, najbolji skup {161, 36, 133, 6, 7, 72, 8, 40, 170, 13, 80, 54, 91}\n",
      "Iteracija 2, najbolji skup {160, 133, 6, 135, 8, 40, 13, 148, 54, 120, 91, 127}\n",
      "Iteracija 3, najbolji skup {160, 133, 6, 135, 8, 40, 13, 148, 54, 120, 91, 127}\n",
      "Iteracija 4, najbolji skup {160, 133, 6, 135, 8, 40, 13, 148, 54, 120, 91, 127}\n",
      "Iteracija 5, najbolji skup {160, 133, 6, 135, 8, 40, 13, 148, 54, 120, 91, 127}\n",
      "Najbolji rešavajući skup: {160, 133, 6, 135, 8, 40, 13, 148, 54, 120, 91, 127} 12\n",
      "Vrijeme  13.441174268722534\n"
     ]
    }
   ],
   "source": [
    "G = load_graph('grafovi\\srednji grafovi\\keller4.txt')\n",
    "print(G)\n",
    "if not nx.is_connected(G):\n",
    "    print(\"Graf nije povezan!\")\n",
    "    # Opcionalno: koristi samo najveću povezanu komponentu\n",
    "    largest_cc = max(nx.connected_components(G), key=len)\n",
    "    G = G.subgraph(largest_cc).copy()\n",
    "\n",
    "print(G)\n",
    "kmin = 1\n",
    "kmax = 3\n",
    "itermax = 5\n",
    "pmove = 0.2\n",
    "\n",
    "start_time1 = time.time()\n",
    "result = VNS(kmin, kmax, itermax, pmove, G, 100)\n",
    "end_time1 = time.time()\n",
    "\n",
    "print(\"Najbolji rešavajući skup:\", result, len(result))\n",
    "print(\"Vrijeme \", end_time1-start_time1)"
   ]
  },
  {
   "cell_type": "code",
   "execution_count": 47,
   "metadata": {},
   "outputs": [
    {
     "name": "stdout",
     "output_type": "stream",
     "text": [
      "True\n"
     ]
    }
   ],
   "source": [
    "print(is_resolving_set(result,G))"
   ]
  }
 ],
 "metadata": {
  "kernelspec": {
   "display_name": "Python 3",
   "language": "python",
   "name": "python3"
  },
  "language_info": {
   "codemirror_mode": {
    "name": "ipython",
    "version": 3
   },
   "file_extension": ".py",
   "mimetype": "text/x-python",
   "name": "python",
   "nbconvert_exporter": "python",
   "pygments_lexer": "ipython3",
   "version": "3.13.3"
  }
 },
 "nbformat": 4,
 "nbformat_minor": 2
}
