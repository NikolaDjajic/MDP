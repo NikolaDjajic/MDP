{
 "cells": [
  {
   "cell_type": "code",
   "execution_count": null,
   "metadata": {},
   "outputs": [],
   "source": [
    "import itertools\n",
    "import networkx as nx"
   ]
  },
  {
   "cell_type": "code",
   "execution_count": null,
   "metadata": {},
   "outputs": [],
   "source": [
    "def is_resolving_set(B,nodes,distances):\n",
    "        distance_vectors = {}\n",
    "        for v in nodes:\n",
    "            vector = tuple(distances[(v, b)] for b in B)\n",
    "            if vector in distance_vectors:\n",
    "                return False\n",
    "            distance_vectors[vector] = v\n",
    "        return True"
   ]
  },
  {
   "cell_type": "code",
   "execution_count": null,
   "metadata": {},
   "outputs": [],
   "source": [
    "def metric_dimension(graph):\n",
    "    nodes = list(graph.nodes())\n",
    "    n = len(nodes)\n",
    "\n",
    "    distances = {(u, v): nx.shortest_path_length(graph, u, v) for u in nodes for v in nodes}\n",
    "    print(distances)\n",
    "\n",
    "    for k in range(1, n + 1):\n",
    "        for B in itertools.combinations(nodes, k):\n",
    "            if is_resolving_set(B,nodes,distances):\n",
    "                return len(B), B\n",
    "    return n, nodes"
   ]
  },
  {
   "cell_type": "code",
   "execution_count": null,
   "metadata": {},
   "outputs": [],
   "source": [
    "G = nx.Graph()\n",
    "# G.add_edges_from([(1, 2), (2, 3), (2, 4), (3, 5), (4, 6)])\n",
    "G.add_edges_from([(1, 2), (1, 3),(1,5), (2, 4),(2,6), (3, 5),(3,4), (4, 6),(5,6)])\n",
    "\n",
    "# Proračun metričke dimenzije\n",
    "dim, resolving_set = metric_dimension(G)\n",
    "print(\"Metrička dimenzija:\", dim)\n",
    "print(\"Reperni skup:\", resolving_set)"
   ]
  }
 ],
 "metadata": {
  "kernelspec": {
   "display_name": "Python 3",
   "language": "python",
   "name": "python3"
  },
  "language_info": {
   "codemirror_mode": {
    "name": "ipython",
    "version": 3
   },
   "file_extension": ".py",
   "mimetype": "text/x-python",
   "name": "python",
   "nbconvert_exporter": "python",
   "pygments_lexer": "ipython3",
   "version": "3.12.0"
  }
 },
 "nbformat": 4,
 "nbformat_minor": 2
}
