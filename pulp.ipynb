{
 "cells": [
  {
   "cell_type": "code",
   "execution_count": 13,
   "metadata": {},
   "outputs": [],
   "source": [
    "import pulp\n",
    "import networkx as nx\n",
    "import itertools\n",
    "import time"
   ]
  },
  {
   "cell_type": "code",
   "execution_count": 14,
   "metadata": {},
   "outputs": [],
   "source": [
    "def load_gcol(file_path):\n",
    "    G = nx.Graph() \n",
    "\n",
    "    with open(file_path, \"r\") as file:\n",
    "        for line in file:\n",
    "            parts = line.split()\n",
    "            if parts[0] == 'e':\n",
    "                node1 = int(parts[1]) \n",
    "                node2 = int(parts[2])  \n",
    "                G.add_edge(node1, node2) \n",
    "    return G"
   ]
  },
  {
   "cell_type": "code",
   "execution_count": 15,
   "metadata": {},
   "outputs": [],
   "source": [
    "def load_graph(file_path):\n",
    "    G = nx.Graph() \n",
    "\n",
    "    with open(file_path, \"r\") as file:\n",
    "        for line in file:\n",
    "            parts = line.split()\n",
    "            \n",
    "            node1 = int(parts[0]) \n",
    "            node2 = int(parts[1])  \n",
    "            G.add_edge(node1, node2) \n",
    "    return G"
   ]
  },
  {
   "cell_type": "code",
   "execution_count": null,
   "metadata": {},
   "outputs": [],
   "source": [
    "def pulp1(G):\n",
    "   \n",
    "    n = len(G.nodes)\n",
    "    model = pulp.LpProblem(\"Metric_Dimension_Minimize_Set_Size\", pulp.LpMinimize)\n",
    "\n",
    "    y = pulp.LpVariable.dicts(\"y\", G.nodes, cat=\"Binary\")\n",
    "\n",
    "    # Ciljna funkcija\n",
    "    model += pulp.lpSum(y[j] for j in G.nodes), \"Objective\"\n",
    "\n",
    "    # Ograničenja: Svaki par čvorova mora biti razrješen\n",
    "    for u, v in itertools.combinations(G.nodes, 2):\n",
    "        model += pulp.lpSum(abs(nx.shortest_path_length(G, u, j) - nx.shortest_path_length(G, v, j)) * y[j]\n",
    "                             for j in G.nodes) >= 1, f\"Resolve_{u}_{v}\"\n",
    "        \n",
    "    model.solve(pulp.PULP_CBC_CMD(msg=False))\n",
    "\n",
    "    # Prikaz rezultata\n",
    "    resolving_set = [j for j in G.nodes if pulp.value(y[j]) == 1]\n",
    "    return resolving_set"
   ]
  },
  {
   "cell_type": "code",
   "execution_count": null,
   "metadata": {},
   "outputs": [],
   "source": [
    "def pulp2(G):\n",
    " \n",
    "    n = len(G.nodes)\n",
    "\n",
    "    # Početna gornja granica\n",
    "    s = n\n",
    "    best_resolving_set = None\n",
    "\n",
    "    while s > 1:  \n",
    "        # Kreiranje ILP modela\n",
    "        model = pulp.LpProblem(\"Metric_Dimension_Minimize_Unresolved_Pairs\", pulp.LpMinimize)\n",
    "\n",
    "        # Binarne promenljive y[j] = 1 ako je čvor j u rezolventnom skupu\n",
    "        y = pulp.LpVariable.dicts(\"y\", G.nodes, cat=\"Binary\")\n",
    "\n",
    "        # Binarne promenljive z[u, v] = 1 ako par (u, v) nije razrešen\n",
    "        z = pulp.LpVariable.dicts(\"z\", itertools.combinations(G.nodes, 2), cat=\"Binary\")\n",
    "\n",
    "        # Ciljna funkcija\n",
    "        model += pulp.lpSum(z[u, v] for u, v in itertools.combinations(G.nodes, 2)), \"Min_Unresolved_Pairs\"\n",
    "\n",
    "        # Ograničenje: kardinalnost skupa mora biti tačno s\n",
    "        model += pulp.lpSum(y[j] for j in G.nodes) == s, \"Fixed_Cardinality\"\n",
    "\n",
    "        # Ograničenja za razrješavanje parova\n",
    "        for u, v in itertools.combinations(G.nodes, 2):\n",
    "            model += pulp.lpSum(abs(nx.shortest_path_length(G, u, j) - nx.shortest_path_length(G, v, j)) * y[j]\n",
    "                                 for j in G.nodes) + z[u, v] >= 1, f\"Resolve_{u}_{v}\"\n",
    "\n",
    "        \n",
    "        model.solve(pulp.PULP_CBC_CMD(msg=False))\n",
    "\n",
    "        # Ako rješenje nije pronađeno, prekidamo petlju\n",
    "        if pulp.LpStatus[model.status] != \"Optimal\":\n",
    "            break\n",
    "\n",
    "        # Uzimamo trenutno rješenje\n",
    "        resolving_set = [j for j in G.nodes if pulp.value(y[j]) == 1]\n",
    "\n",
    "        # Provjera da li su svi parovi razrješeni\n",
    "        unresolved_pairs = sum(pulp.value(z[u, v]) for u, v in itertools.combinations(G.nodes, 2))\n",
    "\n",
    "        if unresolved_pairs == 0:\n",
    "            # Ako nema nerješenih parova, čuvamo rješenje i pokušavamo da smanjimo s\n",
    "            best_resolving_set = resolving_set\n",
    "            s -= 1\n",
    "        else:\n",
    "            # Ako postoje nerješeni parovi, vraćamo najbolje do sada rješenje\n",
    "            return best_resolving_set\n",
    "\n",
    "    return best_resolving_set if best_resolving_set else []\n"
   ]
  },
  {
   "cell_type": "code",
   "execution_count": null,
   "metadata": {},
   "outputs": [
    {
     "name": "stderr",
     "output_type": "stream",
     "text": [
      "<>:2: SyntaxWarning: invalid escape sequence '\\c'\n",
      "<>:2: SyntaxWarning: invalid escape sequence '\\c'\n",
      "C:\\Users\\Korisnik\\AppData\\Local\\Temp\\ipykernel_387984\\1791757485.py:2: SyntaxWarning: invalid escape sequence '\\c'\n",
      "  G = load_graph('grafovi\\csp\\csp100.txt')\n"
     ]
    },
    {
     "name": "stdout",
     "output_type": "stream",
     "text": [
      "Graf nije povezan!\n",
      "Optimalni rešavajući skup (Prvi model): [5, 11, 17, 33, 40, 41, 64, 75, 78, 91] 10\n",
      "Vreme izvršavanja (Prvi model): 592.673773765564 sekundi\n"
     ]
    },
    {
     "name": "stderr",
     "output_type": "stream",
     "text": [
      "C:\\Users\\Korisnik\\AppData\\Local\\Temp\\ipykernel_387984\\1791757485.py:2: SyntaxWarning: invalid escape sequence '\\c'\n",
      "  G = load_graph('grafovi\\csp\\csp100.txt')\n"
     ]
    },
    {
     "ename": "KeyboardInterrupt",
     "evalue": "",
     "output_type": "error",
     "traceback": [
      "\u001b[31m---------------------------------------------------------------------------\u001b[39m",
      "\u001b[31mKeyboardInterrupt\u001b[39m                         Traceback (most recent call last)",
      "\u001b[36mCell\u001b[39m\u001b[36m \u001b[39m\u001b[32mIn[18]\u001b[39m\u001b[32m, line 17\u001b[39m\n\u001b[32m     13\u001b[39m \u001b[38;5;28mprint\u001b[39m(\u001b[33m\"\u001b[39m\u001b[33mVreme izvršavanja (Prvi model):\u001b[39m\u001b[33m\"\u001b[39m, end_time1 - start_time1, \u001b[33m\"\u001b[39m\u001b[33msekundi\u001b[39m\u001b[33m\"\u001b[39m)\n\u001b[32m     16\u001b[39m start_time2 = time.time()\n\u001b[32m---> \u001b[39m\u001b[32m17\u001b[39m result2 = \u001b[43mpulp2\u001b[49m\u001b[43m(\u001b[49m\u001b[43mG\u001b[49m\u001b[43m)\u001b[49m\n\u001b[32m     18\u001b[39m end_time2 = time.time()\n\u001b[32m     19\u001b[39m \u001b[38;5;28mprint\u001b[39m(\u001b[33m\"\u001b[39m\u001b[33mOptimalni rešavajući skup (Drugi model):\u001b[39m\u001b[33m\"\u001b[39m, result2, \u001b[38;5;28mlen\u001b[39m(result2))\n",
      "\u001b[36mCell\u001b[39m\u001b[36m \u001b[39m\u001b[32mIn[17]\u001b[39m\u001b[32m, line 27\u001b[39m, in \u001b[36mpulp2\u001b[39m\u001b[34m(G)\u001b[39m\n\u001b[32m     25\u001b[39m \u001b[38;5;66;03m# Ograničenja za razrešavanje parova\u001b[39;00m\n\u001b[32m     26\u001b[39m \u001b[38;5;28;01mfor\u001b[39;00m u, v \u001b[38;5;129;01min\u001b[39;00m itertools.combinations(G.nodes, \u001b[32m2\u001b[39m):\n\u001b[32m---> \u001b[39m\u001b[32m27\u001b[39m     model += \u001b[43mpulp\u001b[49m\u001b[43m.\u001b[49m\u001b[43mlpSum\u001b[49m\u001b[43m(\u001b[49m\u001b[38;5;28;43mabs\u001b[39;49m\u001b[43m(\u001b[49m\u001b[43mnx\u001b[49m\u001b[43m.\u001b[49m\u001b[43mshortest_path_length\u001b[49m\u001b[43m(\u001b[49m\u001b[43mG\u001b[49m\u001b[43m,\u001b[49m\u001b[43m \u001b[49m\u001b[43mu\u001b[49m\u001b[43m,\u001b[49m\u001b[43m \u001b[49m\u001b[43mj\u001b[49m\u001b[43m)\u001b[49m\u001b[43m \u001b[49m\u001b[43m-\u001b[49m\u001b[43m \u001b[49m\u001b[43mnx\u001b[49m\u001b[43m.\u001b[49m\u001b[43mshortest_path_length\u001b[49m\u001b[43m(\u001b[49m\u001b[43mG\u001b[49m\u001b[43m,\u001b[49m\u001b[43m \u001b[49m\u001b[43mv\u001b[49m\u001b[43m,\u001b[49m\u001b[43m \u001b[49m\u001b[43mj\u001b[49m\u001b[43m)\u001b[49m\u001b[43m)\u001b[49m\u001b[43m \u001b[49m\u001b[43m*\u001b[49m\u001b[43m \u001b[49m\u001b[43my\u001b[49m\u001b[43m[\u001b[49m\u001b[43mj\u001b[49m\u001b[43m]\u001b[49m\n\u001b[32m     28\u001b[39m \u001b[43m                         \u001b[49m\u001b[38;5;28;43;01mfor\u001b[39;49;00m\u001b[43m \u001b[49m\u001b[43mj\u001b[49m\u001b[43m \u001b[49m\u001b[38;5;129;43;01min\u001b[39;49;00m\u001b[43m \u001b[49m\u001b[43mG\u001b[49m\u001b[43m.\u001b[49m\u001b[43mnodes\u001b[49m\u001b[43m)\u001b[49m + z[u, v] >= \u001b[32m1\u001b[39m, \u001b[33mf\u001b[39m\u001b[33m\"\u001b[39m\u001b[33mResolve_\u001b[39m\u001b[38;5;132;01m{\u001b[39;00mu\u001b[38;5;132;01m}\u001b[39;00m\u001b[33m_\u001b[39m\u001b[38;5;132;01m{\u001b[39;00mv\u001b[38;5;132;01m}\u001b[39;00m\u001b[33m\"\u001b[39m\n\u001b[32m     31\u001b[39m model.solve(pulp.PULP_CBC_CMD(msg=\u001b[38;5;28;01mFalse\u001b[39;00m))\n\u001b[32m     33\u001b[39m \u001b[38;5;66;03m# Ako rešenje nije pronađeno, prekidamo petlju\u001b[39;00m\n",
      "\u001b[36mFile \u001b[39m\u001b[32mc:\\Users\\Korisnik\\AppData\\Local\\Programs\\Python\\Python313\\Lib\\site-packages\\pulp\\pulp.py:2384\u001b[39m, in \u001b[36mlpSum\u001b[39m\u001b[34m(vector)\u001b[39m\n\u001b[32m   2370\u001b[39m \u001b[38;5;28;01mdef\u001b[39;00m\u001b[38;5;250m \u001b[39m\u001b[34mlpSum\u001b[39m(\n\u001b[32m   2371\u001b[39m     vector: (\n\u001b[32m   2372\u001b[39m         Iterable[LpAffineExpression | LpVariable | \u001b[38;5;28mint\u001b[39m | \u001b[38;5;28mfloat\u001b[39m]\n\u001b[32m   (...)\u001b[39m\u001b[32m   2377\u001b[39m     ),\n\u001b[32m   2378\u001b[39m ):\n\u001b[32m   2379\u001b[39m \u001b[38;5;250m    \u001b[39m\u001b[33;03m\"\"\"\u001b[39;00m\n\u001b[32m   2380\u001b[39m \u001b[33;03m    Calculate the sum of a list of linear expressions\u001b[39;00m\n\u001b[32m   2381\u001b[39m \n\u001b[32m   2382\u001b[39m \u001b[33;03m    :param vector: A list of linear expressions\u001b[39;00m\n\u001b[32m   2383\u001b[39m \u001b[33;03m    \"\"\"\u001b[39;00m\n\u001b[32m-> \u001b[39m\u001b[32m2384\u001b[39m     \u001b[38;5;28;01mreturn\u001b[39;00m \u001b[43mLpAffineExpression\u001b[49m\u001b[43m(\u001b[49m\u001b[43m)\u001b[49m\u001b[43m.\u001b[49m\u001b[43maddInPlace\u001b[49m\u001b[43m(\u001b[49m\u001b[43mvector\u001b[49m\u001b[43m)\u001b[49m\n",
      "\u001b[36mFile \u001b[39m\u001b[32mc:\\Users\\Korisnik\\AppData\\Local\\Programs\\Python\\Python313\\Lib\\site-packages\\pulp\\pulp.py:914\u001b[39m, in \u001b[36mLpAffineExpression.addInPlace\u001b[39m\u001b[34m(self, other, sign)\u001b[39m\n\u001b[32m    911\u001b[39m \u001b[38;5;28;01melif\u001b[39;00m \u001b[38;5;28misinstance\u001b[39m(other, Iterable):\n\u001b[32m    912\u001b[39m     \u001b[38;5;66;03m# if a list, we add each element of the list\u001b[39;00m\n\u001b[32m    913\u001b[39m     \u001b[38;5;28;01mfor\u001b[39;00m e \u001b[38;5;129;01min\u001b[39;00m other:\n\u001b[32m--> \u001b[39m\u001b[32m914\u001b[39m         \u001b[38;5;28mself\u001b[39m.addInPlace(e, sign=sign)\n\u001b[32m    915\u001b[39m \u001b[38;5;66;03m# if we're here, other must be a number\u001b[39;00m\n\u001b[32m    916\u001b[39m \u001b[38;5;66;03m# we check if it's an actual number:\u001b[39;00m\n\u001b[32m    917\u001b[39m \u001b[38;5;28;01melif\u001b[39;00m \u001b[38;5;129;01mnot\u001b[39;00m math.isfinite(other):\n",
      "\u001b[31mKeyboardInterrupt\u001b[39m: "
     ]
    }
   ],
   "source": [
    "G = nx.Graph()\n",
    "G = load_graph('grafovi\\csp\\csp100.txt')\n",
    "if not nx.is_connected(G):\n",
    "    print(\"Graf nije povezan!\")\n",
    "    largest_cc = max(nx.connected_components(G), key=len)\n",
    "    G = G.subgraph(largest_cc).copy()\n",
    "\n",
    "start_time1 = time.time()\n",
    "result1 = pulp1(G)\n",
    "end_time1 = time.time()\n",
    "print(\"Optimalni rješavajući skup (Prvi model):\", result1, len(result1))\n",
    "print(\"Vrijeme izvršavanja (Prvi model):\", end_time1 - start_time1, \"sekundi\")\n",
    "\n",
    "\n",
    "start_time2 = time.time()\n",
    "result2 = pulp2(G)\n",
    "end_time2 = time.time()\n",
    "print(\"Optimalni rješavajući skup (Drugi model):\", result2, len(result2))\n",
    "print(\"Vrijeme izvršavanja (Drugi model):\", end_time2 - start_time2, \"sekundi\")"
   ]
  }
 ],
 "metadata": {
  "kernelspec": {
   "display_name": "Python 3",
   "language": "python",
   "name": "python3"
  },
  "language_info": {
   "codemirror_mode": {
    "name": "ipython",
    "version": 3
   },
   "file_extension": ".py",
   "mimetype": "text/x-python",
   "name": "python",
   "nbconvert_exporter": "python",
   "pygments_lexer": "ipython3",
   "version": "3.13.3"
  }
 },
 "nbformat": 4,
 "nbformat_minor": 2
}
