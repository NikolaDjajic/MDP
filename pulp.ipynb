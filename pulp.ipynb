{
 "cells": [
  {
   "cell_type": "code",
   "execution_count": null,
   "metadata": {},
   "outputs": [],
   "source": [
    "import pulp\n",
    "import networkx as nx\n",
    "import itertools"
   ]
  },
  {
   "cell_type": "code",
   "execution_count": null,
   "metadata": {},
   "outputs": [],
   "source": [
    "def pulp1(G):\n",
    "   \n",
    "    n = len(G.nodes)\n",
    "    model = pulp.LpProblem(\"Metric_Dimension_Minimize_Set_Size\", pulp.LpMinimize)\n",
    "\n",
    "    y = pulp.LpVariable.dicts(\"y\", G.nodes, cat=\"Binary\")\n",
    "\n",
    "    # Ciljna funkcija\n",
    "    model += pulp.lpSum(y[j] for j in G.nodes), \"Objective\"\n",
    "\n",
    "    # Ograničenja: Svaki par čvorova mora biti razrešen\n",
    "    for u, v in itertools.combinations(G.nodes, 2):\n",
    "        model += pulp.lpSum(abs(nx.shortest_path_length(G, u, j) - nx.shortest_path_length(G, v, j)) * y[j]\n",
    "                             for j in G.nodes) >= 1, f\"Resolve_{u}_{v}\"\n",
    "        \n",
    "    model.solve(pulp.PULP_CBC_CMD(msg=False))\n",
    "\n",
    "    # Prikaz rezultata\n",
    "    resolving_set = [j for j in G.nodes if pulp.value(y[j]) == 1]\n",
    "    return resolving_set"
   ]
  },
  {
   "cell_type": "code",
   "execution_count": null,
   "metadata": {},
   "outputs": [],
   "source": [
    "def pulp2(G):\n",
    " \n",
    "    n = len(G.nodes)\n",
    "\n",
    "    # Početna gornja granica\n",
    "    s = n\n",
    "    best_resolving_set = None\n",
    "\n",
    "    while s > 1:  # Iterativno smanjujemo s dok ne nađemo optimalno rešenje\n",
    "        # Kreiranje ILP modela\n",
    "        model = pulp.LpProblem(\"Metric_Dimension_Minimize_Unresolved_Pairs\", pulp.LpMinimize)\n",
    "\n",
    "        # Binarne promenljive y[j] = 1 ako je čvor j u rezolventnom skupu\n",
    "        y = pulp.LpVariable.dicts(\"y\", G.nodes, cat=\"Binary\")\n",
    "\n",
    "        # Binarne promenljive z[u, v] = 1 ako par (u, v) nije razrešen\n",
    "        z = pulp.LpVariable.dicts(\"z\", itertools.combinations(G.nodes, 2), cat=\"Binary\")\n",
    "\n",
    "        # Ciljna funkcija\n",
    "        model += pulp.lpSum(z[u, v] for u, v in itertools.combinations(G.nodes, 2)), \"Min_Unresolved_Pairs\"\n",
    "\n",
    "        # Ograničenje: kardinalnost skupa mora biti tačno s\n",
    "        model += pulp.lpSum(y[j] for j in G.nodes) == s, \"Fixed_Cardinality\"\n",
    "\n",
    "        # Ograničenja za razrešavanje parova\n",
    "        for u, v in itertools.combinations(G.nodes, 2):\n",
    "            model += pulp.lpSum(abs(nx.shortest_path_length(G, u, j) - nx.shortest_path_length(G, v, j)) * y[j]\n",
    "                                 for j in G.nodes) + z[u, v] >= 1, f\"Resolve_{u}_{v}\"\n",
    "\n",
    "        \n",
    "        model.solve(pulp.PULP_CBC_CMD(msg=False))\n",
    "\n",
    "        # Ako rešenje nije pronađeno, prekidamo petlju\n",
    "        if pulp.LpStatus[model.status] != \"Optimal\":\n",
    "            break\n",
    "\n",
    "        # Uzimamo trenutno rešenje\n",
    "        resolving_set = [j for j in G.nodes if pulp.value(y[j]) == 1]\n",
    "\n",
    "        # Provera da li su svi parovi razrešeni\n",
    "        unresolved_pairs = sum(pulp.value(z[u, v]) for u, v in itertools.combinations(G.nodes, 2))\n",
    "\n",
    "        if unresolved_pairs == 0:\n",
    "            # Ako nema nerešenih parova, čuvamo rešenje i pokušavamo da smanjimo s\n",
    "            best_resolving_set = resolving_set\n",
    "            s -= 1\n",
    "        else:\n",
    "            # Ako postoje nerešeni parovi, vraćamo najbolje do sada rešenje\n",
    "            return best_resolving_set\n",
    "\n",
    "    return best_resolving_set if best_resolving_set else []\n"
   ]
  },
  {
   "cell_type": "code",
   "execution_count": null,
   "metadata": {},
   "outputs": [
    {
     "name": "stdout",
     "output_type": "stream",
     "text": [
      "Optimalni rešavajući skup (Prvi model): [1, 3, 5]\n",
      "Optimalni rešavajući skup (Drugi model): [1, 2, 3]\n"
     ]
    }
   ],
   "source": [
    "# G = nx.petersen_graph()\n",
    "G = nx.Graph()\n",
    "G.add_edges_from([(1,2),(1,3),(1,5),(1,6),(2,4),(2,6),(3,5),(3,4),(4,5),(4,6),(5,6)])\n",
    "\n",
    "result1 = pulp1(G)\n",
    "print(\"Optimalni rešavajući skup (Prvi model):\", result1)\n",
    "\n",
    "result2 = pulp2(G)\n",
    "print(\"Optimalni rešavajući skup (Drugi model):\", result2)"
   ]
  }
 ],
 "metadata": {
  "kernelspec": {
   "display_name": "Python 3",
   "language": "python",
   "name": "python3"
  },
  "language_info": {
   "codemirror_mode": {
    "name": "ipython",
    "version": 3
   },
   "file_extension": ".py",
   "mimetype": "text/x-python",
   "name": "python",
   "nbconvert_exporter": "python",
   "pygments_lexer": "ipython3",
   "version": "3.12.0"
  }
 },
 "nbformat": 4,
 "nbformat_minor": 2
}
