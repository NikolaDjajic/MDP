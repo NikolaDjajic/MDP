{
 "cells": [
  {
   "cell_type": "code",
   "execution_count": 113,
   "metadata": {},
   "outputs": [],
   "source": [
    "import random\n",
    "import networkx as nx\n",
    "import itertools\n",
    "import time"
   ]
  },
  {
   "cell_type": "code",
   "execution_count": 114,
   "metadata": {},
   "outputs": [],
   "source": [
    "def is_resolving_set(B, G):\n",
    "    B = set(B).intersection(G.nodes)  # filtriraj samo važeće čvorove\n",
    "    distances = {}\n",
    "    for v in G.nodes:\n",
    "        distances[v] = [nx.shortest_path_length(G, v, u) for u in B]\n",
    "    \n",
    "    for v1, v2 in itertools.combinations(G.nodes, 2):\n",
    "        if distances[v1] == distances[v2]:\n",
    "            return False\n",
    "    return True"
   ]
  },
  {
   "cell_type": "code",
   "execution_count": 115,
   "metadata": {},
   "outputs": [],
   "source": [
    "def load_graph(file_path):\n",
    "    G = nx.Graph() \n",
    "\n",
    "    with open(file_path, \"r\") as file:\n",
    "        for line in file:\n",
    "            parts = line.split()\n",
    "            \n",
    "            node1 = int(parts[0]) \n",
    "            node2 = int(parts[1])  \n",
    "            G.add_edge(node1, node2) \n",
    "    return G"
   ]
  },
  {
   "cell_type": "code",
   "execution_count": 116,
   "metadata": {},
   "outputs": [],
   "source": [
    "def load_gcol(file_path):\n",
    "    G = nx.Graph() \n",
    "\n",
    "    with open(file_path, \"r\") as file:\n",
    "        for line in file:\n",
    "            parts = line.split()\n",
    "            if parts[0] == 'e':\n",
    "                node1 = int(parts[1]) \n",
    "                node2 = int(parts[2])  \n",
    "                G.add_edge(node1, node2) \n",
    "    return G"
   ]
  },
  {
   "cell_type": "code",
   "execution_count": 117,
   "metadata": {},
   "outputs": [],
   "source": [
    "def fitness(individual, G, shortest_paths):\n",
    "    resolving_set = {i for i, bit in enumerate(individual) if bit == 1}\n",
    "\n",
    "    if not resolving_set:\n",
    "        return float(\"inf\")\n",
    "\n",
    "    unresolved_pairs = 0\n",
    "    for u, v in itertools.combinations(G.nodes, 2):\n",
    "        if not any(abs(shortest_paths[u][j] - shortest_paths[v][j]) > 0 for j in resolving_set if j in shortest_paths[u]):\n",
    "            unresolved_pairs += 1 \n",
    "\n",
    "    return len(resolving_set) + 100 * unresolved_pairs"
   ]
  },
  {
   "cell_type": "code",
   "execution_count": 118,
   "metadata": {},
   "outputs": [],
   "source": [
    "def tournament_selection(population, G, k=3):\n",
    "    selected = random.sample(population, k)\n",
    "    return min(selected, key=lambda ind: fitness(ind, G))"
   ]
  },
  {
   "cell_type": "code",
   "execution_count": 119,
   "metadata": {},
   "outputs": [],
   "source": [
    "def weighted_selection(population, G,shortest_paths):\n",
    "    fitness_values = [1 / (1 + fitness(ind, G,shortest_paths)) for ind in population]\n",
    "    return random.choices(population, weights=fitness_values, k=2) "
   ]
  },
  {
   "cell_type": "code",
   "execution_count": 120,
   "metadata": {},
   "outputs": [],
   "source": [
    "def crossover(parent1, parent2,G ):\n",
    "    point = random.randint(1, len(G.nodes) - 1)\n",
    "    return parent1[:point] + parent2[point:], parent2[:point] + parent1[point:]"
   ]
  },
  {
   "cell_type": "code",
   "execution_count": 121,
   "metadata": {},
   "outputs": [],
   "source": [
    "def crossover2(parent1, parent2, G):\n",
    "\n",
    "    point1 = random.randint(1, len(G.nodes) - 1)\n",
    "    point2 = random.randint(1, len(G.nodes) - 1)\n",
    "\n",
    "    if point1 > point2:\n",
    "        point1, point2 = point2, point1\n",
    "\n",
    "    child1 = parent1[:point1] + parent2[point1:point2] + parent1[point2:]\n",
    "    child2 = parent2[:point1] + parent1[point1:point2] + parent2[point2:]\n",
    "    \n",
    "    return child1, child2"
   ]
  },
  {
   "cell_type": "code",
   "execution_count": 122,
   "metadata": {},
   "outputs": [],
   "source": [
    "def mutate(individual, mutation_rate):\n",
    "    new_individual = individual[:]\n",
    "    for i in range(len(new_individual)):\n",
    "        if new_individual[i] == 1 and random.random() < mutation_rate:\n",
    "            new_individual[i] = 0 \n",
    "    return new_individual"
   ]
  },
  {
   "cell_type": "code",
   "execution_count": 123,
   "metadata": {},
   "outputs": [],
   "source": [
    "def greedy_population(graph):\n",
    "\n",
    "    nodes = list(graph.nodes())\n",
    "    node_index = {node: i for i, node in enumerate(nodes)}  # mapiranje čvorova na indekse\n",
    "\n",
    "    degrees = dict(graph.degree())\n",
    "\n",
    "    sorted_nodes = sorted(nodes, key=lambda x: degrees[x], reverse=True)\n",
    "\n",
    "    def is_resolving_set(S):\n",
    "        coords = {node: tuple(nx.shortest_path_length(graph, node, target) for target in S) for node in nodes}\n",
    "        return len(set(coords.values())) == len(nodes)\n",
    "\n",
    "    S = []\n",
    "    for node in sorted_nodes:\n",
    "        S.append(node)\n",
    "        if is_resolving_set(S):\n",
    "            break\n",
    "\n",
    "\n",
    "    binary_vec = [1 if node in S else 0 for node in nodes]\n",
    "    return binary_vec"
   ]
  },
  {
   "cell_type": "code",
   "execution_count": 124,
   "metadata": {},
   "outputs": [],
   "source": [
    "def generate_population(size,G):\n",
    "    return [[random.randint(0, 1) for _ in range(len(G.nodes))] for _ in range(size)]"
   ]
  },
  {
   "cell_type": "code",
   "execution_count": 125,
   "metadata": {},
   "outputs": [],
   "source": [
    "def generate_population_greedy(size,G):\n",
    "    return  [greedy_population(G) for _ in range(size)]"
   ]
  },
  {
   "cell_type": "code",
   "execution_count": 126,
   "metadata": {},
   "outputs": [],
   "source": [
    "def genetic_algorithm(G, shortest_paths,stop,generations, pop_size, crossover_rate, mutation_rate):\n",
    "    population = generate_population(pop_size, G)\n",
    "\n",
    "    global_best_solution = None\n",
    "    global_best_fitness = float('inf')\n",
    "\n",
    "    for gen in range(generations):\n",
    "        new_population = []\n",
    "\n",
    "        for _ in range(pop_size // 2):\n",
    "            parent1, parent2 = weighted_selection(population, G, shortest_paths)\n",
    "\n",
    "            # Ukrštanje\n",
    "            if random.random() < crossover_rate:\n",
    "                child1, child2 = crossover2(parent1, parent2, G)\n",
    "            else:\n",
    "                child1, child2 = parent1[:], parent2[:]\n",
    "\n",
    "            # Mutacija\n",
    "            child1 = mutate(child1, mutation_rate)\n",
    "            child2 = mutate(child2, mutation_rate)\n",
    "\n",
    "            new_population.extend([child1, child2])\n",
    "\n",
    "        population = new_population\n",
    "\n",
    "        # Pronalazak najbolje jedinke u ovoj generaciji\n",
    "        best_solution = min(population, key=lambda ind: fitness(ind, G, shortest_paths))\n",
    "        best_fitness = fitness(best_solution, G, shortest_paths)\n",
    "\n",
    "        print(f\"Generacija {gen + 1}, Najbolji fitnes: {best_fitness}\")\n",
    "\n",
    "        # Ažuriranje globalno najboljeg rješenja\n",
    "        if best_fitness < global_best_fitness:\n",
    "            global_best_fitness = best_fitness\n",
    "            global_best_solution = best_solution[:]\n",
    "            no_improvement = 0\n",
    "        else:\n",
    "            no_improvement += 1\n",
    "\n",
    "        if no_improvement >= stop:\n",
    "            print(f\"Prekid: nema poboljšanja tokom {stop} generacija.\")\n",
    "            break\n",
    "\n",
    "    optimal_set = {i for i, bit in enumerate(global_best_solution) if bit == 1}\n",
    "    print(\"\\nOptimalni rješavajući skup:\", optimal_set, len(optimal_set))\n",
    "    return optimal_set,len(optimal_set)"
   ]
  },
  {
   "cell_type": "code",
   "execution_count": 127,
   "metadata": {},
   "outputs": [
    {
     "name": "stderr",
     "output_type": "stream",
     "text": [
      "<>:1: SyntaxWarning: invalid escape sequence '\\g'\n",
      "<>:1: SyntaxWarning: invalid escape sequence '\\g'\n",
      "C:\\Users\\Korisnik\\AppData\\Local\\Temp\\ipykernel_465112\\3821854303.py:1: SyntaxWarning: invalid escape sequence '\\g'\n",
      "  G = load_gcol('grafovi\\gcol\\gcol30.txt')\n"
     ]
    }
   ],
   "source": [
    "G = load_gcol('grafovi\\gcol\\gcol30.txt')\n",
    "if not nx.is_connected(G):\n",
    "    print(\"Graf nije povezan!\")\n",
    "    largest_cc = max(nx.connected_components(G), key=len)\n",
    "    G = G.subgraph(largest_cc).copy()\n",
    "shortest_paths = dict(nx.all_pairs_shortest_path_length(G))"
   ]
  },
  {
   "cell_type": "code",
   "execution_count": 128,
   "metadata": {},
   "outputs": [
    {
     "name": "stdout",
     "output_type": "stream",
     "text": [
      "Testing: {'stop': 3, 'pop_size': 20, 'mutation_rate': 0.2, 'crossover_rate': 0.6, 'generations': 50}\n",
      "Generacija 1, Najbolji fitnes: 105\n",
      "Generacija 2, Najbolji fitnes: 79\n",
      "Generacija 3, Najbolji fitnes: 61\n",
      "Generacija 4, Najbolji fitnes: 47\n",
      "Generacija 5, Najbolji fitnes: 38\n",
      "Generacija 6, Najbolji fitnes: 30\n",
      "Generacija 7, Najbolji fitnes: 23\n",
      "Generacija 8, Najbolji fitnes: 18\n",
      "Generacija 9, Najbolji fitnes: 14\n",
      "Generacija 10, Najbolji fitnes: 14\n",
      "Generacija 11, Najbolji fitnes: 14\n",
      "Generacija 12, Najbolji fitnes: 17\n",
      "Prekid: nema poboljšanja tokom 3 generacija.\n",
      "\n",
      "Optimalni rješavajući skup: {259, 102, 7, 41, 171, 206, 81, 49, 21, 152, 185, 283, 124, 191} 14\n",
      "🔁 Rezultat: 14 | ⏱️ Vrijeme: 52.44 sekundi\n",
      "Testing: {'stop': 3, 'pop_size': 30, 'mutation_rate': 0.2, 'crossover_rate': 0.6, 'generations': 50}\n",
      "Generacija 1, Najbolji fitnes: 101\n",
      "Generacija 2, Najbolji fitnes: 80\n",
      "Generacija 3, Najbolji fitnes: 64\n",
      "Generacija 4, Najbolji fitnes: 37\n",
      "Generacija 5, Najbolji fitnes: 30\n",
      "Generacija 6, Najbolji fitnes: 23\n",
      "Generacija 7, Najbolji fitnes: 16\n",
      "Generacija 8, Najbolji fitnes: 14\n",
      "Generacija 9, Najbolji fitnes: 14\n",
      "Generacija 10, Najbolji fitnes: 16\n",
      "Generacija 11, Najbolji fitnes: 15\n",
      "Prekid: nema poboljšanja tokom 3 generacija.\n",
      "\n",
      "Optimalni rješavajući skup: {290, 133, 165, 263, 40, 294, 107, 47, 208, 271, 181, 247, 152, 284} 14\n",
      "🔁 Rezultat: 14 | ⏱️ Vrijeme: 99.87 sekundi\n",
      "Testing: {'stop': 5, 'pop_size': 20, 'mutation_rate': 0.2, 'crossover_rate': 0.6, 'generations': 50}\n",
      "Generacija 1, Najbolji fitnes: 109\n",
      "Generacija 2, Najbolji fitnes: 87\n",
      "Generacija 3, Najbolji fitnes: 70\n",
      "Generacija 4, Najbolji fitnes: 53\n",
      "Generacija 5, Najbolji fitnes: 32\n",
      "Generacija 6, Najbolji fitnes: 28\n",
      "Generacija 7, Najbolji fitnes: 23\n",
      "Generacija 8, Najbolji fitnes: 19\n",
      "Generacija 9, Najbolji fitnes: 15\n",
      "Generacija 10, Najbolji fitnes: 15\n",
      "Generacija 11, Najbolji fitnes: 16\n",
      "Generacija 12, Najbolji fitnes: 16\n",
      "Generacija 13, Najbolji fitnes: 114\n",
      "Generacija 14, Najbolji fitnes: 314\n",
      "Prekid: nema poboljšanja tokom 5 generacija.\n",
      "\n",
      "Optimalni rješavajući skup: {64, 66, 255, 71, 298, 204, 269, 47, 143, 81, 145, 52, 152, 158, 223} 15\n",
      "🔁 Rezultat: 15 | ⏱️ Vrijeme: 57.57 sekundi\n",
      "Testing: {'stop': 5, 'pop_size': 30, 'mutation_rate': 0.2, 'crossover_rate': 0.6, 'generations': 50}\n",
      "Generacija 1, Najbolji fitnes: 107\n",
      "Generacija 2, Najbolji fitnes: 87\n",
      "Generacija 3, Najbolji fitnes: 69\n",
      "Generacija 4, Najbolji fitnes: 49\n",
      "Generacija 5, Najbolji fitnes: 37\n",
      "Generacija 6, Najbolji fitnes: 29\n",
      "Generacija 7, Najbolji fitnes: 19\n",
      "Generacija 8, Najbolji fitnes: 17\n",
      "Generacija 9, Najbolji fitnes: 16\n",
      "Generacija 10, Najbolji fitnes: 15\n",
      "Generacija 11, Najbolji fitnes: 14\n",
      "Generacija 12, Najbolji fitnes: 14\n",
      "Generacija 13, Najbolji fitnes: 15\n",
      "Generacija 14, Najbolji fitnes: 15\n",
      "Generacija 15, Najbolji fitnes: 15\n",
      "Generacija 16, Najbolji fitnes: 15\n",
      "Prekid: nema poboljšanja tokom 5 generacija.\n",
      "\n",
      "Optimalni rješavajući skup: {131, 4, 103, 40, 136, 236, 268, 143, 176, 211, 275, 54, 24, 253} 14\n",
      "🔁 Rezultat: 14 | ⏱️ Vrijeme: 139.61 sekundi\n",
      "\n",
      "✅ Najbolji rezultat: 14\n",
      "📌 Najbolji parametri: {'stop': 3, 'pop_size': 20, 'mutation_rate': 0.2, 'crossover_rate': 0.6, 'generations': 50}\n",
      "📌 Vrijeme: 52.436660289764404\n"
     ]
    }
   ],
   "source": [
    "param_grid = {\n",
    "    'stop':[3,5],\n",
    "    'pop_size': [20,30],\n",
    "    'mutation_rate': [0.2],\n",
    "    'crossover_rate': [0.6],\n",
    "    'generations': [50]\n",
    "}\n",
    "\n",
    "best_score = float('inf')\n",
    "best_params = None\n",
    "\n",
    "for combo in itertools.product(*param_grid.values()):\n",
    "    params = dict(zip(param_grid.keys(), combo))\n",
    "    \n",
    "    print(f\"Testing: {params}\")\n",
    "    \n",
    "    start_time = time.time()  # ⏱️ početak\n",
    "    os,score = genetic_algorithm(G,shortest_paths,**params)\n",
    "    end_time = time.time()    # ⏱️ kraj\n",
    "    \n",
    "    duration = end_time - start_time\n",
    "    print(f\"🔁 Rezultat: {score} | ⏱️ Vrijeme: {duration:.2f} sekundi\")\n",
    "    \n",
    "    if (score < best_score) or (score == best_score and duration < duration1):\n",
    "        if(is_resolving_set(os,G)):\n",
    "            best_score = score\n",
    "            best_params = params\n",
    "            duration1 = duration\n",
    "\n",
    "print(\"\\n✅ Najbolji rezultat:\", best_score)\n",
    "print(\"📌 Najbolji parametri:\", best_params)\n",
    "print(\"📌 Vrijeme:\", duration1)"
   ]
  },
  {
   "cell_type": "code",
   "execution_count": null,
   "metadata": {},
   "outputs": [],
   "source": []
  }
 ],
 "metadata": {
  "kernelspec": {
   "display_name": "Python 3",
   "language": "python",
   "name": "python3"
  },
  "language_info": {
   "codemirror_mode": {
    "name": "ipython",
    "version": 3
   },
   "file_extension": ".py",
   "mimetype": "text/x-python",
   "name": "python",
   "nbconvert_exporter": "python",
   "pygments_lexer": "ipython3",
   "version": "3.13.3"
  }
 },
 "nbformat": 4,
 "nbformat_minor": 2
}
