{
 "cells": [
  {
   "cell_type": "code",
   "execution_count": 13,
   "metadata": {},
   "outputs": [],
   "source": [
    "import random\n",
    "import networkx as nx\n",
    "import itertools\n",
    "import time"
   ]
  },
  {
   "cell_type": "code",
   "execution_count": 14,
   "metadata": {},
   "outputs": [],
   "source": [
    "def is_resolving_set(B, G):\n",
    "    distances = {}\n",
    "    for v in G.nodes:\n",
    "        distances[v] = [nx.shortest_path_length(G, v, u) for u in B]\n",
    "    \n",
    "    for v1, v2 in itertools.combinations(G.nodes, 2):\n",
    "        if distances[v1] == distances[v2]:\n",
    "            return False\n",
    "    return True"
   ]
  },
  {
   "cell_type": "code",
   "execution_count": 15,
   "metadata": {},
   "outputs": [],
   "source": [
    "def load_graph(file_path):\n",
    "    G = nx.Graph() \n",
    "\n",
    "    with open(file_path, \"r\") as file:\n",
    "        for line in file:\n",
    "            parts = line.split()\n",
    "            \n",
    "            node1 = int(parts[0]) \n",
    "            node2 = int(parts[1])  \n",
    "            G.add_edge(node1, node2) \n",
    "    return G"
   ]
  },
  {
   "cell_type": "code",
   "execution_count": 16,
   "metadata": {},
   "outputs": [],
   "source": [
    "def load_gcol(file_path):\n",
    "    G = nx.Graph() \n",
    "\n",
    "    with open(file_path, \"r\") as file:\n",
    "        for line in file:\n",
    "            parts = line.split()\n",
    "            if parts[0] == 'e':\n",
    "                node1 = int(parts[1]) \n",
    "                node2 = int(parts[2])  \n",
    "                G.add_edge(node1, node2) \n",
    "    return G"
   ]
  },
  {
   "cell_type": "code",
   "execution_count": 17,
   "metadata": {},
   "outputs": [],
   "source": [
    "def generate_population(size,G):\n",
    "    return [[random.randint(0, 1) for _ in range(len(G.nodes))] for _ in range(size)]"
   ]
  },
  {
   "cell_type": "code",
   "execution_count": 18,
   "metadata": {},
   "outputs": [],
   "source": [
    "def fitness(individual, G, shortest_paths):\n",
    "    resolving_set = {i for i, bit in enumerate(individual) if bit == 1}\n",
    "\n",
    "    if not resolving_set:\n",
    "        return float(\"inf\")\n",
    "\n",
    "    unresolved_pairs = 0\n",
    "    for u, v in itertools.combinations(G.nodes, 2):\n",
    "        if not any(abs(shortest_paths[u][j] - shortest_paths[v][j]) > 0 for j in resolving_set if j in shortest_paths[u]):\n",
    "            unresolved_pairs += 1  # Par (u, v) nije razrešen\n",
    "\n",
    "    return len(resolving_set) + 100 * unresolved_pairs  # Penalizacija nerešenih parova"
   ]
  },
  {
   "cell_type": "code",
   "execution_count": 19,
   "metadata": {},
   "outputs": [],
   "source": [
    "def tournament_selection(population, G, k=3):\n",
    "    selected = random.sample(population, k)\n",
    "    return min(selected, key=lambda ind: fitness(ind, G))"
   ]
  },
  {
   "cell_type": "code",
   "execution_count": 20,
   "metadata": {},
   "outputs": [],
   "source": [
    "def weighted_selection(population, G,shortest_paths):\n",
    "    fitness_values = [1 / (1 + fitness(ind, G,shortest_paths)) for ind in population]  # Inverzija jer tražimo minimu\n",
    "    return random.choices(population, weights=fitness_values, k=2)  # Bira 2 roditelja"
   ]
  },
  {
   "cell_type": "code",
   "execution_count": 21,
   "metadata": {},
   "outputs": [],
   "source": [
    "def crossover(parent1, parent2,G ):\n",
    "    point = random.randint(1, len(G.nodes) - 1)\n",
    "    return parent1[:point] + parent2[point:], parent2[:point] + parent1[point:]"
   ]
  },
  {
   "cell_type": "code",
   "execution_count": 22,
   "metadata": {},
   "outputs": [],
   "source": [
    "def mutate(individual, mutation_rate=0.05):\n",
    "    new_individual = individual[:]\n",
    "    for i in range(len(new_individual)):\n",
    "        if new_individual[i] == 1 and random.random() < mutation_rate:\n",
    "            new_individual[i] = 0 \n",
    "    return new_individual"
   ]
  },
  {
   "cell_type": "code",
   "execution_count": 23,
   "metadata": {},
   "outputs": [],
   "source": [
    "def genetic_algorithm(G, shortest_paths,stop,generations, pop_size=30, crossover_rate=0.5, mutation_rate=0.1):\n",
    "    population = generate_population(pop_size, G)\n",
    "\n",
    "    # Inicijalizuj najbolju jedinku do sada\n",
    "    global_best_solution = None\n",
    "    global_best_fitness = float('inf')\n",
    "\n",
    "    for gen in range(generations):\n",
    "        new_population = []\n",
    "\n",
    "        for _ in range(pop_size // 2):\n",
    "            parent1, parent2 = weighted_selection(population, G, shortest_paths)\n",
    "\n",
    "            # Ukrštanje\n",
    "            if random.random() < crossover_rate:\n",
    "                child1, child2 = crossover(parent1, parent2, G)\n",
    "            else:\n",
    "                child1, child2 = parent1[:], parent2[:]  # koristi kopije\n",
    "\n",
    "            # Mutacija\n",
    "            child1 = mutate(child1, mutation_rate)\n",
    "            child2 = mutate(child2, mutation_rate)\n",
    "\n",
    "            new_population.extend([child1, child2])\n",
    "\n",
    "        population = new_population\n",
    "\n",
    "        # Pronalazak najbolje jedinke u ovoj generaciji\n",
    "        best_solution = min(population, key=lambda ind: fitness(ind, G, shortest_paths))\n",
    "        best_fitness = fitness(best_solution, G, shortest_paths)\n",
    "\n",
    "        print(f\"Generacija {gen + 1}, Najbolji fitnes: {best_fitness}\")\n",
    "\n",
    "        # Ažuriranje globalno najboljeg rešenja\n",
    "        if best_fitness < global_best_fitness:\n",
    "            global_best_fitness = best_fitness\n",
    "            global_best_solution = best_solution[:]\n",
    "            no_improvement = 0  # Resetuj brojač\n",
    "        else:\n",
    "            no_improvement += 1\n",
    "\n",
    "        if no_improvement >= stop:\n",
    "            print(f\"Prekid: nema poboljšanja tokom {stop} generacija.\")\n",
    "            break\n",
    "\n",
    "    optimal_set = {i for i, bit in enumerate(global_best_solution) if bit == 1}\n",
    "    print(\"\\nOptimalni rešavajući skup:\", optimal_set, len(optimal_set))\n",
    "    return optimal_set"
   ]
  },
  {
   "cell_type": "code",
   "execution_count": 24,
   "metadata": {},
   "outputs": [
    {
     "name": "stderr",
     "output_type": "stream",
     "text": [
      "<>:1: SyntaxWarning: invalid escape sequence '\\s'\n",
      "<>:1: SyntaxWarning: invalid escape sequence '\\s'\n",
      "C:\\Users\\Korisnik\\AppData\\Local\\Temp\\ipykernel_387328\\3679822134.py:1: SyntaxWarning: invalid escape sequence '\\s'\n",
      "  G = load_graph('grafovi\\srednji grafovi\\keller4.txt')\n"
     ]
    },
    {
     "name": "stdout",
     "output_type": "stream",
     "text": [
      "Generacija 1, Najbolji fitnes: 64\n",
      "Generacija 2, Najbolji fitnes: 56\n",
      "Generacija 3, Najbolji fitnes: 51\n",
      "Generacija 4, Najbolji fitnes: 46\n",
      "Generacija 5, Najbolji fitnes: 42\n",
      "Generacija 6, Najbolji fitnes: 34\n",
      "Generacija 7, Najbolji fitnes: 28\n",
      "Generacija 8, Najbolji fitnes: 24\n",
      "Generacija 9, Najbolji fitnes: 21\n",
      "Generacija 10, Najbolji fitnes: 21\n",
      "Generacija 11, Najbolji fitnes: 20\n",
      "Generacija 12, Najbolji fitnes: 19\n",
      "Generacija 13, Najbolji fitnes: 18\n",
      "Generacija 14, Najbolji fitnes: 18\n",
      "Generacija 15, Najbolji fitnes: 17\n",
      "Generacija 16, Najbolji fitnes: 16\n",
      "Generacija 17, Najbolji fitnes: 17\n",
      "Generacija 18, Najbolji fitnes: 17\n",
      "Generacija 19, Najbolji fitnes: 17\n",
      "Prekid: nema poboljšanja tokom 3 generacija.\n",
      "\n",
      "Optimalni rešavajući skup: {34, 162, 5, 40, 105, 42, 141, 144, 20, 55, 93, 23, 122, 61, 94, 31} 16\n",
      "Vrijeme  52.6687958240509\n",
      "True\n"
     ]
    }
   ],
   "source": [
    "G = load_graph('grafovi\\srednji grafovi\\keller4.txt')\n",
    "if not nx.is_connected(G):\n",
    "    print(\"Graf nije povezan!\")\n",
    "    largest_cc = max(nx.connected_components(G), key=len)\n",
    "    G = G.subgraph(largest_cc).copy()\n",
    "\n",
    "start_time1 = time.time()\n",
    "shortest_paths = dict(nx.all_pairs_shortest_path_length(G))\n",
    "rez = genetic_algorithm(G,shortest_paths,3,500)\n",
    "end_time1 = time.time()\n",
    "print(\"Vrijeme \", end_time1-start_time1)\n",
    "print(is_resolving_set(rez,G))"
   ]
  }
 ],
 "metadata": {
  "kernelspec": {
   "display_name": "Python 3",
   "language": "python",
   "name": "python3"
  },
  "language_info": {
   "codemirror_mode": {
    "name": "ipython",
    "version": 3
   },
   "file_extension": ".py",
   "mimetype": "text/x-python",
   "name": "python",
   "nbconvert_exporter": "python",
   "pygments_lexer": "ipython3",
   "version": "3.13.3"
  }
 },
 "nbformat": 4,
 "nbformat_minor": 2
}
