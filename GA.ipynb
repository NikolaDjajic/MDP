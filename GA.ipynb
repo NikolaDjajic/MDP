{
 "cells": [
  {
   "cell_type": "code",
   "execution_count": 1,
   "metadata": {},
   "outputs": [],
   "source": [
    "import random\n",
    "import networkx as nx\n",
    "import itertools\n",
    "import time"
   ]
  },
  {
   "cell_type": "code",
   "execution_count": 2,
   "metadata": {},
   "outputs": [],
   "source": [
    "def is_resolving_set(B, G):\n",
    "    distances = {}\n",
    "    for v in G.nodes:\n",
    "        distances[v] = [nx.shortest_path_length(G, v, u) for u in B]\n",
    "    \n",
    "    for v1, v2 in itertools.combinations(G.nodes, 2):\n",
    "        if distances[v1] == distances[v2]:\n",
    "            return False\n",
    "    return True"
   ]
  },
  {
   "cell_type": "code",
   "execution_count": 3,
   "metadata": {},
   "outputs": [],
   "source": [
    "def load_graph(file_path):\n",
    "    G = nx.Graph() \n",
    "\n",
    "    with open(file_path, \"r\") as file:\n",
    "        for line in file:\n",
    "            parts = line.split()\n",
    "            \n",
    "            node1 = int(parts[0]) \n",
    "            node2 = int(parts[1])  \n",
    "            G.add_edge(node1, node2) \n",
    "    return G"
   ]
  },
  {
   "cell_type": "code",
   "execution_count": 4,
   "metadata": {},
   "outputs": [],
   "source": [
    "def load_gcol(file_path):\n",
    "    G = nx.Graph() \n",
    "\n",
    "    with open(file_path, \"r\") as file:\n",
    "        for line in file:\n",
    "            parts = line.split()\n",
    "            if parts[0] == 'e':\n",
    "                node1 = int(parts[1]) \n",
    "                node2 = int(parts[2])  \n",
    "                G.add_edge(node1, node2) \n",
    "    return G"
   ]
  },
  {
   "cell_type": "code",
   "execution_count": 5,
   "metadata": {},
   "outputs": [],
   "source": [
    "def generate_population(size,G):\n",
    "    return [[random.randint(0, 1) for _ in range(len(G.nodes))] for _ in range(size)]"
   ]
  },
  {
   "cell_type": "code",
   "execution_count": 6,
   "metadata": {},
   "outputs": [],
   "source": [
    "def fitness(individual, G, shortest_paths):\n",
    "    resolving_set = {i for i, bit in enumerate(individual) if bit == 1}\n",
    "\n",
    "    if not resolving_set:\n",
    "        return float(\"inf\")\n",
    "\n",
    "    unresolved_pairs = 0\n",
    "    for u, v in itertools.combinations(G.nodes, 2):\n",
    "        if not any(abs(shortest_paths[u][j] - shortest_paths[v][j]) > 0 for j in resolving_set if j in shortest_paths[u]):\n",
    "            unresolved_pairs += 1  # Par (u, v) nije razrešen\n",
    "\n",
    "    return len(resolving_set) + 100 * unresolved_pairs  # Penalizacija nerešenih parova"
   ]
  },
  {
   "cell_type": "code",
   "execution_count": 7,
   "metadata": {},
   "outputs": [],
   "source": [
    "def tournament_selection(population, G, k=3):\n",
    "    selected = random.sample(population, k)\n",
    "    return min(selected, key=lambda ind: fitness(ind, G))"
   ]
  },
  {
   "cell_type": "code",
   "execution_count": null,
   "metadata": {},
   "outputs": [],
   "source": [
    "def weighted_selection(population, G,shortest_paths):\n",
    "    fitness_values = [1 / (1 + fitness(ind, G,shortest_paths)) for ind in population]\n",
    "    return random.choices(population, weights=fitness_values, k=2) "
   ]
  },
  {
   "cell_type": "code",
   "execution_count": 9,
   "metadata": {},
   "outputs": [],
   "source": [
    "def crossover(parent1, parent2,G ):\n",
    "    point = random.randint(1, len(G.nodes) - 1)\n",
    "    return parent1[:point] + parent2[point:], parent2[:point] + parent1[point:]"
   ]
  },
  {
   "cell_type": "code",
   "execution_count": 10,
   "metadata": {},
   "outputs": [],
   "source": [
    "def mutate(individual, mutation_rate=0.05):\n",
    "    new_individual = individual[:]\n",
    "    for i in range(len(new_individual)):\n",
    "        if new_individual[i] == 1 and random.random() < mutation_rate:\n",
    "            new_individual[i] = 0 \n",
    "    return new_individual"
   ]
  },
  {
   "cell_type": "code",
   "execution_count": null,
   "metadata": {},
   "outputs": [],
   "source": [
    "def genetic_algorithm(G, shortest_paths,stop,generations, pop_size=30, crossover_rate=0.5, mutation_rate=0.1):\n",
    "    population = generate_population(pop_size, G)\n",
    "\n",
    "    global_best_solution = None\n",
    "    global_best_fitness = float('inf')\n",
    "\n",
    "    for gen in range(generations):\n",
    "        new_population = []\n",
    "\n",
    "        for _ in range(pop_size // 2):\n",
    "            parent1, parent2 = weighted_selection(population, G, shortest_paths)\n",
    "\n",
    "            # Ukrštanje\n",
    "            if random.random() < crossover_rate:\n",
    "                child1, child2 = crossover(parent1, parent2, G)\n",
    "            else:\n",
    "                child1, child2 = parent1[:], parent2[:]\n",
    "\n",
    "            # Mutacija\n",
    "            child1 = mutate(child1, mutation_rate)\n",
    "            child2 = mutate(child2, mutation_rate)\n",
    "\n",
    "            new_population.extend([child1, child2])\n",
    "\n",
    "        population = new_population\n",
    "\n",
    "        # Pronalazak najbolje jedinke u ovoj generaciji\n",
    "        best_solution = min(population, key=lambda ind: fitness(ind, G, shortest_paths))\n",
    "        best_fitness = fitness(best_solution, G, shortest_paths)\n",
    "\n",
    "        print(f\"Generacija {gen + 1}, Najbolji fitnes: {best_fitness}\")\n",
    "\n",
    "        # Ažuriranje globalno najboljeg rješenja\n",
    "        if best_fitness < global_best_fitness:\n",
    "            global_best_fitness = best_fitness\n",
    "            global_best_solution = best_solution[:]\n",
    "            no_improvement = 0\n",
    "        else:\n",
    "            no_improvement += 1\n",
    "\n",
    "        if no_improvement >= stop:\n",
    "            print(f\"Prekid: nema poboljšanja tokom {stop} generacija.\")\n",
    "            break\n",
    "\n",
    "    optimal_set = {i for i, bit in enumerate(global_best_solution) if bit == 1}\n",
    "    print(\"\\nOptimalni rješavajući skup:\", optimal_set, len(optimal_set))\n",
    "    return optimal_set"
   ]
  },
  {
   "cell_type": "code",
   "execution_count": 12,
   "metadata": {},
   "outputs": [
    {
     "name": "stderr",
     "output_type": "stream",
     "text": [
      "<>:1: SyntaxWarning: invalid escape sequence '\\g'\n",
      "<>:1: SyntaxWarning: invalid escape sequence '\\g'\n",
      "C:\\Users\\Korisnik\\AppData\\Local\\Temp\\ipykernel_389688\\1370227836.py:1: SyntaxWarning: invalid escape sequence '\\g'\n",
      "  G = load_gcol('grafovi\\gcol\\gcol26.txt')\n"
     ]
    },
    {
     "name": "stdout",
     "output_type": "stream",
     "text": [
      "Generacija 1, Najbolji fitnes: 112\n",
      "Generacija 2, Najbolji fitnes: 110\n",
      "Generacija 3, Najbolji fitnes: 99\n",
      "Generacija 4, Najbolji fitnes: 87\n",
      "Generacija 5, Najbolji fitnes: 73\n",
      "Generacija 6, Najbolji fitnes: 64\n",
      "Generacija 7, Najbolji fitnes: 57\n",
      "Generacija 8, Najbolji fitnes: 49\n",
      "Generacija 9, Najbolji fitnes: 42\n",
      "Generacija 10, Najbolji fitnes: 39\n",
      "Generacija 11, Najbolji fitnes: 33\n",
      "Generacija 12, Najbolji fitnes: 31\n",
      "Generacija 13, Najbolji fitnes: 27\n",
      "Generacija 14, Najbolji fitnes: 24\n",
      "Generacija 15, Najbolji fitnes: 22\n",
      "Generacija 16, Najbolji fitnes: 18\n",
      "Generacija 17, Najbolji fitnes: 17\n",
      "Generacija 18, Najbolji fitnes: 16\n",
      "Generacija 19, Najbolji fitnes: 15\n",
      "Generacija 20, Najbolji fitnes: 15\n",
      "Generacija 21, Najbolji fitnes: 15\n",
      "Generacija 22, Najbolji fitnes: 14\n",
      "Generacija 23, Najbolji fitnes: 14\n"
     ]
    },
    {
     "name": "stderr",
     "output_type": "stream",
     "text": [
      "C:\\Users\\Korisnik\\AppData\\Local\\Temp\\ipykernel_389688\\1370227836.py:1: SyntaxWarning: invalid escape sequence '\\g'\n",
      "  G = load_gcol('grafovi\\gcol\\gcol26.txt')\n"
     ]
    },
    {
     "ename": "KeyboardInterrupt",
     "evalue": "",
     "output_type": "error",
     "traceback": [
      "\u001b[31m---------------------------------------------------------------------------\u001b[39m",
      "\u001b[31mKeyboardInterrupt\u001b[39m                         Traceback (most recent call last)",
      "\u001b[36mCell\u001b[39m\u001b[36m \u001b[39m\u001b[32mIn[12]\u001b[39m\u001b[32m, line 9\u001b[39m\n\u001b[32m      7\u001b[39m start_time1 = time.time()\n\u001b[32m      8\u001b[39m shortest_paths = \u001b[38;5;28mdict\u001b[39m(nx.all_pairs_shortest_path_length(G))\n\u001b[32m----> \u001b[39m\u001b[32m9\u001b[39m rez = \u001b[43mgenetic_algorithm\u001b[49m\u001b[43m(\u001b[49m\u001b[43mG\u001b[49m\u001b[43m,\u001b[49m\u001b[43mshortest_paths\u001b[49m\u001b[43m,\u001b[49m\u001b[32;43m3\u001b[39;49m\u001b[43m,\u001b[49m\u001b[32;43m500\u001b[39;49m\u001b[43m)\u001b[49m\n\u001b[32m     10\u001b[39m end_time1 = time.time()\n\u001b[32m     11\u001b[39m \u001b[38;5;28mprint\u001b[39m(\u001b[33m\"\u001b[39m\u001b[33mVrijeme \u001b[39m\u001b[33m\"\u001b[39m, end_time1-start_time1)\n",
      "\u001b[36mCell\u001b[39m\u001b[36m \u001b[39m\u001b[32mIn[11]\u001b[39m\u001b[32m, line 12\u001b[39m, in \u001b[36mgenetic_algorithm\u001b[39m\u001b[34m(G, shortest_paths, stop, generations, pop_size, crossover_rate, mutation_rate)\u001b[39m\n\u001b[32m      9\u001b[39m new_population = []\n\u001b[32m     11\u001b[39m \u001b[38;5;28;01mfor\u001b[39;00m _ \u001b[38;5;129;01min\u001b[39;00m \u001b[38;5;28mrange\u001b[39m(pop_size // \u001b[32m2\u001b[39m):\n\u001b[32m---> \u001b[39m\u001b[32m12\u001b[39m     parent1, parent2 = \u001b[43mweighted_selection\u001b[49m\u001b[43m(\u001b[49m\u001b[43mpopulation\u001b[49m\u001b[43m,\u001b[49m\u001b[43m \u001b[49m\u001b[43mG\u001b[49m\u001b[43m,\u001b[49m\u001b[43m \u001b[49m\u001b[43mshortest_paths\u001b[49m\u001b[43m)\u001b[49m\n\u001b[32m     14\u001b[39m     \u001b[38;5;66;03m# Ukrštanje\u001b[39;00m\n\u001b[32m     15\u001b[39m     \u001b[38;5;28;01mif\u001b[39;00m random.random() < crossover_rate:\n",
      "\u001b[36mCell\u001b[39m\u001b[36m \u001b[39m\u001b[32mIn[8]\u001b[39m\u001b[32m, line 2\u001b[39m, in \u001b[36mweighted_selection\u001b[39m\u001b[34m(population, G, shortest_paths)\u001b[39m\n\u001b[32m      1\u001b[39m \u001b[38;5;28;01mdef\u001b[39;00m\u001b[38;5;250m \u001b[39m\u001b[34mweighted_selection\u001b[39m(population, G,shortest_paths):\n\u001b[32m----> \u001b[39m\u001b[32m2\u001b[39m     fitness_values = [\u001b[32m1\u001b[39m / (\u001b[32m1\u001b[39m + \u001b[43mfitness\u001b[49m\u001b[43m(\u001b[49m\u001b[43mind\u001b[49m\u001b[43m,\u001b[49m\u001b[43m \u001b[49m\u001b[43mG\u001b[49m\u001b[43m,\u001b[49m\u001b[43mshortest_paths\u001b[49m\u001b[43m)\u001b[49m) \u001b[38;5;28;01mfor\u001b[39;00m ind \u001b[38;5;129;01min\u001b[39;00m population]  \u001b[38;5;66;03m# Inverzija jer tražimo minimu\u001b[39;00m\n\u001b[32m      3\u001b[39m     \u001b[38;5;28;01mreturn\u001b[39;00m random.choices(population, weights=fitness_values, k=\u001b[32m2\u001b[39m)\n",
      "\u001b[36mCell\u001b[39m\u001b[36m \u001b[39m\u001b[32mIn[6]\u001b[39m\u001b[32m, line 9\u001b[39m, in \u001b[36mfitness\u001b[39m\u001b[34m(individual, G, shortest_paths)\u001b[39m\n\u001b[32m      7\u001b[39m unresolved_pairs = \u001b[32m0\u001b[39m\n\u001b[32m      8\u001b[39m \u001b[38;5;28;01mfor\u001b[39;00m u, v \u001b[38;5;129;01min\u001b[39;00m itertools.combinations(G.nodes, \u001b[32m2\u001b[39m):\n\u001b[32m----> \u001b[39m\u001b[32m9\u001b[39m     \u001b[38;5;28;01mif\u001b[39;00m \u001b[38;5;129;01mnot\u001b[39;00m \u001b[38;5;28;43many\u001b[39;49m\u001b[43m(\u001b[49m\u001b[38;5;28;43mabs\u001b[39;49m\u001b[43m(\u001b[49m\u001b[43mshortest_paths\u001b[49m\u001b[43m[\u001b[49m\u001b[43mu\u001b[49m\u001b[43m]\u001b[49m\u001b[43m[\u001b[49m\u001b[43mj\u001b[49m\u001b[43m]\u001b[49m\u001b[43m \u001b[49m\u001b[43m-\u001b[49m\u001b[43m \u001b[49m\u001b[43mshortest_paths\u001b[49m\u001b[43m[\u001b[49m\u001b[43mv\u001b[49m\u001b[43m]\u001b[49m\u001b[43m[\u001b[49m\u001b[43mj\u001b[49m\u001b[43m]\u001b[49m\u001b[43m)\u001b[49m\u001b[43m \u001b[49m\u001b[43m>\u001b[49m\u001b[43m \u001b[49m\u001b[32;43m0\u001b[39;49m\u001b[43m \u001b[49m\u001b[38;5;28;43;01mfor\u001b[39;49;00m\u001b[43m \u001b[49m\u001b[43mj\u001b[49m\u001b[43m \u001b[49m\u001b[38;5;129;43;01min\u001b[39;49;00m\u001b[43m \u001b[49m\u001b[43mresolving_set\u001b[49m\u001b[43m \u001b[49m\u001b[38;5;28;43;01mif\u001b[39;49;00m\u001b[43m \u001b[49m\u001b[43mj\u001b[49m\u001b[43m \u001b[49m\u001b[38;5;129;43;01min\u001b[39;49;00m\u001b[43m \u001b[49m\u001b[43mshortest_paths\u001b[49m\u001b[43m[\u001b[49m\u001b[43mu\u001b[49m\u001b[43m]\u001b[49m\u001b[43m)\u001b[49m:\n\u001b[32m     10\u001b[39m         unresolved_pairs += \u001b[32m1\u001b[39m  \u001b[38;5;66;03m# Par (u, v) nije razrešen\u001b[39;00m\n\u001b[32m     12\u001b[39m \u001b[38;5;28;01mreturn\u001b[39;00m \u001b[38;5;28mlen\u001b[39m(resolving_set) + \u001b[32m100\u001b[39m * unresolved_pairs\n",
      "\u001b[36mCell\u001b[39m\u001b[36m \u001b[39m\u001b[32mIn[6]\u001b[39m\u001b[32m, line 9\u001b[39m, in \u001b[36m<genexpr>\u001b[39m\u001b[34m(.0)\u001b[39m\n\u001b[32m      7\u001b[39m unresolved_pairs = \u001b[32m0\u001b[39m\n\u001b[32m      8\u001b[39m \u001b[38;5;28;01mfor\u001b[39;00m u, v \u001b[38;5;129;01min\u001b[39;00m itertools.combinations(G.nodes, \u001b[32m2\u001b[39m):\n\u001b[32m----> \u001b[39m\u001b[32m9\u001b[39m     \u001b[38;5;28;01mif\u001b[39;00m \u001b[38;5;129;01mnot\u001b[39;00m \u001b[38;5;28many\u001b[39m(\u001b[38;5;28mabs\u001b[39m(shortest_paths[u][j] - shortest_paths[v][j]) > \u001b[32m0\u001b[39m \u001b[38;5;28;01mfor\u001b[39;00m j \u001b[38;5;129;01min\u001b[39;00m resolving_set \u001b[38;5;28;01mif\u001b[39;00m j \u001b[38;5;129;01min\u001b[39;00m shortest_paths[u]):\n\u001b[32m     10\u001b[39m         unresolved_pairs += \u001b[32m1\u001b[39m  \u001b[38;5;66;03m# Par (u, v) nije razrešen\u001b[39;00m\n\u001b[32m     12\u001b[39m \u001b[38;5;28;01mreturn\u001b[39;00m \u001b[38;5;28mlen\u001b[39m(resolving_set) + \u001b[32m100\u001b[39m * unresolved_pairs\n",
      "\u001b[31mKeyboardInterrupt\u001b[39m: "
     ]
    }
   ],
   "source": [
    "G = load_gcol('grafovi\\gcol\\gcol26.txt')\n",
    "if not nx.is_connected(G):\n",
    "    print(\"Graf nije povezan!\")\n",
    "    largest_cc = max(nx.connected_components(G), key=len)\n",
    "    G = G.subgraph(largest_cc).copy()\n",
    "\n",
    "start_time1 = time.time()\n",
    "shortest_paths = dict(nx.all_pairs_shortest_path_length(G))\n",
    "rez = genetic_algorithm(G,shortest_paths,3,500)\n",
    "end_time1 = time.time()\n",
    "print(\"Vrijeme \", end_time1-start_time1)\n",
    "print(is_resolving_set(rez,G))"
   ]
  }
 ],
 "metadata": {
  "kernelspec": {
   "display_name": "Python 3",
   "language": "python",
   "name": "python3"
  },
  "language_info": {
   "codemirror_mode": {
    "name": "ipython",
    "version": 3
   },
   "file_extension": ".py",
   "mimetype": "text/x-python",
   "name": "python",
   "nbconvert_exporter": "python",
   "pygments_lexer": "ipython3",
   "version": "3.13.3"
  }
 },
 "nbformat": 4,
 "nbformat_minor": 2
}
