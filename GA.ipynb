{
 "cells": [
  {
   "cell_type": "code",
   "execution_count": 91,
   "metadata": {},
   "outputs": [],
   "source": [
    "import random\n",
    "import networkx as nx\n",
    "import itertools"
   ]
  },
  {
   "cell_type": "code",
   "execution_count": null,
   "metadata": {},
   "outputs": [],
   "source": [
    "#TEST"
   ]
  },
  {
   "cell_type": "code",
   "execution_count": 92,
   "metadata": {},
   "outputs": [],
   "source": [
    "def is_resolving_set(B, G):\n",
    "    distances = {}\n",
    "    for v in G.nodes:\n",
    "        distances[v] = [nx.shortest_path_length(G, v, u) for u in B]\n",
    "    \n",
    "    for v1, v2 in itertools.combinations(G.nodes, 2):\n",
    "        if distances[v1] == distances[v2]:\n",
    "            return False\n",
    "    return True"
   ]
  },
  {
   "cell_type": "code",
   "execution_count": 93,
   "metadata": {},
   "outputs": [],
   "source": [
    "def load_graph(file_path):\n",
    "    G = nx.Graph() \n",
    "\n",
    "    with open(file_path, \"r\") as file:\n",
    "        for line in file:\n",
    "            parts = line.split()\n",
    "            \n",
    "            node1 = int(parts[0]) \n",
    "            node2 = int(parts[1])  \n",
    "            G.add_edge(node1, node2) \n",
    "    return G"
   ]
  },
  {
   "cell_type": "code",
   "execution_count": 94,
   "metadata": {},
   "outputs": [],
   "source": [
    "def load_gcol(file_path):\n",
    "    G = nx.Graph() \n",
    "\n",
    "    with open(file_path, \"r\") as file:\n",
    "        for line in file:\n",
    "            parts = line.split()\n",
    "            if parts[0] == 'e':\n",
    "                node1 = int(parts[1]) \n",
    "                node2 = int(parts[2])  \n",
    "                G.add_edge(node1, node2) \n",
    "    return G"
   ]
  },
  {
   "cell_type": "code",
   "execution_count": 95,
   "metadata": {},
   "outputs": [],
   "source": [
    "def generate_population(size,G):\n",
    "    return [[random.randint(0, 1) for _ in range(len(G.nodes))] for _ in range(size)]"
   ]
  },
  {
   "cell_type": "code",
   "execution_count": 96,
   "metadata": {},
   "outputs": [],
   "source": [
    "# def generate_population(size, G, centrality_measure='betweenness', coverage=0.3):\n",
    "#     population = []\n",
    "\n",
    "#     # Broj centrality-based jedinki (npr. 30%)\n",
    "#     central_count = int(size * 0.3)\n",
    "\n",
    "#     # Izračunaj centralnost\n",
    "#     if centrality_measure == 'betweenness':\n",
    "#         centrality = nx.betweenness_centrality(G)\n",
    "#     elif centrality_measure == 'degree':\n",
    "#         centrality = dict(G.degree())\n",
    "#     else:\n",
    "#         raise ValueError(\"Nepoznata centralnost\")\n",
    "\n",
    "#     sorted_nodes = sorted(centrality.items(), key=lambda x: x[1], reverse=True)\n",
    "#     num_selected = max(1, int(coverage * len(G.nodes)))\n",
    "#     selected_nodes = [node for node, _ in sorted_nodes[:num_selected]]\n",
    "\n",
    "#     # Generiši centrality-based jedinke\n",
    "#     for _ in range(central_count):\n",
    "#         individual = [1 if i in selected_nodes else 0 for i in range(len(G.nodes))]\n",
    "#         population.append(individual)\n",
    "\n",
    "#     # Generiši ostatak populacije nasumično\n",
    "#     for _ in range(size - central_count):\n",
    "#         individual = [random.randint(0, 1) for _ in range(len(G.nodes))]\n",
    "#         population.append(individual)\n",
    "\n",
    "#     return population"
   ]
  },
  {
   "cell_type": "code",
   "execution_count": 97,
   "metadata": {},
   "outputs": [],
   "source": [
    "def fitness(individual, G, shortest_paths):\n",
    "    resolving_set = {i for i, bit in enumerate(individual) if bit == 1}\n",
    "\n",
    "    if not resolving_set:\n",
    "        return float(\"inf\")\n",
    "\n",
    "    unresolved_pairs = 0\n",
    "    for u, v in itertools.combinations(G.nodes, 2):\n",
    "        if not any(abs(shortest_paths[u][j] - shortest_paths[v][j]) > 0 for j in resolving_set if j in shortest_paths[u]):\n",
    "            unresolved_pairs += 1  # Par (u, v) nije razrešen\n",
    "\n",
    "    return len(resolving_set) + 100 * unresolved_pairs  # Penalizacija nerešenih parova"
   ]
  },
  {
   "cell_type": "code",
   "execution_count": 98,
   "metadata": {},
   "outputs": [],
   "source": [
    "def tournament_selection(population, G, k=3):\n",
    "    selected = random.sample(population, k)\n",
    "    return min(selected, key=lambda ind: fitness(ind, G))"
   ]
  },
  {
   "cell_type": "code",
   "execution_count": 99,
   "metadata": {},
   "outputs": [],
   "source": [
    "def weighted_selection(population, G,shortest_paths):\n",
    "    fitness_values = [1 / (1 + fitness(ind, G,shortest_paths)) for ind in population]  # Inverzija jer tražimo minimu\n",
    "    return random.choices(population, weights=fitness_values, k=2)  # Bira 2 roditelja"
   ]
  },
  {
   "cell_type": "code",
   "execution_count": 100,
   "metadata": {},
   "outputs": [],
   "source": [
    "def crossover(parent1, parent2,G ):\n",
    "    point = random.randint(1, len(G.nodes) - 1)\n",
    "    return parent1[:point] + parent2[point:], parent2[:point] + parent1[point:]"
   ]
  },
  {
   "cell_type": "code",
   "execution_count": 101,
   "metadata": {},
   "outputs": [],
   "source": [
    "def mutate(individual, mutation_rate=0.05):\n",
    "    new_individual = individual[:]\n",
    "    for i in range(len(new_individual)):\n",
    "        if new_individual[i] == 1 and random.random() < mutation_rate:\n",
    "            new_individual[i] = 0  # Samo uklanjamo\n",
    "    return new_individual\n"
   ]
  },
  {
   "cell_type": "code",
   "execution_count": 102,
   "metadata": {},
   "outputs": [],
   "source": [
    "# def mutate(individual, mutation_rate):\n",
    "#     return [bit if random.random() > mutation_rate else 1 - bit for bit in individual]"
   ]
  },
  {
   "cell_type": "code",
   "execution_count": 103,
   "metadata": {},
   "outputs": [],
   "source": [
    "def genetic_algorithm(G,shortest_paths,pop_size=50, generations=15, crossover_rate=0.7, mutation_rate=0.2):\n",
    "    population = generate_population(pop_size,G)\n",
    "    \n",
    "    for gen in range(generations):\n",
    "        new_population = []\n",
    "      \n",
    "        for _ in range(pop_size // 2):\n",
    "            # parent1 = tournament_selection(population,G)\n",
    "            # parent2 = tournament_selection(population,G)\n",
    "            parent1, parent2 = weighted_selection(population, G,shortest_paths)            \n",
    "            # Ukrštanje\n",
    "            if random.random() < crossover_rate:\n",
    "                child1, child2 = crossover(parent1, parent2,G)\n",
    "            else:\n",
    "                child1, child2 = parent1, parent2\n",
    "            \n",
    "            # Mutacija\n",
    "            child1 = mutate(child1, mutation_rate)\n",
    "            child2 = mutate(child2, mutation_rate)\n",
    "\n",
    "            new_population.extend([child1, child2])\n",
    "\n",
    "        population = new_population\n",
    "        \n",
    "        # Pronalazak najbolje jedinke\n",
    "        best_solution = min(population, key=lambda ind: fitness(ind, G,shortest_paths))\n",
    "        best_fitness = fitness(best_solution,G,shortest_paths)\n",
    "\n",
    "        print(f\"Generacija {gen+1}, Najbolji fitnes: {best_fitness}\")\n",
    "\n",
    "       \n",
    "\n",
    "    # Prikaz optimalnog rešenja\n",
    "    optimal_set = {i for i, bit in enumerate(best_solution) if bit == 1}\n",
    "    print(\"\\nOptimalni rešavajući skup:\", optimal_set , len(optimal_set))\n",
    "    return optimal_set"
   ]
  },
  {
   "cell_type": "code",
   "execution_count": null,
   "metadata": {},
   "outputs": [
    {
     "name": "stderr",
     "output_type": "stream",
     "text": [
      "<>:2: SyntaxWarning: invalid escape sequence '\\g'\n",
      "<>:2: SyntaxWarning: invalid escape sequence '\\g'\n",
      "C:\\Users\\Korisnik\\AppData\\Local\\Temp\\ipykernel_173372\\1498853304.py:2: SyntaxWarning: invalid escape sequence '\\g'\n",
      "  G = load_gcol('grafovi\\gcol\\gcol1.txt')\n"
     ]
    },
    {
     "name": "stdout",
     "output_type": "stream",
     "text": [
      "Generacija 1, Najbolji fitnes: 32\n",
      "Generacija 2, Najbolji fitnes: 26\n",
      "Generacija 3, Najbolji fitnes: 18\n",
      "Generacija 4, Najbolji fitnes: 13\n",
      "Generacija 5, Najbolji fitnes: 11\n",
      "Generacija 6, Najbolji fitnes: 10\n",
      "Generacija 7, Najbolji fitnes: 11\n",
      "Generacija 8, Najbolji fitnes: 10\n",
      "Generacija 9, Najbolji fitnes: 10\n",
      "Generacija 10, Najbolji fitnes: 11\n",
      "Generacija 11, Najbolji fitnes: 10\n",
      "Generacija 12, Najbolji fitnes: 10\n",
      "Generacija 13, Najbolji fitnes: 10\n",
      "Generacija 14, Najbolji fitnes: 11\n",
      "Generacija 15, Najbolji fitnes: 11\n",
      "\n",
      "Optimalni rešavajući skup: {3, 44, 47, 79, 80, 18, 21, 23, 28, 63, 31} 11\n",
      "True\n"
     ]
    }
   ],
   "source": [
    "# G = nx.petersen_graph()\n",
    "G = load_gcol('grafovi\\gcol\\gcol1.txt')\n",
    "# G = nx.Graph()\n",
    "# G.add_edges_from([(1,2),(1,3),(1,5),(1,6),(2,4),(2,6),(3,5),(3,4),(4,5),(4,6),(5,6)])\n",
    "\n",
    "shortest_paths = dict(nx.all_pairs_shortest_path_length(G))\n",
    "\n",
    "\n",
    "rez = genetic_algorithm(G,shortest_paths)\n",
    "print(is_resolving_set(rez,G))"
   ]
  }
 ],
 "metadata": {
  "kernelspec": {
   "display_name": "Python 3",
   "language": "python",
   "name": "python3"
  },
  "language_info": {
   "codemirror_mode": {
    "name": "ipython",
    "version": 3
   },
   "file_extension": ".py",
   "mimetype": "text/x-python",
   "name": "python",
   "nbconvert_exporter": "python",
   "pygments_lexer": "ipython3",
   "version": "3.13.3"
  }
 },
 "nbformat": 4,
 "nbformat_minor": 2
}
