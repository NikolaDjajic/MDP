{
 "cells": [
  {
   "cell_type": "code",
   "execution_count": 65,
   "metadata": {},
   "outputs": [],
   "source": [
    "import random\n",
    "import networkx as nx\n",
    "import itertools\n",
    "import time"
   ]
  },
  {
   "cell_type": "code",
   "execution_count": 66,
   "metadata": {},
   "outputs": [],
   "source": [
    "def is_resolving_set(B, G):\n",
    "    B = set(B).intersection(G.nodes)  # filtriraj samo važeće čvorove\n",
    "    distances = {}\n",
    "    for v in G.nodes:\n",
    "        distances[v] = [nx.shortest_path_length(G, v, u) for u in B]\n",
    "    \n",
    "    for v1, v2 in itertools.combinations(G.nodes, 2):\n",
    "        if distances[v1] == distances[v2]:\n",
    "            return False\n",
    "    return True"
   ]
  },
  {
   "cell_type": "code",
   "execution_count": 67,
   "metadata": {},
   "outputs": [],
   "source": [
    "def load_graph(file_path):\n",
    "    G = nx.Graph() \n",
    "\n",
    "    with open(file_path, \"r\") as file:\n",
    "        for line in file:\n",
    "            parts = line.split()\n",
    "            \n",
    "            node1 = int(parts[0]) \n",
    "            node2 = int(parts[1])  \n",
    "            G.add_edge(node1, node2) \n",
    "    return G"
   ]
  },
  {
   "cell_type": "code",
   "execution_count": 68,
   "metadata": {},
   "outputs": [],
   "source": [
    "def load_gcol(file_path):\n",
    "    G = nx.Graph() \n",
    "\n",
    "    with open(file_path, \"r\") as file:\n",
    "        for line in file:\n",
    "            parts = line.split()\n",
    "            if parts[0] == 'e':\n",
    "                node1 = int(parts[1]) \n",
    "                node2 = int(parts[2])  \n",
    "                G.add_edge(node1, node2) \n",
    "    return G"
   ]
  },
  {
   "cell_type": "code",
   "execution_count": 69,
   "metadata": {},
   "outputs": [],
   "source": [
    "def fitness(individual, G, shortest_paths):\n",
    "    resolving_set = {i for i, bit in enumerate(individual) if bit == 1}\n",
    "\n",
    "    if not resolving_set:\n",
    "        return float(\"inf\")\n",
    "\n",
    "    unresolved_pairs = 0\n",
    "    for u, v in itertools.combinations(G.nodes, 2):\n",
    "        if not any(abs(shortest_paths[u][j] - shortest_paths[v][j]) > 0 for j in resolving_set if j in shortest_paths[u]):\n",
    "            unresolved_pairs += 1 \n",
    "\n",
    "    return len(resolving_set) + 100 * unresolved_pairs"
   ]
  },
  {
   "cell_type": "code",
   "execution_count": 70,
   "metadata": {},
   "outputs": [],
   "source": [
    "def tournament_selection(population, G, k=3):\n",
    "    selected = random.sample(population, k)\n",
    "    return min(selected, key=lambda ind: fitness(ind, G))"
   ]
  },
  {
   "cell_type": "code",
   "execution_count": 71,
   "metadata": {},
   "outputs": [],
   "source": [
    "def weighted_selection(population, G,shortest_paths):\n",
    "    fitness_values = [1 / (1 + fitness(ind, G,shortest_paths)) for ind in population]\n",
    "    return random.choices(population, weights=fitness_values, k=2) "
   ]
  },
  {
   "cell_type": "code",
   "execution_count": 72,
   "metadata": {},
   "outputs": [],
   "source": [
    "def crossover(parent1, parent2,G ):\n",
    "    point = random.randint(1, len(G.nodes) - 1)\n",
    "    return parent1[:point] + parent2[point:], parent2[:point] + parent1[point:]"
   ]
  },
  {
   "cell_type": "code",
   "execution_count": 73,
   "metadata": {},
   "outputs": [],
   "source": [
    "def crossover2(parent1, parent2, G):\n",
    "\n",
    "    point1 = random.randint(1, len(G.nodes) - 1)\n",
    "    point2 = random.randint(1, len(G.nodes) - 1)\n",
    "\n",
    "    if point1 > point2:\n",
    "        point1, point2 = point2, point1\n",
    "\n",
    "    child1 = parent1[:point1] + parent2[point1:point2] + parent1[point2:]\n",
    "    child2 = parent2[:point1] + parent1[point1:point2] + parent2[point2:]\n",
    "    \n",
    "    return child1, child2"
   ]
  },
  {
   "cell_type": "code",
   "execution_count": 74,
   "metadata": {},
   "outputs": [],
   "source": [
    "def mutate(individual, mutation_rate):\n",
    "    new_individual = individual[:]\n",
    "    for i in range(len(new_individual)):\n",
    "        if new_individual[i] == 1 and random.random() < mutation_rate:\n",
    "            new_individual[i] = 0 \n",
    "    return new_individual"
   ]
  },
  {
   "cell_type": "code",
   "execution_count": 75,
   "metadata": {},
   "outputs": [],
   "source": [
    "def greedy_population(graph):\n",
    "\n",
    "    nodes = list(graph.nodes())\n",
    "    node_index = {node: i for i, node in enumerate(nodes)}  # mapiranje čvorova na indekse\n",
    "\n",
    "    degrees = dict(graph.degree())\n",
    "\n",
    "    sorted_nodes = sorted(nodes, key=lambda x: degrees[x], reverse=True)\n",
    "\n",
    "    def is_resolving_set(S):\n",
    "        coords = {node: tuple(nx.shortest_path_length(graph, node, target) for target in S) for node in nodes}\n",
    "        return len(set(coords.values())) == len(nodes)\n",
    "\n",
    "    S = []\n",
    "    for node in sorted_nodes:\n",
    "        S.append(node)\n",
    "        if is_resolving_set(S):\n",
    "            break\n",
    "\n",
    "\n",
    "    binary_vec = [1 if node in S else 0 for node in nodes]\n",
    "    return binary_vec"
   ]
  },
  {
   "cell_type": "code",
   "execution_count": 76,
   "metadata": {},
   "outputs": [],
   "source": [
    "def generate_population(size,G):\n",
    "    return [[random.randint(0, 1) for _ in range(len(G.nodes))] for _ in range(size)]"
   ]
  },
  {
   "cell_type": "code",
   "execution_count": 77,
   "metadata": {},
   "outputs": [],
   "source": [
    "def generate_population_greedy(size,G):\n",
    "    return  [greedy_population(G) for _ in range(size)]"
   ]
  },
  {
   "cell_type": "code",
   "execution_count": 78,
   "metadata": {},
   "outputs": [],
   "source": [
    "def genetic_algorithm(G, shortest_paths,stop,generations, pop_size, crossover_rate, mutation_rate):\n",
    "    population = generate_population_greedy(pop_size, G)\n",
    "\n",
    "    global_best_solution = None\n",
    "    global_best_fitness = float('inf')\n",
    "\n",
    "    for gen in range(generations):\n",
    "        new_population = []\n",
    "\n",
    "        for _ in range(pop_size // 2):\n",
    "            parent1, parent2 = weighted_selection(population, G, shortest_paths)\n",
    "\n",
    "            # Ukrštanje\n",
    "            if random.random() < crossover_rate:\n",
    "                child1, child2 = crossover2(parent1, parent2, G)\n",
    "            else:\n",
    "                child1, child2 = parent1[:], parent2[:]\n",
    "\n",
    "            # Mutacija\n",
    "            child1 = mutate(child1, mutation_rate)\n",
    "            child2 = mutate(child2, mutation_rate)\n",
    "\n",
    "            new_population.extend([child1, child2])\n",
    "\n",
    "        population = new_population\n",
    "\n",
    "        # Pronalazak najbolje jedinke u ovoj generaciji\n",
    "        best_solution = min(population, key=lambda ind: fitness(ind, G, shortest_paths))\n",
    "        best_fitness = fitness(best_solution, G, shortest_paths)\n",
    "\n",
    "        print(f\"Generacija {gen + 1}, Najbolji fitnes: {best_fitness}\")\n",
    "\n",
    "        # Ažuriranje globalno najboljeg rješenja\n",
    "        if best_fitness < global_best_fitness:\n",
    "            global_best_fitness = best_fitness\n",
    "            global_best_solution = best_solution[:]\n",
    "            no_improvement = 0\n",
    "        else:\n",
    "            no_improvement += 1\n",
    "\n",
    "        if no_improvement >= stop:\n",
    "            print(f\"Prekid: nema poboljšanja tokom {stop} generacija.\")\n",
    "            break\n",
    "\n",
    "    optimal_set = {i for i, bit in enumerate(global_best_solution) if bit == 1}\n",
    "    print(\"\\nOptimalni rješavajući skup:\", optimal_set, len(optimal_set))\n",
    "    return optimal_set,len(optimal_set)"
   ]
  },
  {
   "cell_type": "code",
   "execution_count": 79,
   "metadata": {},
   "outputs": [
    {
     "name": "stderr",
     "output_type": "stream",
     "text": [
      "<>:1: SyntaxWarning: invalid escape sequence '\\s'\n",
      "<>:1: SyntaxWarning: invalid escape sequence '\\s'\n",
      "C:\\Users\\Korisnik\\AppData\\Local\\Temp\\ipykernel_447124\\607195952.py:1: SyntaxWarning: invalid escape sequence '\\s'\n",
      "  G = load_graph('grafovi\\srednji grafovi\\hamming8-4.txt')\n"
     ]
    }
   ],
   "source": [
    "G = load_graph('grafovi\\srednji grafovi\\hamming8-4.txt')\n",
    "if not nx.is_connected(G):\n",
    "    print(\"Graf nije povezan!\")\n",
    "    largest_cc = max(nx.connected_components(G), key=len)\n",
    "    G = G.subgraph(largest_cc).copy()\n",
    "shortest_paths = dict(nx.all_pairs_shortest_path_length(G))"
   ]
  },
  {
   "cell_type": "code",
   "execution_count": 80,
   "metadata": {},
   "outputs": [
    {
     "name": "stdout",
     "output_type": "stream",
     "text": [
      "Testing: {'stop': 4, 'pop_size': 40, 'mutation_rate': 0.3, 'crossover_rate': 0.6, 'generations': 50}\n"
     ]
    },
    {
     "ename": "KeyboardInterrupt",
     "evalue": "",
     "output_type": "error",
     "traceback": [
      "\u001b[31m---------------------------------------------------------------------------\u001b[39m",
      "\u001b[31mKeyboardInterrupt\u001b[39m                         Traceback (most recent call last)",
      "\u001b[36mCell\u001b[39m\u001b[36m \u001b[39m\u001b[32mIn[80]\u001b[39m\u001b[32m, line 18\u001b[39m\n\u001b[32m     15\u001b[39m \u001b[38;5;28mprint\u001b[39m(\u001b[33mf\u001b[39m\u001b[33m\"\u001b[39m\u001b[33mTesting: \u001b[39m\u001b[38;5;132;01m{\u001b[39;00mparams\u001b[38;5;132;01m}\u001b[39;00m\u001b[33m\"\u001b[39m)\n\u001b[32m     17\u001b[39m start_time = time.time()  \u001b[38;5;66;03m# ⏱️ početak\u001b[39;00m\n\u001b[32m---> \u001b[39m\u001b[32m18\u001b[39m os,score = \u001b[43mgenetic_algorithm\u001b[49m\u001b[43m(\u001b[49m\u001b[43mG\u001b[49m\u001b[43m,\u001b[49m\u001b[43mshortest_paths\u001b[49m\u001b[43m,\u001b[49m\u001b[43m*\u001b[49m\u001b[43m*\u001b[49m\u001b[43mparams\u001b[49m\u001b[43m)\u001b[49m\n\u001b[32m     19\u001b[39m end_time = time.time()    \u001b[38;5;66;03m# ⏱️ kraj\u001b[39;00m\n\u001b[32m     21\u001b[39m duration = end_time - start_time\n",
      "\u001b[36mCell\u001b[39m\u001b[36m \u001b[39m\u001b[32mIn[78]\u001b[39m\u001b[32m, line 2\u001b[39m, in \u001b[36mgenetic_algorithm\u001b[39m\u001b[34m(G, shortest_paths, stop, generations, pop_size, crossover_rate, mutation_rate)\u001b[39m\n\u001b[32m      1\u001b[39m \u001b[38;5;28;01mdef\u001b[39;00m\u001b[38;5;250m \u001b[39m\u001b[34mgenetic_algorithm\u001b[39m(G, shortest_paths,stop,generations, pop_size, crossover_rate, mutation_rate):\n\u001b[32m----> \u001b[39m\u001b[32m2\u001b[39m     population = \u001b[43mgenerate_population_greedy\u001b[49m\u001b[43m(\u001b[49m\u001b[43mpop_size\u001b[49m\u001b[43m,\u001b[49m\u001b[43m \u001b[49m\u001b[43mG\u001b[49m\u001b[43m)\u001b[49m\n\u001b[32m      4\u001b[39m     global_best_solution = \u001b[38;5;28;01mNone\u001b[39;00m\n\u001b[32m      5\u001b[39m     global_best_fitness = \u001b[38;5;28mfloat\u001b[39m(\u001b[33m'\u001b[39m\u001b[33minf\u001b[39m\u001b[33m'\u001b[39m)\n",
      "\u001b[36mCell\u001b[39m\u001b[36m \u001b[39m\u001b[32mIn[77]\u001b[39m\u001b[32m, line 2\u001b[39m, in \u001b[36mgenerate_population_greedy\u001b[39m\u001b[34m(size, G)\u001b[39m\n\u001b[32m      1\u001b[39m \u001b[38;5;28;01mdef\u001b[39;00m\u001b[38;5;250m \u001b[39m\u001b[34mgenerate_population_greedy\u001b[39m(size,G):\n\u001b[32m----> \u001b[39m\u001b[32m2\u001b[39m     \u001b[38;5;28;01mreturn\u001b[39;00m  [\u001b[43mgreedy_population\u001b[49m\u001b[43m(\u001b[49m\u001b[43mG\u001b[49m\u001b[43m)\u001b[49m \u001b[38;5;28;01mfor\u001b[39;00m _ \u001b[38;5;129;01min\u001b[39;00m \u001b[38;5;28mrange\u001b[39m(size)]\n",
      "\u001b[36mCell\u001b[39m\u001b[36m \u001b[39m\u001b[32mIn[75]\u001b[39m\u001b[32m, line 17\u001b[39m, in \u001b[36mgreedy_population\u001b[39m\u001b[34m(graph)\u001b[39m\n\u001b[32m     15\u001b[39m \u001b[38;5;28;01mfor\u001b[39;00m node \u001b[38;5;129;01min\u001b[39;00m sorted_nodes:\n\u001b[32m     16\u001b[39m     S.append(node)\n\u001b[32m---> \u001b[39m\u001b[32m17\u001b[39m     \u001b[38;5;28;01mif\u001b[39;00m \u001b[43mis_resolving_set\u001b[49m\u001b[43m(\u001b[49m\u001b[43mS\u001b[49m\u001b[43m)\u001b[49m:\n\u001b[32m     18\u001b[39m         \u001b[38;5;28;01mbreak\u001b[39;00m\n\u001b[32m     21\u001b[39m binary_vec = [\u001b[32m1\u001b[39m \u001b[38;5;28;01mif\u001b[39;00m node \u001b[38;5;129;01min\u001b[39;00m S \u001b[38;5;28;01melse\u001b[39;00m \u001b[32m0\u001b[39m \u001b[38;5;28;01mfor\u001b[39;00m node \u001b[38;5;129;01min\u001b[39;00m nodes]\n",
      "\u001b[36mCell\u001b[39m\u001b[36m \u001b[39m\u001b[32mIn[75]\u001b[39m\u001b[32m, line 11\u001b[39m, in \u001b[36mgreedy_population.<locals>.is_resolving_set\u001b[39m\u001b[34m(S)\u001b[39m\n\u001b[32m     10\u001b[39m \u001b[38;5;28;01mdef\u001b[39;00m\u001b[38;5;250m \u001b[39m\u001b[34mis_resolving_set\u001b[39m(S):\n\u001b[32m---> \u001b[39m\u001b[32m11\u001b[39m     coords = {node: \u001b[38;5;28;43mtuple\u001b[39;49m\u001b[43m(\u001b[49m\u001b[43mnx\u001b[49m\u001b[43m.\u001b[49m\u001b[43mshortest_path_length\u001b[49m\u001b[43m(\u001b[49m\u001b[43mgraph\u001b[49m\u001b[43m,\u001b[49m\u001b[43m \u001b[49m\u001b[43mnode\u001b[49m\u001b[43m,\u001b[49m\u001b[43m \u001b[49m\u001b[43mtarget\u001b[49m\u001b[43m)\u001b[49m\u001b[43m \u001b[49m\u001b[38;5;28;43;01mfor\u001b[39;49;00m\u001b[43m \u001b[49m\u001b[43mtarget\u001b[49m\u001b[43m \u001b[49m\u001b[38;5;129;43;01min\u001b[39;49;00m\u001b[43m \u001b[49m\u001b[43mS\u001b[49m\u001b[43m)\u001b[49m \u001b[38;5;28;01mfor\u001b[39;00m node \u001b[38;5;129;01min\u001b[39;00m nodes}\n\u001b[32m     12\u001b[39m     \u001b[38;5;28;01mreturn\u001b[39;00m \u001b[38;5;28mlen\u001b[39m(\u001b[38;5;28mset\u001b[39m(coords.values())) == \u001b[38;5;28mlen\u001b[39m(nodes)\n",
      "\u001b[36mCell\u001b[39m\u001b[36m \u001b[39m\u001b[32mIn[75]\u001b[39m\u001b[32m, line 11\u001b[39m, in \u001b[36m<genexpr>\u001b[39m\u001b[34m(.0)\u001b[39m\n\u001b[32m     10\u001b[39m \u001b[38;5;28;01mdef\u001b[39;00m\u001b[38;5;250m \u001b[39m\u001b[34mis_resolving_set\u001b[39m(S):\n\u001b[32m---> \u001b[39m\u001b[32m11\u001b[39m     coords = {node: \u001b[38;5;28mtuple\u001b[39m(\u001b[43mnx\u001b[49m\u001b[43m.\u001b[49m\u001b[43mshortest_path_length\u001b[49m\u001b[43m(\u001b[49m\u001b[43mgraph\u001b[49m\u001b[43m,\u001b[49m\u001b[43m \u001b[49m\u001b[43mnode\u001b[49m\u001b[43m,\u001b[49m\u001b[43m \u001b[49m\u001b[43mtarget\u001b[49m\u001b[43m)\u001b[49m \u001b[38;5;28;01mfor\u001b[39;00m target \u001b[38;5;129;01min\u001b[39;00m S) \u001b[38;5;28;01mfor\u001b[39;00m node \u001b[38;5;129;01min\u001b[39;00m nodes}\n\u001b[32m     12\u001b[39m     \u001b[38;5;28;01mreturn\u001b[39;00m \u001b[38;5;28mlen\u001b[39m(\u001b[38;5;28mset\u001b[39m(coords.values())) == \u001b[38;5;28mlen\u001b[39m(nodes)\n",
      "\u001b[36mFile \u001b[39m\u001b[32m<class 'networkx.utils.decorators.argmap'> compilation 17:3\u001b[39m, in \u001b[36margmap_shortest_path_length_14\u001b[39m\u001b[34m(G, source, target, weight, method, backend, **backend_kwargs)\u001b[39m\n\u001b[32m      1\u001b[39m \u001b[38;5;28;01mimport\u001b[39;00m\u001b[38;5;250m \u001b[39m\u001b[34;01mbz2\u001b[39;00m\n\u001b[32m      2\u001b[39m \u001b[38;5;28;01mimport\u001b[39;00m\u001b[38;5;250m \u001b[39m\u001b[34;01mcollections\u001b[39;00m\n\u001b[32m----> \u001b[39m\u001b[32m3\u001b[39m \u001b[38;5;28;01mimport\u001b[39;00m\u001b[38;5;250m \u001b[39m\u001b[34;01mgzip\u001b[39;00m\n\u001b[32m      4\u001b[39m \u001b[38;5;28;01mimport\u001b[39;00m\u001b[38;5;250m \u001b[39m\u001b[34;01minspect\u001b[39;00m\n\u001b[32m      5\u001b[39m \u001b[38;5;28;01mimport\u001b[39;00m\u001b[38;5;250m \u001b[39m\u001b[34;01mitertools\u001b[39;00m\n",
      "\u001b[36mFile \u001b[39m\u001b[32mc:\\Users\\Korisnik\\AppData\\Local\\Programs\\Python\\Python313\\Lib\\site-packages\\networkx\\utils\\backends.py:967\u001b[39m, in \u001b[36m_dispatchable.__call__\u001b[39m\u001b[34m(self, backend, *args, **kwargs)\u001b[39m\n\u001b[32m    965\u001b[39m     \u001b[38;5;28;01mif\u001b[39;00m backend \u001b[38;5;129;01mis\u001b[39;00m \u001b[38;5;129;01mnot\u001b[39;00m \u001b[38;5;28;01mNone\u001b[39;00m \u001b[38;5;129;01mand\u001b[39;00m backend != \u001b[33m\"\u001b[39m\u001b[33mnetworkx\u001b[39m\u001b[33m\"\u001b[39m:\n\u001b[32m    966\u001b[39m         \u001b[38;5;28;01mraise\u001b[39;00m \u001b[38;5;167;01mImportError\u001b[39;00m(\u001b[33mf\u001b[39m\u001b[33m\"\u001b[39m\u001b[33m'\u001b[39m\u001b[38;5;132;01m{\u001b[39;00mbackend\u001b[38;5;132;01m}\u001b[39;00m\u001b[33m'\u001b[39m\u001b[33m backend is not installed\u001b[39m\u001b[33m\"\u001b[39m)\n\u001b[32m--> \u001b[39m\u001b[32m967\u001b[39m     \u001b[38;5;28;01mreturn\u001b[39;00m \u001b[38;5;28;43mself\u001b[39;49m\u001b[43m.\u001b[49m\u001b[43morig_func\u001b[49m\u001b[43m(\u001b[49m\u001b[43m*\u001b[49m\u001b[43margs\u001b[49m\u001b[43m,\u001b[49m\u001b[43m \u001b[49m\u001b[43m*\u001b[49m\u001b[43m*\u001b[49m\u001b[43mkwargs\u001b[49m\u001b[43m)\u001b[49m\n\u001b[32m    969\u001b[39m \u001b[38;5;66;03m# Use `backend_name` in this function instead of `backend`.\u001b[39;00m\n\u001b[32m    970\u001b[39m \u001b[38;5;66;03m# This is purely for aesthetics and to make it easier to search for this\u001b[39;00m\n\u001b[32m    971\u001b[39m \u001b[38;5;66;03m# variable since \"backend\" is used in many comments and log/error messages.\u001b[39;00m\n\u001b[32m    972\u001b[39m backend_name = backend\n",
      "\u001b[36mFile \u001b[39m\u001b[32mc:\\Users\\Korisnik\\AppData\\Local\\Programs\\Python\\Python313\\Lib\\site-packages\\networkx\\algorithms\\shortest_paths\\generic.py:326\u001b[39m, in \u001b[36mshortest_path_length\u001b[39m\u001b[34m(G, source, target, weight, method)\u001b[39m\n\u001b[32m    323\u001b[39m \u001b[38;5;28;01melse\u001b[39;00m:\n\u001b[32m    324\u001b[39m     \u001b[38;5;66;03m# Find shortest source-target path.\u001b[39;00m\n\u001b[32m    325\u001b[39m     \u001b[38;5;28;01mif\u001b[39;00m method == \u001b[33m\"\u001b[39m\u001b[33munweighted\u001b[39m\u001b[33m\"\u001b[39m:\n\u001b[32m--> \u001b[39m\u001b[32m326\u001b[39m         p = \u001b[43mnx\u001b[49m\u001b[43m.\u001b[49m\u001b[43mbidirectional_shortest_path\u001b[49m\u001b[43m(\u001b[49m\u001b[43mG\u001b[49m\u001b[43m,\u001b[49m\u001b[43m \u001b[49m\u001b[43msource\u001b[49m\u001b[43m,\u001b[49m\u001b[43m \u001b[49m\u001b[43mtarget\u001b[49m\u001b[43m)\u001b[49m\n\u001b[32m    327\u001b[39m         paths = \u001b[38;5;28mlen\u001b[39m(p) - \u001b[32m1\u001b[39m\n\u001b[32m    328\u001b[39m     \u001b[38;5;28;01melif\u001b[39;00m method == \u001b[33m\"\u001b[39m\u001b[33mdijkstra\u001b[39m\u001b[33m\"\u001b[39m:\n",
      "\u001b[36mFile \u001b[39m\u001b[32m<class 'networkx.utils.decorators.argmap'> compilation 21:3\u001b[39m, in \u001b[36margmap_bidirectional_shortest_path_18\u001b[39m\u001b[34m(G, source, target, backend, **backend_kwargs)\u001b[39m\n\u001b[32m      1\u001b[39m \u001b[38;5;28;01mimport\u001b[39;00m\u001b[38;5;250m \u001b[39m\u001b[34;01mbz2\u001b[39;00m\n\u001b[32m      2\u001b[39m \u001b[38;5;28;01mimport\u001b[39;00m\u001b[38;5;250m \u001b[39m\u001b[34;01mcollections\u001b[39;00m\n\u001b[32m----> \u001b[39m\u001b[32m3\u001b[39m \u001b[38;5;28;01mimport\u001b[39;00m\u001b[38;5;250m \u001b[39m\u001b[34;01mgzip\u001b[39;00m\n\u001b[32m      4\u001b[39m \u001b[38;5;28;01mimport\u001b[39;00m\u001b[38;5;250m \u001b[39m\u001b[34;01minspect\u001b[39;00m\n\u001b[32m      5\u001b[39m \u001b[38;5;28;01mimport\u001b[39;00m\u001b[38;5;250m \u001b[39m\u001b[34;01mitertools\u001b[39;00m\n",
      "\u001b[36mFile \u001b[39m\u001b[32mc:\\Users\\Korisnik\\AppData\\Local\\Programs\\Python\\Python313\\Lib\\site-packages\\networkx\\utils\\backends.py:967\u001b[39m, in \u001b[36m_dispatchable.__call__\u001b[39m\u001b[34m(self, backend, *args, **kwargs)\u001b[39m\n\u001b[32m    965\u001b[39m     \u001b[38;5;28;01mif\u001b[39;00m backend \u001b[38;5;129;01mis\u001b[39;00m \u001b[38;5;129;01mnot\u001b[39;00m \u001b[38;5;28;01mNone\u001b[39;00m \u001b[38;5;129;01mand\u001b[39;00m backend != \u001b[33m\"\u001b[39m\u001b[33mnetworkx\u001b[39m\u001b[33m\"\u001b[39m:\n\u001b[32m    966\u001b[39m         \u001b[38;5;28;01mraise\u001b[39;00m \u001b[38;5;167;01mImportError\u001b[39;00m(\u001b[33mf\u001b[39m\u001b[33m\"\u001b[39m\u001b[33m'\u001b[39m\u001b[38;5;132;01m{\u001b[39;00mbackend\u001b[38;5;132;01m}\u001b[39;00m\u001b[33m'\u001b[39m\u001b[33m backend is not installed\u001b[39m\u001b[33m\"\u001b[39m)\n\u001b[32m--> \u001b[39m\u001b[32m967\u001b[39m     \u001b[38;5;28;01mreturn\u001b[39;00m \u001b[38;5;28;43mself\u001b[39;49m\u001b[43m.\u001b[49m\u001b[43morig_func\u001b[49m\u001b[43m(\u001b[49m\u001b[43m*\u001b[49m\u001b[43margs\u001b[49m\u001b[43m,\u001b[49m\u001b[43m \u001b[49m\u001b[43m*\u001b[49m\u001b[43m*\u001b[49m\u001b[43mkwargs\u001b[49m\u001b[43m)\u001b[49m\n\u001b[32m    969\u001b[39m \u001b[38;5;66;03m# Use `backend_name` in this function instead of `backend`.\u001b[39;00m\n\u001b[32m    970\u001b[39m \u001b[38;5;66;03m# This is purely for aesthetics and to make it easier to search for this\u001b[39;00m\n\u001b[32m    971\u001b[39m \u001b[38;5;66;03m# variable since \"backend\" is used in many comments and log/error messages.\u001b[39;00m\n\u001b[32m    972\u001b[39m backend_name = backend\n",
      "\u001b[36mFile \u001b[39m\u001b[32mc:\\Users\\Korisnik\\AppData\\Local\\Programs\\Python\\Python313\\Lib\\site-packages\\networkx\\algorithms\\shortest_paths\\unweighted.py:250\u001b[39m, in \u001b[36mbidirectional_shortest_path\u001b[39m\u001b[34m(G, source, target)\u001b[39m\n\u001b[32m    247\u001b[39m     \u001b[38;5;28;01mraise\u001b[39;00m nx.NodeNotFound(\u001b[33mf\u001b[39m\u001b[33m\"\u001b[39m\u001b[33mTarget \u001b[39m\u001b[38;5;132;01m{\u001b[39;00mtarget\u001b[38;5;132;01m}\u001b[39;00m\u001b[33m is not in G\u001b[39m\u001b[33m\"\u001b[39m)\n\u001b[32m    249\u001b[39m \u001b[38;5;66;03m# call helper to do the real work\u001b[39;00m\n\u001b[32m--> \u001b[39m\u001b[32m250\u001b[39m results = \u001b[43m_bidirectional_pred_succ\u001b[49m\u001b[43m(\u001b[49m\u001b[43mG\u001b[49m\u001b[43m,\u001b[49m\u001b[43m \u001b[49m\u001b[43msource\u001b[49m\u001b[43m,\u001b[49m\u001b[43m \u001b[49m\u001b[43mtarget\u001b[49m\u001b[43m)\u001b[49m\n\u001b[32m    251\u001b[39m pred, succ, w = results\n\u001b[32m    253\u001b[39m \u001b[38;5;66;03m# build path from pred+w+succ\u001b[39;00m\n",
      "\u001b[36mFile \u001b[39m\u001b[32mc:\\Users\\Korisnik\\AppData\\Local\\Programs\\Python\\Python313\\Lib\\site-packages\\networkx\\algorithms\\shortest_paths\\unweighted.py:305\u001b[39m, in \u001b[36m_bidirectional_pred_succ\u001b[39m\u001b[34m(G, source, target)\u001b[39m\n\u001b[32m    303\u001b[39m                 forward_fringe.append(w)\n\u001b[32m    304\u001b[39m                 pred[w] = v\n\u001b[32m--> \u001b[39m\u001b[32m305\u001b[39m             \u001b[38;5;28;01mif\u001b[39;00m w \u001b[38;5;129;01min\u001b[39;00m succ:  \u001b[38;5;66;03m# path found\u001b[39;00m\n\u001b[32m    306\u001b[39m                 \u001b[38;5;28;01mreturn\u001b[39;00m pred, succ, w\n\u001b[32m    307\u001b[39m \u001b[38;5;28;01melse\u001b[39;00m:\n",
      "\u001b[31mKeyboardInterrupt\u001b[39m: "
     ]
    }
   ],
   "source": [
    "param_grid = {\n",
    "    'stop':[3],\n",
    "    'pop_size': [40],\n",
    "    'mutation_rate': [0.3],\n",
    "    'crossover_rate': [0.6],\n",
    "    'generations': [50]\n",
    "}\n",
    "\n",
    "best_score = float('inf')\n",
    "best_params = None\n",
    "\n",
    "for combo in itertools.product(*param_grid.values()):\n",
    "    params = dict(zip(param_grid.keys(), combo))\n",
    "    \n",
    "    print(f\"Testing: {params}\")\n",
    "    \n",
    "    start_time = time.time()  # ⏱️ početak\n",
    "    os,score = genetic_algorithm(G,shortest_paths,**params)\n",
    "    end_time = time.time()    # ⏱️ kraj\n",
    "    \n",
    "    duration = end_time - start_time\n",
    "    print(f\"🔁 Rezultat: {score} | ⏱️ Vrijeme: {duration:.2f} sekundi\")\n",
    "    \n",
    "    if (score < best_score) or (score == best_score and duration < duration1):\n",
    "        if(is_resolving_set(os,G)):\n",
    "            best_score = score\n",
    "            best_params = params\n",
    "            duration1 = duration\n",
    "\n",
    "print(\"\\n✅ Najbolji rezultat:\", best_score)\n",
    "print(\"📌 Najbolji parametri:\", best_params)\n",
    "print(\"📌 Vrijeme:\", duration1)"
   ]
  },
  {
   "cell_type": "code",
   "execution_count": null,
   "metadata": {},
   "outputs": [],
   "source": []
  }
 ],
 "metadata": {
  "kernelspec": {
   "display_name": "Python 3",
   "language": "python",
   "name": "python3"
  },
  "language_info": {
   "codemirror_mode": {
    "name": "ipython",
    "version": 3
   },
   "file_extension": ".py",
   "mimetype": "text/x-python",
   "name": "python",
   "nbconvert_exporter": "python",
   "pygments_lexer": "ipython3",
   "version": "3.13.3"
  }
 },
 "nbformat": 4,
 "nbformat_minor": 2
}
