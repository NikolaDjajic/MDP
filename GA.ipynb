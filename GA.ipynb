{
 "cells": [
  {
   "cell_type": "code",
   "execution_count": 1,
   "metadata": {},
   "outputs": [],
   "source": [
    "import random\n",
    "import networkx as nx\n",
    "import itertools"
   ]
  },
  {
   "cell_type": "code",
   "execution_count": 2,
   "metadata": {},
   "outputs": [],
   "source": [
    "def load_gcol(file_path):\n",
    "    G = nx.Graph() \n",
    "\n",
    "    with open(file_path, \"r\") as file:\n",
    "        for line in file:\n",
    "            parts = line.split()\n",
    "            if parts[0] == 'e':\n",
    "                node1 = int(parts[1]) \n",
    "                node2 = int(parts[2])  \n",
    "                G.add_edge(node1, node2) \n",
    "    return G"
   ]
  },
  {
   "cell_type": "code",
   "execution_count": 3,
   "metadata": {},
   "outputs": [],
   "source": [
    "def generate_population(size,G):\n",
    "    return [[random.randint(0, 1) for _ in range(len(G.nodes))] for _ in range(size)]"
   ]
  },
  {
   "cell_type": "code",
   "execution_count": 5,
   "metadata": {},
   "outputs": [],
   "source": [
    "def fitness(individual, G, shortest_paths):\n",
    "    resolving_set = {i for i, bit in enumerate(individual) if bit == 1}\n",
    "\n",
    "    if not resolving_set:  # Ako je skup prazan, penalizacija\n",
    "        return float(\"inf\")\n",
    "\n",
    "    unresolved_pairs = 0\n",
    "    for u, v in itertools.combinations(G.nodes, 2):\n",
    "        if not any(abs(shortest_paths[u][j] - shortest_paths[v][j]) > 0 for j in resolving_set if j in shortest_paths[u]):\n",
    "            unresolved_pairs += 1  # Par (u, v) nije razrešen\n",
    "\n",
    "    return len(resolving_set) + 100 * unresolved_pairs  # Penalizacija nerešenih parova"
   ]
  },
  {
   "cell_type": "code",
   "execution_count": 6,
   "metadata": {},
   "outputs": [],
   "source": [
    "def tournament_selection(population, G, k=3):\n",
    "    selected = random.sample(population, k)\n",
    "    return min(selected, key=lambda ind: fitness(ind, G))"
   ]
  },
  {
   "cell_type": "code",
   "execution_count": 7,
   "metadata": {},
   "outputs": [],
   "source": [
    "def weighted_selection(population, G,shortest_paths):\n",
    "    fitness_values = [1 / (1 + fitness(ind, G,shortest_paths)) for ind in population]  # Inverzija jer tražimo minimu\n",
    "    return random.choices(population, weights=fitness_values, k=2)  # Bira 2 roditelja"
   ]
  },
  {
   "cell_type": "code",
   "execution_count": 8,
   "metadata": {},
   "outputs": [],
   "source": [
    "def crossover(parent1, parent2,G ):\n",
    "    point = random.randint(1, len(G.nodes) - 1)\n",
    "    return parent1[:point] + parent2[point:], parent2[:point] + parent1[point:]"
   ]
  },
  {
   "cell_type": "code",
   "execution_count": 9,
   "metadata": {},
   "outputs": [],
   "source": [
    "def mutate(individual, mutation_rate=0.05):\n",
    "    return [bit if random.random() > mutation_rate else 1 - bit for bit in individual]"
   ]
  },
  {
   "cell_type": "code",
   "execution_count": 10,
   "metadata": {},
   "outputs": [],
   "source": [
    "def genetic_algorithm(G,shortest_paths,pop_size=100, generations=200, crossover_rate=0.7, mutation_rate=0.1):\n",
    "    population = generate_population(pop_size,G)\n",
    "    \n",
    "    for gen in range(generations):\n",
    "        new_population = []\n",
    "      \n",
    "        for _ in range(pop_size // 2):\n",
    "            # parent1 = tournament_selection(population,G)\n",
    "            # parent2 = tournament_selection(population,G)\n",
    "            parent1, parent2 = weighted_selection(population, G,shortest_paths)            \n",
    "            # Ukrštanje\n",
    "            if random.random() < crossover_rate:\n",
    "                child1, child2 = crossover(parent1, parent2,G)\n",
    "            else:\n",
    "                child1, child2 = parent1, parent2\n",
    "            \n",
    "            # Mutacija\n",
    "            child1 = mutate(child1, mutation_rate)\n",
    "            child2 = mutate(child2, mutation_rate)\n",
    "\n",
    "            new_population.extend([child1, child2])\n",
    "\n",
    "        population = new_population\n",
    "        \n",
    "        # Pronalazak najbolje jedinke\n",
    "        best_solution = min(population, key=lambda ind: fitness(ind, G,shortest_paths))\n",
    "        best_fitness = fitness(best_solution,G,shortest_paths)\n",
    "\n",
    "        print(f\"Generacija {gen+1}, Najbolji fitnes: {best_fitness}\")\n",
    "\n",
    "       \n",
    "\n",
    "    # Prikaz optimalnog rešenja\n",
    "    optimal_set = {i for i, bit in enumerate(best_solution) if bit == 1}\n",
    "    print(\"\\nOptimalni rešavajući skup:\", optimal_set)\n",
    "    return optimal_set"
   ]
  },
  {
   "cell_type": "code",
   "execution_count": 11,
   "metadata": {},
   "outputs": [
    {
     "name": "stderr",
     "output_type": "stream",
     "text": [
      "<>:2: SyntaxWarning: invalid escape sequence '\\g'\n",
      "<>:2: SyntaxWarning: invalid escape sequence '\\g'\n",
      "C:\\Users\\pc\\AppData\\Local\\Temp\\ipykernel_14016\\4233301167.py:2: SyntaxWarning: invalid escape sequence '\\g'\n",
      "  G = load_gcol('grafovi\\gcol\\gcol1.txt')\n"
     ]
    },
    {
     "name": "stdout",
     "output_type": "stream",
     "text": [
      "Generacija 1, Najbolji fitnes: 30\n",
      "Generacija 2, Najbolji fitnes: 39\n",
      "Generacija 3, Najbolji fitnes: 35\n"
     ]
    },
    {
     "name": "stderr",
     "output_type": "stream",
     "text": [
      "C:\\Users\\pc\\AppData\\Local\\Temp\\ipykernel_14016\\4233301167.py:2: SyntaxWarning: invalid escape sequence '\\g'\n",
      "  G = load_gcol('grafovi\\gcol\\gcol1.txt')\n"
     ]
    },
    {
     "ename": "KeyboardInterrupt",
     "evalue": "",
     "output_type": "error",
     "traceback": [
      "\u001b[1;31m---------------------------------------------------------------------------\u001b[0m",
      "\u001b[1;31mKeyboardInterrupt\u001b[0m                         Traceback (most recent call last)",
      "Cell \u001b[1;32mIn[11], line 9\u001b[0m\n\u001b[0;32m      3\u001b[0m \u001b[38;5;66;03m# G = nx.Graph()\u001b[39;00m\n\u001b[0;32m      4\u001b[0m \u001b[38;5;66;03m# G.add_edges_from([(1,2),(1,3),(1,5),(1,6),(2,4),(2,6),(3,5),(3,4),(4,5),(4,6),(5,6)])\u001b[39;00m\n\u001b[0;32m      6\u001b[0m shortest_paths \u001b[38;5;241m=\u001b[39m \u001b[38;5;28mdict\u001b[39m(nx\u001b[38;5;241m.\u001b[39mall_pairs_shortest_path_length(G))  \u001b[38;5;66;03m# Svi putevi između svih parova\u001b[39;00m\n\u001b[1;32m----> 9\u001b[0m \u001b[43mgenetic_algorithm\u001b[49m\u001b[43m(\u001b[49m\u001b[43mG\u001b[49m\u001b[43m,\u001b[49m\u001b[43mshortest_paths\u001b[49m\u001b[43m)\u001b[49m\n",
      "Cell \u001b[1;32mIn[10], line 10\u001b[0m, in \u001b[0;36mgenetic_algorithm\u001b[1;34m(G, shortest_paths, pop_size, generations, crossover_rate, mutation_rate)\u001b[0m\n\u001b[0;32m      5\u001b[0m new_population \u001b[38;5;241m=\u001b[39m []\n\u001b[0;32m      7\u001b[0m \u001b[38;5;28;01mfor\u001b[39;00m _ \u001b[38;5;129;01min\u001b[39;00m \u001b[38;5;28mrange\u001b[39m(pop_size \u001b[38;5;241m/\u001b[39m\u001b[38;5;241m/\u001b[39m \u001b[38;5;241m2\u001b[39m):\n\u001b[0;32m      8\u001b[0m     \u001b[38;5;66;03m# parent1 = tournament_selection(population,G)\u001b[39;00m\n\u001b[0;32m      9\u001b[0m     \u001b[38;5;66;03m# parent2 = tournament_selection(population,G)\u001b[39;00m\n\u001b[1;32m---> 10\u001b[0m     parent1, parent2 \u001b[38;5;241m=\u001b[39m \u001b[43mweighted_selection\u001b[49m\u001b[43m(\u001b[49m\u001b[43mpopulation\u001b[49m\u001b[43m,\u001b[49m\u001b[43m \u001b[49m\u001b[43mG\u001b[49m\u001b[43m,\u001b[49m\u001b[43mshortest_paths\u001b[49m\u001b[43m)\u001b[49m            \n\u001b[0;32m     11\u001b[0m     \u001b[38;5;66;03m# Ukrštanje\u001b[39;00m\n\u001b[0;32m     12\u001b[0m     \u001b[38;5;28;01mif\u001b[39;00m random\u001b[38;5;241m.\u001b[39mrandom() \u001b[38;5;241m<\u001b[39m crossover_rate:\n",
      "Cell \u001b[1;32mIn[7], line 2\u001b[0m, in \u001b[0;36mweighted_selection\u001b[1;34m(population, G, shortest_paths)\u001b[0m\n\u001b[0;32m      1\u001b[0m \u001b[38;5;28;01mdef\u001b[39;00m \u001b[38;5;21mweighted_selection\u001b[39m(population, G,shortest_paths):\n\u001b[1;32m----> 2\u001b[0m     fitness_values \u001b[38;5;241m=\u001b[39m [\u001b[38;5;241m1\u001b[39m \u001b[38;5;241m/\u001b[39m (\u001b[38;5;241m1\u001b[39m \u001b[38;5;241m+\u001b[39m \u001b[43mfitness\u001b[49m\u001b[43m(\u001b[49m\u001b[43mind\u001b[49m\u001b[43m,\u001b[49m\u001b[43m \u001b[49m\u001b[43mG\u001b[49m\u001b[43m,\u001b[49m\u001b[43mshortest_paths\u001b[49m\u001b[43m)\u001b[49m) \u001b[38;5;28;01mfor\u001b[39;00m ind \u001b[38;5;129;01min\u001b[39;00m population]  \u001b[38;5;66;03m# Inverzija jer tražimo minimu\u001b[39;00m\n\u001b[0;32m      3\u001b[0m     \u001b[38;5;28;01mreturn\u001b[39;00m random\u001b[38;5;241m.\u001b[39mchoices(population, weights\u001b[38;5;241m=\u001b[39mfitness_values, k\u001b[38;5;241m=\u001b[39m\u001b[38;5;241m2\u001b[39m)\n",
      "Cell \u001b[1;32mIn[5], line 9\u001b[0m, in \u001b[0;36mfitness\u001b[1;34m(individual, G, shortest_paths)\u001b[0m\n\u001b[0;32m      7\u001b[0m unresolved_pairs \u001b[38;5;241m=\u001b[39m \u001b[38;5;241m0\u001b[39m\n\u001b[0;32m      8\u001b[0m \u001b[38;5;28;01mfor\u001b[39;00m u, v \u001b[38;5;129;01min\u001b[39;00m itertools\u001b[38;5;241m.\u001b[39mcombinations(G\u001b[38;5;241m.\u001b[39mnodes, \u001b[38;5;241m2\u001b[39m):\n\u001b[1;32m----> 9\u001b[0m     \u001b[38;5;28;01mif\u001b[39;00m \u001b[38;5;129;01mnot\u001b[39;00m \u001b[38;5;28many\u001b[39m(\u001b[38;5;28mabs\u001b[39m(shortest_paths[u][j] \u001b[38;5;241m-\u001b[39m shortest_paths[v][j]) \u001b[38;5;241m>\u001b[39m \u001b[38;5;241m0\u001b[39m \u001b[38;5;28;01mfor\u001b[39;00m j \u001b[38;5;129;01min\u001b[39;00m resolving_set \u001b[38;5;28;01mif\u001b[39;00m j \u001b[38;5;129;01min\u001b[39;00m shortest_paths[u]):\n\u001b[0;32m     10\u001b[0m         unresolved_pairs \u001b[38;5;241m+\u001b[39m\u001b[38;5;241m=\u001b[39m \u001b[38;5;241m1\u001b[39m  \u001b[38;5;66;03m# Par (u, v) nije razrešen\u001b[39;00m\n\u001b[0;32m     12\u001b[0m \u001b[38;5;28;01mreturn\u001b[39;00m \u001b[38;5;28mlen\u001b[39m(resolving_set) \u001b[38;5;241m+\u001b[39m \u001b[38;5;241m100\u001b[39m \u001b[38;5;241m*\u001b[39m unresolved_pairs\n",
      "\u001b[1;31mKeyboardInterrupt\u001b[0m: "
     ]
    }
   ],
   "source": [
    "# G = nx.petersen_graph()\n",
    "G = load_gcol('grafovi\\gcol\\gcol1.txt')\n",
    "# G = nx.Graph()\n",
    "# G.add_edges_from([(1,2),(1,3),(1,5),(1,6),(2,4),(2,6),(3,5),(3,4),(4,5),(4,6),(5,6)])\n",
    "\n",
    "shortest_paths = dict(nx.all_pairs_shortest_path_length(G))  # Svi putevi između svih parova\n",
    "\n",
    "\n",
    "genetic_algorithm(G,shortest_paths)"
   ]
  }
 ],
 "metadata": {
  "kernelspec": {
   "display_name": "Python 3",
   "language": "python",
   "name": "python3"
  },
  "language_info": {
   "codemirror_mode": {
    "name": "ipython",
    "version": 3
   },
   "file_extension": ".py",
   "mimetype": "text/x-python",
   "name": "python",
   "nbconvert_exporter": "python",
   "pygments_lexer": "ipython3",
   "version": "3.12.0"
  }
 },
 "nbformat": 4,
 "nbformat_minor": 2
}
