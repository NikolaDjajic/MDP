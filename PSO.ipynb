{
 "cells": [
  {
   "cell_type": "code",
   "execution_count": 1,
   "metadata": {},
   "outputs": [],
   "source": [
    "import random\n",
    "import networkx as nx\n",
    "import itertools"
   ]
  },
  {
   "cell_type": "code",
   "execution_count": 2,
   "metadata": {},
   "outputs": [],
   "source": [
    "def load_graph_from_file(file_path):\n",
    "    G = nx.Graph() \n",
    "\n",
    "    with open(file_path, \"r\") as file:\n",
    "        for line in file:\n",
    "            parts = line.split()\n",
    "            if parts[0] == 'e':\n",
    "                node1 = int(parts[1]) \n",
    "                node2 = int(parts[2])  \n",
    "                G.add_edge(node1, node2) \n",
    "    return G"
   ]
  },
  {
   "cell_type": "code",
   "execution_count": 3,
   "metadata": {},
   "outputs": [],
   "source": [
    "def is_resolving_set(B, G):\n",
    "    distances = {}\n",
    "    for v in G.nodes:\n",
    "        distances[v] = [nx.shortest_path_length(G, v, u) for u in B]\n",
    "    \n",
    "    for v1, v2 in itertools.combinations(G.nodes, 2):\n",
    "        if distances[v1] == distances[v2]:\n",
    "            return False\n",
    "    return True"
   ]
  },
  {
   "cell_type": "code",
   "execution_count": 4,
   "metadata": {},
   "outputs": [],
   "source": [
    "def fitness(resolving_set, G):\n",
    "    unresolved_pairs = 0\n",
    "    node_list = list(G.nodes)  # Pravi čvorovi iz grafa\n",
    "\n",
    "    resolving_set = {node_list[i] for i in resolving_set if i < len(node_list)}  # Sigurno mapiranje\n",
    "\n",
    "    for u, v in itertools.combinations(G.nodes, 2):\n",
    "        if not any(abs(nx.shortest_path_length(G, u, j) - nx.shortest_path_length(G, v, j)) > 0 for j in resolving_set):\n",
    "            unresolved_pairs += 1  # Par (u, v) nije razrešen\n",
    "\n",
    "    return len(resolving_set) + 100 * unresolved_pairs  # Penalizacija nerešenih parova\n"
   ]
  },
  {
   "cell_type": "code",
   "execution_count": 5,
   "metadata": {},
   "outputs": [],
   "source": [
    "def initialize_particles(num_particles, n):\n",
    "    particles = []\n",
    "    velocities = []\n",
    "    \n",
    "    for _ in range(num_particles):\n",
    "        particle = [random.randint(0, 1) for _ in range(n)]  # Binarni niz\n",
    "        velocity = [random.uniform(-1, 1) for _ in range(n)]  # Brzina svake komponente\n",
    "        particles.append(particle)\n",
    "        velocities.append(velocity)\n",
    "    \n",
    "    return particles, velocities"
   ]
  },
  {
   "cell_type": "code",
   "execution_count": 6,
   "metadata": {},
   "outputs": [],
   "source": [
    "def update_particle(particle, velocity, pBest, gBest, w, c1, c2):\n",
    "    new_velocity = []\n",
    "    new_particle = []\n",
    "\n",
    "    for i in range(len(particle)):\n",
    "        r1 = random.random()\n",
    "        r2 = random.random()\n",
    "\n",
    "        # Ažuriranje brzine\n",
    "        v_new = w * velocity[i] + c1 * r1 * (pBest[i] - particle[i]) + c2 * r2 * (gBest[i] - particle[i])\n",
    "        new_velocity.append(v_new)\n",
    "\n",
    "        # Sigmoidna aktivacija za binarni PSO\n",
    "        prob = 1 / (1 + pow(2.718, -v_new))  # Sigmoidna funkcija\n",
    "        new_particle.append(1 if random.random() < prob else 0)  # Konvertovanje u 0 ili 1\n",
    "    \n",
    "    return new_particle, new_velocity"
   ]
  },
  {
   "cell_type": "code",
   "execution_count": 7,
   "metadata": {},
   "outputs": [],
   "source": [
    "def particle_swarm_optimization(G, num_particles, num_iterations, w, c1, c2):\n",
    "    node_list = list(G.nodes)  # Pravi čvorovi iz grafa\n",
    "\n",
    "    particles, velocities = initialize_particles(num_particles, len(node_list))\n",
    "    pBest = particles[:]  # Najbolje pojedinačne pozicije\n",
    "    pBest_fitness = [fitness({i for i, bit in enumerate(p) if bit == 1 and i < len(node_list)}, G) for p in particles]\n",
    "\n",
    "    # Pronalazak početnog gBest\n",
    "    gBest = particles[pBest_fitness.index(min(pBest_fitness))]\n",
    "    gBest_fitness = min(pBest_fitness)\n",
    "\n",
    "    for iteration in range(num_iterations):\n",
    "        for i in range(num_particles):\n",
    "            # Ažuriranje čestica\n",
    "            particles[i], velocities[i] = update_particle(particles[i], velocities[i], pBest[i], gBest, w, c1, c2)\n",
    "            current_fitness = fitness({i for i, bit in enumerate(particles[i]) if bit == 1 and i < len(node_list)}, G)\n",
    "\n",
    "            # Ažuriranje pBest\n",
    "            if current_fitness < pBest_fitness[i]:\n",
    "                pBest[i] = particles[i]\n",
    "                pBest_fitness[i] = current_fitness\n",
    "\n",
    "        # Ažuriranje gBest\n",
    "        best_particle_index = pBest_fitness.index(min(pBest_fitness))\n",
    "        if pBest_fitness[best_particle_index] < gBest_fitness:\n",
    "            gBest = pBest[best_particle_index]\n",
    "            gBest_fitness = pBest_fitness[best_particle_index]\n",
    "\n",
    "        print(f\"Iteracija {iteration+1}, Najbolji fitnes: {gBest_fitness}\")\n",
    "\n",
    "        # Ako nema nerešenih parova, završavamo pre roka\n",
    "        if gBest_fitness < 100:\n",
    "            break\n",
    "\n",
    "    # Prikaz rezultata\n",
    "    optimal_set = {node_list[i] for i, bit in enumerate(gBest) if bit == 1 and i < len(node_list)}\n",
    "    print(\"\\nOptimalni rešavajući skup:\", optimal_set)\n",
    "    return optimal_set"
   ]
  },
  {
   "cell_type": "code",
   "execution_count": 8,
   "metadata": {},
   "outputs": [
    {
     "name": "stderr",
     "output_type": "stream",
     "text": [
      "<>:6: SyntaxWarning: invalid escape sequence '\\g'\n",
      "<>:6: SyntaxWarning: invalid escape sequence '\\g'\n",
      "C:\\Users\\pc\\AppData\\Local\\Temp\\ipykernel_8628\\4005229057.py:6: SyntaxWarning: invalid escape sequence '\\g'\n",
      "  G = load_graph_from_file('grafovi\\gcol1.txt')\n"
     ]
    },
    {
     "name": "stdout",
     "output_type": "stream",
     "text": [
      "Iteracija 1, Najbolji fitnes: 39\n",
      "\n",
      "Optimalni rešavajući skup: {2, 3, 6, 11, 12, 17, 23, 26, 27, 30, 34, 36, 38, 41, 42, 44, 46, 65, 66, 67, 69, 70, 71, 72, 73, 74, 80, 84, 85, 86, 87, 88, 90, 91, 92, 97, 98, 99, 100}\n",
      "True\n"
     ]
    }
   ],
   "source": [
    "# G = nx.petersen_graph()\n",
    "\n",
    "# G = nx.Graph()\n",
    "# G.add_edges_from([(1,2),(1,3),(1,5),(1,6),(2,4),(2,6),(3,5),(3,4),(4,5),(4,6),(5,6)])\n",
    "\n",
    "G = load_graph_from_file('grafovi\\gcol1.txt')\n",
    "\n",
    "n = len(G.nodes)\n",
    "\n",
    "# Parametri PSO algoritma\n",
    "num_particles = 30  # Broj čestica\n",
    "num_iterations = 100  # Broj iteracija\n",
    "w = 0.7  # Inercijalni faktor\n",
    "c1 = 1.5  # Koeficijent ubrzanja ka pBest\n",
    "c2 = 1.5  # Koeficijent ubrzanja ka gBest\n",
    "\n",
    "rez = particle_swarm_optimization(G, num_particles, num_iterations, w, c1, c2)\n",
    "print(is_resolving_set(rez,G))"
   ]
  }
 ],
 "metadata": {
  "kernelspec": {
   "display_name": "Python 3",
   "language": "python",
   "name": "python3"
  },
  "language_info": {
   "codemirror_mode": {
    "name": "ipython",
    "version": 3
   },
   "file_extension": ".py",
   "mimetype": "text/x-python",
   "name": "python",
   "nbconvert_exporter": "python",
   "pygments_lexer": "ipython3",
   "version": "3.12.0"
  }
 },
 "nbformat": 4,
 "nbformat_minor": 2
}
