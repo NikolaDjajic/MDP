{
 "cells": [
  {
   "cell_type": "code",
   "execution_count": 1,
   "metadata": {},
   "outputs": [],
   "source": [
    "import random\n",
    "import networkx as nx\n",
    "import itertools"
   ]
  },
  {
   "cell_type": "code",
   "execution_count": 2,
   "metadata": {},
   "outputs": [],
   "source": [
    "def load_graph(file_path):\n",
    "    G = nx.Graph() \n",
    "\n",
    "    with open(file_path, \"r\") as file:\n",
    "        for line in file:\n",
    "            parts = line.split()\n",
    "            \n",
    "            node1 = int(parts[0]) \n",
    "            node2 = int(parts[1])  \n",
    "            G.add_edge(node1, node2) \n",
    "    return G"
   ]
  },
  {
   "cell_type": "code",
   "execution_count": 3,
   "metadata": {},
   "outputs": [],
   "source": [
    "def load_gcol(file_path):\n",
    "    G = nx.Graph() \n",
    "\n",
    "    with open(file_path, \"r\") as file:\n",
    "        for line in file:\n",
    "            parts = line.split()\n",
    "            if parts[0] == 'e':\n",
    "                node1 = int(parts[1]) \n",
    "                node2 = int(parts[2])  \n",
    "                G.add_edge(node1, node2) \n",
    "    return G"
   ]
  },
  {
   "cell_type": "code",
   "execution_count": 4,
   "metadata": {},
   "outputs": [],
   "source": [
    "def is_resolving_set(B, G):\n",
    "    distances = {}\n",
    "    for v in G.nodes:\n",
    "        distances[v] = [nx.shortest_path_length(G, v, u) for u in B]\n",
    "    \n",
    "    for v1, v2 in itertools.combinations(G.nodes, 2):\n",
    "        if distances[v1] == distances[v2]:\n",
    "            return False\n",
    "    return True"
   ]
  },
  {
   "cell_type": "code",
   "execution_count": 5,
   "metadata": {},
   "outputs": [],
   "source": [
    "def fitness(resolving_set, G,shortest_paths):\n",
    "    unresolved_pairs = 0\n",
    "    node_list = list(G.nodes)  # Pravi čvorovi iz grafa\n",
    "\n",
    "    resolving_set = {node_list[i] for i in resolving_set if i < len(node_list)}  # Sigurno mapiranje\n",
    "\n",
    "    for u, v in itertools.combinations(G.nodes, 2):\n",
    "        if not any(abs(shortest_paths[u][j] - shortest_paths[v][j]) > 0 for j in resolving_set if j in shortest_paths[u]):\n",
    "            unresolved_pairs += 1  # Par (u, v) nije razrešen\n",
    "\n",
    "    return len(resolving_set) + 100 * unresolved_pairs  # Penalizacija nerešenih parova\n"
   ]
  },
  {
   "cell_type": "code",
   "execution_count": 6,
   "metadata": {},
   "outputs": [],
   "source": [
    "def initialize_particles(num_particles, n):\n",
    "    particles = []\n",
    "    velocities = []\n",
    "    \n",
    "    for _ in range(num_particles):\n",
    "        particle = [random.randint(0, 1) for _ in range(n)]  # Binarni niz\n",
    "        velocity = [random.uniform(-1, 1) for _ in range(n)]  # Brzina svake komponente\n",
    "        particles.append(particle)\n",
    "        velocities.append(velocity)\n",
    "    \n",
    "    return particles, velocities"
   ]
  },
  {
   "cell_type": "code",
   "execution_count": 7,
   "metadata": {},
   "outputs": [],
   "source": [
    "def update_particle(particle, velocity, pBest, gBest, w, c1, c2):\n",
    "    new_velocity = []\n",
    "    new_particle = []\n",
    "\n",
    "    for i in range(len(particle)):\n",
    "        r1 = random.random()\n",
    "        r2 = random.random()\n",
    "\n",
    "        # Ažuriranje brzine\n",
    "        v_new = w * velocity[i] + c1 * r1 * (pBest[i] - particle[i]) + c2 * r2 * (gBest[i] - particle[i])\n",
    "        new_velocity.append(v_new)\n",
    "\n",
    "        # Sigmoidna aktivacija za binarni PSO\n",
    "        prob = 1 / (1 + pow(2.718, -v_new))  # Sigmoidna funkcija\n",
    "        new_particle.append(1 if random.random() < prob else 0)  # Konvertovanje u 0 ili 1\n",
    "    \n",
    "    return new_particle, new_velocity"
   ]
  },
  {
   "cell_type": "code",
   "execution_count": 8,
   "metadata": {},
   "outputs": [],
   "source": [
    "def particle_swarm_optimization(G, num_particles, num_iterations, w, c1, c2,shortest_paths):\n",
    "    node_list = list(G.nodes) \n",
    "\n",
    "    particles, velocities = initialize_particles(num_particles, len(node_list))\n",
    "    pBest = particles[:]  # Najbolje pojedinačne pozicije\n",
    "    pBest_fitness = [fitness({i for i, bit in enumerate(p) if bit == 1 and i < len(node_list)}, G,shortest_paths) for p in particles]\n",
    "\n",
    "    # Pronalazak početnog gBest\n",
    "    gBest = particles[pBest_fitness.index(min(pBest_fitness))]\n",
    "    gBest_fitness = min(pBest_fitness)\n",
    "\n",
    "    for iteration in range(num_iterations):\n",
    "        for i in range(num_particles):\n",
    "            # Ažuriranje čestica\n",
    "            particles[i], velocities[i] = update_particle(particles[i], velocities[i], pBest[i], gBest, w, c1, c2)\n",
    "            current_fitness = fitness({i for i, bit in enumerate(particles[i]) if bit == 1 and i < len(node_list)}, G,shortest_paths)\n",
    "\n",
    "            # Ažuriranje pBest\n",
    "            if current_fitness < pBest_fitness[i]:\n",
    "                pBest[i] = particles[i]\n",
    "                pBest_fitness[i] = current_fitness\n",
    "\n",
    "        # Ažuriranje gBest\n",
    "        best_particle_index = pBest_fitness.index(min(pBest_fitness))\n",
    "        if pBest_fitness[best_particle_index] < gBest_fitness:\n",
    "            gBest = pBest[best_particle_index]\n",
    "            gBest_fitness = pBest_fitness[best_particle_index]\n",
    "\n",
    "        print(f\"Iteracija {iteration+1}, Najbolji fitnes: {gBest_fitness}\")\n",
    "\n",
    "\n",
    "    optimal_set = {node_list[i] for i, bit in enumerate(gBest) if bit == 1 and i < len(node_list)}\n",
    "    print(\"\\nOptimalni rešavajući skup:\", optimal_set)\n",
    "    return optimal_set"
   ]
  },
  {
   "cell_type": "code",
   "execution_count": 9,
   "metadata": {},
   "outputs": [
    {
     "name": "stderr",
     "output_type": "stream",
     "text": [
      "<>:6: SyntaxWarning: invalid escape sequence '\\g'\n",
      "<>:6: SyntaxWarning: invalid escape sequence '\\g'\n",
      "C:\\Users\\Korisnik\\AppData\\Local\\Temp\\ipykernel_176564\\3200427051.py:6: SyntaxWarning: invalid escape sequence '\\g'\n",
      "  G = load_gcol('grafovi\\gcol\\gcol14.txt')\n"
     ]
    },
    {
     "name": "stdout",
     "output_type": "stream",
     "text": [
      "Iteracija 1, Najbolji fitnes: 35\n",
      "Iteracija 2, Najbolji fitnes: 34\n",
      "Iteracija 3, Najbolji fitnes: 28\n",
      "Iteracija 4, Najbolji fitnes: 28\n",
      "Iteracija 5, Najbolji fitnes: 27\n",
      "Iteracija 6, Najbolji fitnes: 27\n",
      "Iteracija 7, Najbolji fitnes: 25\n",
      "Iteracija 8, Najbolji fitnes: 25\n",
      "Iteracija 9, Najbolji fitnes: 25\n",
      "Iteracija 10, Najbolji fitnes: 24\n",
      "Iteracija 11, Najbolji fitnes: 24\n",
      "Iteracija 12, Najbolji fitnes: 24\n",
      "Iteracija 13, Najbolji fitnes: 23\n",
      "Iteracija 14, Najbolji fitnes: 23\n",
      "Iteracija 15, Najbolji fitnes: 23\n",
      "Iteracija 16, Najbolji fitnes: 23\n",
      "Iteracija 17, Najbolji fitnes: 22\n",
      "Iteracija 18, Najbolji fitnes: 22\n",
      "Iteracija 19, Najbolji fitnes: 22\n",
      "Iteracija 20, Najbolji fitnes: 22\n",
      "Iteracija 21, Najbolji fitnes: 22\n",
      "Iteracija 22, Najbolji fitnes: 22\n",
      "Iteracija 23, Najbolji fitnes: 22\n",
      "Iteracija 24, Najbolji fitnes: 22\n",
      "Iteracija 25, Najbolji fitnes: 22\n",
      "Iteracija 26, Najbolji fitnes: 22\n",
      "Iteracija 27, Najbolji fitnes: 22\n",
      "Iteracija 28, Najbolji fitnes: 22\n",
      "Iteracija 29, Najbolji fitnes: 22\n",
      "Iteracija 30, Najbolji fitnes: 22\n",
      "Iteracija 31, Najbolji fitnes: 22\n",
      "Iteracija 32, Najbolji fitnes: 22\n",
      "Iteracija 33, Najbolji fitnes: 22\n",
      "Iteracija 34, Najbolji fitnes: 22\n",
      "Iteracija 35, Najbolji fitnes: 22\n",
      "Iteracija 36, Najbolji fitnes: 22\n",
      "Iteracija 37, Najbolji fitnes: 22\n"
     ]
    },
    {
     "name": "stderr",
     "output_type": "stream",
     "text": [
      "C:\\Users\\Korisnik\\AppData\\Local\\Temp\\ipykernel_176564\\3200427051.py:6: SyntaxWarning: invalid escape sequence '\\g'\n",
      "  G = load_gcol('grafovi\\gcol\\gcol14.txt')\n"
     ]
    },
    {
     "ename": "KeyboardInterrupt",
     "evalue": "",
     "output_type": "error",
     "traceback": [
      "\u001b[31m---------------------------------------------------------------------------\u001b[39m",
      "\u001b[31mKeyboardInterrupt\u001b[39m                         Traceback (most recent call last)",
      "\u001b[36mCell\u001b[39m\u001b[36m \u001b[39m\u001b[32mIn[9]\u001b[39m\u001b[32m, line 20\u001b[39m\n\u001b[32m     15\u001b[39m c2 = \u001b[32m1.5\u001b[39m \u001b[38;5;66;03m# Koeficijent ubrzanja ka gBest\u001b[39;00m\n\u001b[32m     17\u001b[39m shortest_paths = \u001b[38;5;28mdict\u001b[39m(nx.all_pairs_shortest_path_length(G)) \n\u001b[32m---> \u001b[39m\u001b[32m20\u001b[39m rez = \u001b[43mparticle_swarm_optimization\u001b[49m\u001b[43m(\u001b[49m\u001b[43mG\u001b[49m\u001b[43m,\u001b[49m\u001b[43m \u001b[49m\u001b[43mnum_particles\u001b[49m\u001b[43m,\u001b[49m\u001b[43m \u001b[49m\u001b[43mnum_iterations\u001b[49m\u001b[43m,\u001b[49m\u001b[43m \u001b[49m\u001b[43mw\u001b[49m\u001b[43m,\u001b[49m\u001b[43m \u001b[49m\u001b[43mc1\u001b[49m\u001b[43m,\u001b[49m\u001b[43m \u001b[49m\u001b[43mc2\u001b[49m\u001b[43m,\u001b[49m\u001b[43mshortest_paths\u001b[49m\u001b[43m)\u001b[49m\n\u001b[32m     21\u001b[39m \u001b[38;5;28mprint\u001b[39m(is_resolving_set(rez,G))\n",
      "\u001b[36mCell\u001b[39m\u001b[36m \u001b[39m\u001b[32mIn[8]\u001b[39m\u001b[32m, line 16\u001b[39m, in \u001b[36mparticle_swarm_optimization\u001b[39m\u001b[34m(G, num_particles, num_iterations, w, c1, c2, shortest_paths)\u001b[39m\n\u001b[32m     13\u001b[39m \u001b[38;5;28;01mfor\u001b[39;00m i \u001b[38;5;129;01min\u001b[39;00m \u001b[38;5;28mrange\u001b[39m(num_particles):\n\u001b[32m     14\u001b[39m     \u001b[38;5;66;03m# Ažuriranje čestica\u001b[39;00m\n\u001b[32m     15\u001b[39m     particles[i], velocities[i] = update_particle(particles[i], velocities[i], pBest[i], gBest, w, c1, c2)\n\u001b[32m---> \u001b[39m\u001b[32m16\u001b[39m     current_fitness = \u001b[43mfitness\u001b[49m\u001b[43m(\u001b[49m\u001b[43m{\u001b[49m\u001b[43mi\u001b[49m\u001b[43m \u001b[49m\u001b[38;5;28;43;01mfor\u001b[39;49;00m\u001b[43m \u001b[49m\u001b[43mi\u001b[49m\u001b[43m,\u001b[49m\u001b[43m \u001b[49m\u001b[43mbit\u001b[49m\u001b[43m \u001b[49m\u001b[38;5;129;43;01min\u001b[39;49;00m\u001b[43m \u001b[49m\u001b[38;5;28;43menumerate\u001b[39;49m\u001b[43m(\u001b[49m\u001b[43mparticles\u001b[49m\u001b[43m[\u001b[49m\u001b[43mi\u001b[49m\u001b[43m]\u001b[49m\u001b[43m)\u001b[49m\u001b[43m \u001b[49m\u001b[38;5;28;43;01mif\u001b[39;49;00m\u001b[43m \u001b[49m\u001b[43mbit\u001b[49m\u001b[43m \u001b[49m\u001b[43m==\u001b[49m\u001b[43m \u001b[49m\u001b[32;43m1\u001b[39;49m\u001b[43m \u001b[49m\u001b[38;5;129;43;01mand\u001b[39;49;00m\u001b[43m \u001b[49m\u001b[43mi\u001b[49m\u001b[43m \u001b[49m\u001b[43m<\u001b[49m\u001b[43m \u001b[49m\u001b[38;5;28;43mlen\u001b[39;49m\u001b[43m(\u001b[49m\u001b[43mnode_list\u001b[49m\u001b[43m)\u001b[49m\u001b[43m}\u001b[49m\u001b[43m,\u001b[49m\u001b[43m \u001b[49m\u001b[43mG\u001b[49m\u001b[43m,\u001b[49m\u001b[43mshortest_paths\u001b[49m\u001b[43m)\u001b[49m\n\u001b[32m     18\u001b[39m     \u001b[38;5;66;03m# Ažuriranje pBest\u001b[39;00m\n\u001b[32m     19\u001b[39m     \u001b[38;5;28;01mif\u001b[39;00m current_fitness < pBest_fitness[i]:\n",
      "\u001b[36mCell\u001b[39m\u001b[36m \u001b[39m\u001b[32mIn[5]\u001b[39m\u001b[32m, line 8\u001b[39m, in \u001b[36mfitness\u001b[39m\u001b[34m(resolving_set, G, shortest_paths)\u001b[39m\n\u001b[32m      5\u001b[39m resolving_set = {node_list[i] \u001b[38;5;28;01mfor\u001b[39;00m i \u001b[38;5;129;01min\u001b[39;00m resolving_set \u001b[38;5;28;01mif\u001b[39;00m i < \u001b[38;5;28mlen\u001b[39m(node_list)}  \u001b[38;5;66;03m# Sigurno mapiranje\u001b[39;00m\n\u001b[32m      7\u001b[39m \u001b[38;5;28;01mfor\u001b[39;00m u, v \u001b[38;5;129;01min\u001b[39;00m itertools.combinations(G.nodes, \u001b[32m2\u001b[39m):\n\u001b[32m----> \u001b[39m\u001b[32m8\u001b[39m     \u001b[38;5;28;01mif\u001b[39;00m \u001b[38;5;129;01mnot\u001b[39;00m \u001b[38;5;28;43many\u001b[39;49m\u001b[43m(\u001b[49m\u001b[38;5;28;43mabs\u001b[39;49m\u001b[43m(\u001b[49m\u001b[43mshortest_paths\u001b[49m\u001b[43m[\u001b[49m\u001b[43mu\u001b[49m\u001b[43m]\u001b[49m\u001b[43m[\u001b[49m\u001b[43mj\u001b[49m\u001b[43m]\u001b[49m\u001b[43m \u001b[49m\u001b[43m-\u001b[49m\u001b[43m \u001b[49m\u001b[43mshortest_paths\u001b[49m\u001b[43m[\u001b[49m\u001b[43mv\u001b[49m\u001b[43m]\u001b[49m\u001b[43m[\u001b[49m\u001b[43mj\u001b[49m\u001b[43m]\u001b[49m\u001b[43m)\u001b[49m\u001b[43m \u001b[49m\u001b[43m>\u001b[49m\u001b[43m \u001b[49m\u001b[32;43m0\u001b[39;49m\u001b[43m \u001b[49m\u001b[38;5;28;43;01mfor\u001b[39;49;00m\u001b[43m \u001b[49m\u001b[43mj\u001b[49m\u001b[43m \u001b[49m\u001b[38;5;129;43;01min\u001b[39;49;00m\u001b[43m \u001b[49m\u001b[43mresolving_set\u001b[49m\u001b[43m \u001b[49m\u001b[38;5;28;43;01mif\u001b[39;49;00m\u001b[43m \u001b[49m\u001b[43mj\u001b[49m\u001b[43m \u001b[49m\u001b[38;5;129;43;01min\u001b[39;49;00m\u001b[43m \u001b[49m\u001b[43mshortest_paths\u001b[49m\u001b[43m[\u001b[49m\u001b[43mu\u001b[49m\u001b[43m]\u001b[49m\u001b[43m)\u001b[49m:\n\u001b[32m      9\u001b[39m         unresolved_pairs += \u001b[32m1\u001b[39m  \u001b[38;5;66;03m# Par (u, v) nije razrešen\u001b[39;00m\n\u001b[32m     11\u001b[39m \u001b[38;5;28;01mreturn\u001b[39;00m \u001b[38;5;28mlen\u001b[39m(resolving_set) + \u001b[32m100\u001b[39m * unresolved_pairs\n",
      "\u001b[36mCell\u001b[39m\u001b[36m \u001b[39m\u001b[32mIn[5]\u001b[39m\u001b[32m, line 8\u001b[39m, in \u001b[36m<genexpr>\u001b[39m\u001b[34m(.0)\u001b[39m\n\u001b[32m      5\u001b[39m resolving_set = {node_list[i] \u001b[38;5;28;01mfor\u001b[39;00m i \u001b[38;5;129;01min\u001b[39;00m resolving_set \u001b[38;5;28;01mif\u001b[39;00m i < \u001b[38;5;28mlen\u001b[39m(node_list)}  \u001b[38;5;66;03m# Sigurno mapiranje\u001b[39;00m\n\u001b[32m      7\u001b[39m \u001b[38;5;28;01mfor\u001b[39;00m u, v \u001b[38;5;129;01min\u001b[39;00m itertools.combinations(G.nodes, \u001b[32m2\u001b[39m):\n\u001b[32m----> \u001b[39m\u001b[32m8\u001b[39m     \u001b[38;5;28;01mif\u001b[39;00m \u001b[38;5;129;01mnot\u001b[39;00m \u001b[38;5;28many\u001b[39m(\u001b[38;5;28mabs\u001b[39m(shortest_paths[u][j] - shortest_paths[v][j]) > \u001b[32m0\u001b[39m \u001b[38;5;28;01mfor\u001b[39;00m j \u001b[38;5;129;01min\u001b[39;00m resolving_set \u001b[38;5;28;01mif\u001b[39;00m j \u001b[38;5;129;01min\u001b[39;00m shortest_paths[u]):\n\u001b[32m      9\u001b[39m         unresolved_pairs += \u001b[32m1\u001b[39m  \u001b[38;5;66;03m# Par (u, v) nije razrešen\u001b[39;00m\n\u001b[32m     11\u001b[39m \u001b[38;5;28;01mreturn\u001b[39;00m \u001b[38;5;28mlen\u001b[39m(resolving_set) + \u001b[32m100\u001b[39m * unresolved_pairs\n",
      "\u001b[31mKeyboardInterrupt\u001b[39m: "
     ]
    }
   ],
   "source": [
    "# G = nx.petersen_graph()\n",
    "\n",
    "# G = nx.Graph()\n",
    "# G.add_edges_from([(1,2),(1,3),(1,5),(1,6),(2,4),(2,6),(3,5),(3,4),(4,5),(4,6),(5,6)])\n",
    "\n",
    "G = load_gcol('grafovi\\gcol\\gcol14.txt')\n",
    "\n",
    "n = len(G.nodes)\n",
    "\n",
    "# Parametri PSO algoritma\n",
    "num_particles = 500  # Broj čestica\n",
    "num_iterations = 500  # Broj iteracija\n",
    "w = 0.7  # Inercijalni faktor\n",
    "c1 = 0.5  # Koeficijent ubrzanja ka pBest\n",
    "c2 = 1.5 # Koeficijent ubrzanja ka gBest\n",
    "\n",
    "shortest_paths = dict(nx.all_pairs_shortest_path_length(G)) \n",
    "\n",
    "\n",
    "rez = particle_swarm_optimization(G, num_particles, num_iterations, w, c1, c2,shortest_paths)\n",
    "print(is_resolving_set(rez,G))"
   ]
  }
 ],
 "metadata": {
  "kernelspec": {
   "display_name": "Python 3",
   "language": "python",
   "name": "python3"
  },
  "language_info": {
   "codemirror_mode": {
    "name": "ipython",
    "version": 3
   },
   "file_extension": ".py",
   "mimetype": "text/x-python",
   "name": "python",
   "nbconvert_exporter": "python",
   "pygments_lexer": "ipython3",
   "version": "3.13.3"
  }
 },
 "nbformat": 4,
 "nbformat_minor": 2
}
